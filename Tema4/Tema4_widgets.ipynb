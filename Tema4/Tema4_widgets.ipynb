{
 "cells": [
  {
   "cell_type": "code",
   "execution_count": 1,
   "id": "86ef0418-be48-4738-8df7-7e8ef6268570",
   "metadata": {},
   "outputs": [],
   "source": [
    "# pip install autograd"
   ]
  },
  {
   "cell_type": "code",
   "execution_count": 2,
   "id": "c87a5c7d-2ebd-4907-b711-6e37dc21c243",
   "metadata": {},
   "outputs": [
    {
     "name": "stdout",
     "output_type": "stream",
     "text": [
      "IPywidgets version: 7.6.5\n",
      "NumPy version: 1.21.5\n",
      "Matplotlib version: 3.5.2\n",
      "Pandas version: 1.4.4\n"
     ]
    }
   ],
   "source": [
    "import ipywidgets as widgets\n",
    "print(f'IPywidgets version: {widgets.__version__}')\n",
    "\n",
    "import numpy as np\n",
    "print(f'NumPy version: {np.__version__}')\n",
    "\n",
    "import matplotlib.pyplot as plt\n",
    "import matplotlib\n",
    "print(f'Matplotlib version: {matplotlib.__version__}')\n",
    "\n",
    "import pandas as pd\n",
    "print(f'Pandas version: {pd.__version__}')\n",
    "\n",
    "from autograd import elementwise_grad as egrad\n",
    "from ipywidgets import interact, interactive, fixed, interact_manual, widgets"
   ]
  },
  {
   "cell_type": "markdown",
   "id": "720dc0d6-dfc1-44d0-8060-949eb344b3a4",
   "metadata": {},
   "source": [
    "# Ex 1\n",
    "Reprezentati functia $\\sin(k\\cdot x) \\cos(x)$ si derivata ei intr-un punct ales de catre utilizator; $k$ este de asemenea un punct ales de utilizator. Pentru calculul derivatei puteti folosi formula analitica sau biblioteca [autograd](https://github.com/HIPS/autograd)."
   ]
  },
  {
   "cell_type": "code",
   "execution_count": 3,
   "id": "7a08549f-a19d-42d4-96f8-7d269904956a",
   "metadata": {},
   "outputs": [],
   "source": [
    "import autograd.numpy as numpy"
   ]
  },
  {
   "cell_type": "code",
   "execution_count": 4,
   "id": "7e46726d-c1ed-45b2-a503-0d222db5faef",
   "metadata": {},
   "outputs": [],
   "source": [
    "def function(x: float, k: float) -> float:\n",
    "    \"\"\"\n",
    "    Computes the function sin(𝑘⋅𝑥)cos(𝑥) and returns its result.\n",
    "    \n",
    "    :param x: the given x parameter\n",
    "    :param k: the given k parameter\n",
    "    \n",
    "    :return: the function result\n",
    "    \"\"\"\n",
    "    return numpy.sin(k * x) * numpy.cos(x)\n",
    "\n",
    "grad_function = egrad(function)  "
   ]
  },
  {
   "cell_type": "code",
   "execution_count": 5,
   "id": "9ddcb969-a73b-45ae-bcca-4ab218aa3c77",
   "metadata": {},
   "outputs": [],
   "source": [
    "def graph_f_and_derived(x, k, left=-5., right=5.):\n",
    "    \"\"\"\n",
    "    Plots the function and its derived function in x and k.\n",
    "    \n",
    "    :param x: the chosen x\n",
    "    :param k: the chosen k\n",
    "    :param left: left margin \n",
    "    :param right: right margin\n",
    "    \n",
    "    :return: None\n",
    "    \"\"\"\n",
    "    x_range: np.ndarray = np.linspace(left, right, 50)\n",
    "    \n",
    "    fx:np.ndarray = function(x_range, k)\n",
    "    fdx: np.ndarray = grad_function(x_range, k)\n",
    "    \n",
    "    plt.figure(figsize=(5, 5))\n",
    "\n",
    "    plt.plot(x_range, fx, color='red')\n",
    "    plt.plot(x_range, fdx, color='blue')\n",
    "    \n",
    "    plt.scatter(x, function(x, k), color='red')\n",
    "    plt.scatter(x, grad_function(x, k), color='blue')    \n",
    "    "
   ]
  },
  {
   "cell_type": "code",
   "execution_count": 6,
   "id": "6944401f-d754-47ca-b010-4a89465de614",
   "metadata": {},
   "outputs": [
    {
     "data": {
      "application/vnd.jupyter.widget-view+json": {
       "model_id": "45b56b171754469d82dd08a9bf46f9a9",
       "version_major": 2,
       "version_minor": 0
      },
      "text/plain": [
       "interactive(children=(FloatSlider(value=0.0, description='x', max=5.0, min=-5.0), FloatSlider(value=0.0, descr…"
      ]
     },
     "metadata": {},
     "output_type": "display_data"
    }
   ],
   "source": [
    "interact(graph_f_and_derived, x = (-5., 5.), k = (-5., 5.));"
   ]
  },
  {
   "cell_type": "markdown",
   "id": "1ef3b8a0-3341-4399-8126-f402b20a9710",
   "metadata": {},
   "source": [
    "# Ex 2\n",
    "Incarcati fisierul de date [Abalone](http://archive.ics.uci.edu/ml/datasets/Abalone) si in functie de alegerile exprimate de un utilizator in controale de tip dropdown, afisati intr-un grafic 2D coloanele numerice alese. Numele coloanelor se gasesc in fisierul `abalone.names`."
   ]
  },
  {
   "cell_type": "code",
   "execution_count": 7,
   "id": "457a5345-f6b8-45ba-8462-451b3a1f86da",
   "metadata": {},
   "outputs": [
    {
     "data": {
      "text/html": [
       "<div>\n",
       "<style scoped>\n",
       "    .dataframe tbody tr th:only-of-type {\n",
       "        vertical-align: middle;\n",
       "    }\n",
       "\n",
       "    .dataframe tbody tr th {\n",
       "        vertical-align: top;\n",
       "    }\n",
       "\n",
       "    .dataframe thead th {\n",
       "        text-align: right;\n",
       "    }\n",
       "</style>\n",
       "<table border=\"1\" class=\"dataframe\">\n",
       "  <thead>\n",
       "    <tr style=\"text-align: right;\">\n",
       "      <th></th>\n",
       "      <th>Sex</th>\n",
       "      <th>Length</th>\n",
       "      <th>Diam</th>\n",
       "      <th>Height</th>\n",
       "      <th>Whole</th>\n",
       "      <th>Shucked</th>\n",
       "      <th>Viscera</th>\n",
       "      <th>Shell</th>\n",
       "      <th>Rings</th>\n",
       "    </tr>\n",
       "  </thead>\n",
       "  <tbody>\n",
       "    <tr>\n",
       "      <th>0</th>\n",
       "      <td>M</td>\n",
       "      <td>0.455</td>\n",
       "      <td>0.365</td>\n",
       "      <td>0.095</td>\n",
       "      <td>0.5140</td>\n",
       "      <td>0.2245</td>\n",
       "      <td>0.1010</td>\n",
       "      <td>0.150</td>\n",
       "      <td>15</td>\n",
       "    </tr>\n",
       "    <tr>\n",
       "      <th>1</th>\n",
       "      <td>M</td>\n",
       "      <td>0.350</td>\n",
       "      <td>0.265</td>\n",
       "      <td>0.090</td>\n",
       "      <td>0.2255</td>\n",
       "      <td>0.0995</td>\n",
       "      <td>0.0485</td>\n",
       "      <td>0.070</td>\n",
       "      <td>7</td>\n",
       "    </tr>\n",
       "    <tr>\n",
       "      <th>2</th>\n",
       "      <td>F</td>\n",
       "      <td>0.530</td>\n",
       "      <td>0.420</td>\n",
       "      <td>0.135</td>\n",
       "      <td>0.6770</td>\n",
       "      <td>0.2565</td>\n",
       "      <td>0.1415</td>\n",
       "      <td>0.210</td>\n",
       "      <td>9</td>\n",
       "    </tr>\n",
       "    <tr>\n",
       "      <th>3</th>\n",
       "      <td>M</td>\n",
       "      <td>0.440</td>\n",
       "      <td>0.365</td>\n",
       "      <td>0.125</td>\n",
       "      <td>0.5160</td>\n",
       "      <td>0.2155</td>\n",
       "      <td>0.1140</td>\n",
       "      <td>0.155</td>\n",
       "      <td>10</td>\n",
       "    </tr>\n",
       "    <tr>\n",
       "      <th>4</th>\n",
       "      <td>I</td>\n",
       "      <td>0.330</td>\n",
       "      <td>0.255</td>\n",
       "      <td>0.080</td>\n",
       "      <td>0.2050</td>\n",
       "      <td>0.0895</td>\n",
       "      <td>0.0395</td>\n",
       "      <td>0.055</td>\n",
       "      <td>7</td>\n",
       "    </tr>\n",
       "  </tbody>\n",
       "</table>\n",
       "</div>"
      ],
      "text/plain": [
       "  Sex  Length   Diam  Height   Whole  Shucked  Viscera  Shell  Rings\n",
       "0   M   0.455  0.365   0.095  0.5140   0.2245   0.1010  0.150     15\n",
       "1   M   0.350  0.265   0.090  0.2255   0.0995   0.0485  0.070      7\n",
       "2   F   0.530  0.420   0.135  0.6770   0.2565   0.1415  0.210      9\n",
       "3   M   0.440  0.365   0.125  0.5160   0.2155   0.1140  0.155     10\n",
       "4   I   0.330  0.255   0.080  0.2050   0.0895   0.0395  0.055      7"
      ]
     },
     "execution_count": 7,
     "metadata": {},
     "output_type": "execute_result"
    }
   ],
   "source": [
    "header_list: list = ['Sex', 'Length', 'Diam', 'Height',  'Whole', 'Shucked', 'Viscera', 'Shell', 'Rings']\n",
    "data_frame: pd.DataFrame = pd.read_csv('abalone.data', header=None, names = header_list)\n",
    "data_frame.head()"
   ]
  },
  {
   "cell_type": "code",
   "execution_count": 8,
   "id": "e7b1ef29-dd72-464e-82c2-cee409d6a5e8",
   "metadata": {},
   "outputs": [
    {
     "data": {
      "text/html": [
       "<div>\n",
       "<style scoped>\n",
       "    .dataframe tbody tr th:only-of-type {\n",
       "        vertical-align: middle;\n",
       "    }\n",
       "\n",
       "    .dataframe tbody tr th {\n",
       "        vertical-align: top;\n",
       "    }\n",
       "\n",
       "    .dataframe thead th {\n",
       "        text-align: right;\n",
       "    }\n",
       "</style>\n",
       "<table border=\"1\" class=\"dataframe\">\n",
       "  <thead>\n",
       "    <tr style=\"text-align: right;\">\n",
       "      <th></th>\n",
       "      <th>Length</th>\n",
       "      <th>Diam</th>\n",
       "      <th>Height</th>\n",
       "      <th>Whole</th>\n",
       "      <th>Shucked</th>\n",
       "      <th>Viscera</th>\n",
       "      <th>Shell</th>\n",
       "      <th>Rings</th>\n",
       "    </tr>\n",
       "    <tr>\n",
       "      <th>Sex</th>\n",
       "      <th></th>\n",
       "      <th></th>\n",
       "      <th></th>\n",
       "      <th></th>\n",
       "      <th></th>\n",
       "      <th></th>\n",
       "      <th></th>\n",
       "      <th></th>\n",
       "    </tr>\n",
       "  </thead>\n",
       "  <tbody>\n",
       "    <tr>\n",
       "      <th>F</th>\n",
       "      <td>0.579093</td>\n",
       "      <td>0.454732</td>\n",
       "      <td>0.158011</td>\n",
       "      <td>1.046532</td>\n",
       "      <td>0.446188</td>\n",
       "      <td>0.230689</td>\n",
       "      <td>0.302010</td>\n",
       "      <td>11.129304</td>\n",
       "    </tr>\n",
       "    <tr>\n",
       "      <th>I</th>\n",
       "      <td>0.427746</td>\n",
       "      <td>0.326494</td>\n",
       "      <td>0.107996</td>\n",
       "      <td>0.431363</td>\n",
       "      <td>0.191035</td>\n",
       "      <td>0.092010</td>\n",
       "      <td>0.128182</td>\n",
       "      <td>7.890462</td>\n",
       "    </tr>\n",
       "    <tr>\n",
       "      <th>M</th>\n",
       "      <td>0.561391</td>\n",
       "      <td>0.439287</td>\n",
       "      <td>0.151381</td>\n",
       "      <td>0.991459</td>\n",
       "      <td>0.432946</td>\n",
       "      <td>0.215545</td>\n",
       "      <td>0.281969</td>\n",
       "      <td>10.705497</td>\n",
       "    </tr>\n",
       "  </tbody>\n",
       "</table>\n",
       "</div>"
      ],
      "text/plain": [
       "       Length      Diam    Height     Whole   Shucked   Viscera     Shell  \\\n",
       "Sex                                                                         \n",
       "F    0.579093  0.454732  0.158011  1.046532  0.446188  0.230689  0.302010   \n",
       "I    0.427746  0.326494  0.107996  0.431363  0.191035  0.092010  0.128182   \n",
       "M    0.561391  0.439287  0.151381  0.991459  0.432946  0.215545  0.281969   \n",
       "\n",
       "         Rings  \n",
       "Sex             \n",
       "F    11.129304  \n",
       "I     7.890462  \n",
       "M    10.705497  "
      ]
     },
     "execution_count": 8,
     "metadata": {},
     "output_type": "execute_result"
    }
   ],
   "source": [
    "groups = data_frame.groupby('Sex')\n",
    "groups.mean()"
   ]
  },
  {
   "cell_type": "code",
   "execution_count": 9,
   "id": "49e273a3-698e-4578-b700-d7f5f3eb7fef",
   "metadata": {},
   "outputs": [],
   "source": [
    "input1 = widgets.Dropdown(\n",
    "    options=header_list[1:],\n",
    "    description='Option 1'\n",
    ")\n",
    "input2 = widgets.Dropdown(\n",
    "    options=header_list[1:],\n",
    "    description='Option 2'\n",
    ")"
   ]
  },
  {
   "cell_type": "code",
   "execution_count": 10,
   "id": "759dbb4b-54aa-4fc8-bc12-0cf11daba228",
   "metadata": {},
   "outputs": [
    {
     "data": {
      "application/vnd.jupyter.widget-view+json": {
       "model_id": "556eed9d60404740a5b6090de3afdb0c",
       "version_major": 2,
       "version_minor": 0
      },
      "text/plain": [
       "interactive(children=(Dropdown(description='Option 1', options=('Length', 'Diam', 'Height', 'Whole', 'Shucked'…"
      ]
     },
     "metadata": {},
     "output_type": "display_data"
    }
   ],
   "source": [
    "def plot_function(input1: str, input2: str) -> None:\n",
    "    \"\"\"\n",
    "    Plots the data from the abalone dataset in a 2d plot using the two given inputs.\n",
    "    \n",
    "    :input1: first input\n",
    "    :input2: second input\n",
    "    \n",
    "    \"\"\"\n",
    "    plt.figure(figsize=(10, 5))\n",
    "    for name, group in groups:\n",
    "        plt.plot(group[input1], group[input2], 'o', label = name)\n",
    "        plt.xlabel(input1)\n",
    "        plt.ylabel(input2)\n",
    "    plt.legend()\n",
    "    plt.show()\n",
    "\n",
    "widgets.interact(plot_function, input1 = input1, input2 = input2);"
   ]
  },
  {
   "cell_type": "markdown",
   "id": "30b1065c-96de-48b1-a893-fce323b55b3a",
   "metadata": {},
   "source": [
    "# Ex 3\n",
    "1. Folosind un API pentru date legate de vreme (vedeti o lista de API-uri ce se pot utiliza gratuit [aici](https://rapidapi.com/blog/access-global-weather-data-with-these-weather-apis/#:~:text=What%20is%20a%20Weather%20API,weather%20forecast%20and%20historical%20information.)), creati o interfata in Jupyter notebook sau Jupyterlab, folosind ipywidgets, in care sa expuneti valori preluate din API. Definiti controale adecvate, in functie de parametrii de apel permisi de API. "
   ]
  },
  {
   "cell_type": "code",
   "execution_count": 11,
   "id": "821d1dde-fdac-4c1d-a944-6bc2a4cd7243",
   "metadata": {},
   "outputs": [],
   "source": [
    "import requests\n",
    "import json\n",
    "from ipywidgets import widgets"
   ]
  },
  {
   "cell_type": "code",
   "execution_count": 12,
   "id": "87062322-89cf-44b4-9f47-a0214a9def10",
   "metadata": {},
   "outputs": [],
   "source": [
    "API_Key: str = \"6276fddd42ced496cfea6c1f59e23087\""
   ]
  },
  {
   "cell_type": "code",
   "execution_count": 13,
   "id": "062a671d-c762-4cc1-8aef-fbed90c95987",
   "metadata": {},
   "outputs": [],
   "source": [
    "metric_dict = {'standard': 'Kelvin', 'metric': 'Celsius', 'imperial': 'Fahrenheit'}"
   ]
  },
  {
   "cell_type": "code",
   "execution_count": 14,
   "id": "0334b407-6a88-4e31-8587-fb8446dff7b0",
   "metadata": {},
   "outputs": [],
   "source": [
    "cities = widgets.Dropdown(\n",
    "    options = ['Paris', 'Brasov', 'Tokyo'],\n",
    "    description = 'City'\n",
    ")\n",
    "\n",
    "units = widgets.Dropdown(\n",
    "    options = list(metric_dict),\n",
    "    description = 'Unit'\n",
    ")\n",
    "\n",
    "languages = widgets.Dropdown(\n",
    "    options = ['en', 'ro', 'fr'],\n",
    "    description = 'Language'\n",
    ")"
   ]
  },
  {
   "cell_type": "code",
   "execution_count": 15,
   "id": "a6657383-62fe-4a8c-b9cd-93ef0a987b8a",
   "metadata": {},
   "outputs": [],
   "source": [
    "def print_weather(city_name: str, unit: str, lang: str) -> None:\n",
    "    \"\"\"\n",
    "    Dislays the weather based on the given parameters.\n",
    "    \n",
    "    :param city_name: the selected city \n",
    "    :param unit: the unit for displaying the data \n",
    "    :param lang: the language parameter\n",
    "    \n",
    "    :return: None\n",
    "    \"\"\"\n",
    "    if city_name is None:\n",
    "        return\n",
    "    \n",
    "    url: str = f\"http://api.openweathermap.org/data/2.5/weather?q={city_name}&units={unit}&lang={lang}&appid={API_Key}\"\n",
    "    \n",
    "    response = requests.get(url)\n",
    "    res = response.json()\n",
    "    \n",
    "    if res[\"cod\"] != \"404\":\n",
    "        data = res[\"main\"]\n",
    "        \n",
    "        live_temperature = data[\"temp\"]\n",
    "        feels_like = data[\"feels_like\"]\n",
    "        temp_max = data[\"temp_max\"]\n",
    "        temp_min = data[\"temp_min\"]\n",
    "        humidity = data[\"humidity\"]\n",
    "        \n",
    "        live_pressure = str(data[\"pressure\"])\n",
    "        \n",
    "        weather = res[\"weather\"]\n",
    "        weather_description = str(weather[0][\"description\"])\n",
    "        \n",
    "        temp = widgets.Label(f\"Temperature ({metric_dict[unit]}): {live_temperature}\")\n",
    "        temp_feel = widgets.Label(f\"Feels like  ({metric_dict[unit]}): {feels_like}\")\n",
    "        temp_min = widgets.Label(f\"Min temperature  ({metric_dict[unit]}): {temp_min}\")\n",
    "        temp_max = widgets.Label(f\"Max temperature  ({metric_dict[unit]}): {temp_max}\")\n",
    "        humidity = widgets.Label(f\"Humidity: {humidity}%\")\n",
    "        pressure = widgets.Label(f\"Pressure: {live_pressure}hPa\")\n",
    "        description = widgets.Label(f\"Description: {weather_description}\")\n",
    "        \n",
    "        display(widgets.VBox([temp, temp_feel, temp_min, temp_max, humidity, pressure, description]))\n",
    "    else:\n",
    "        print(\"An error occured, please try later!\")"
   ]
  },
  {
   "cell_type": "code",
   "execution_count": 16,
   "id": "d09747eb-39e0-4049-915c-48e6c5d56794",
   "metadata": {},
   "outputs": [
    {
     "data": {
      "application/vnd.jupyter.widget-view+json": {
       "model_id": "cbad84eb7aec48fea69a19bee2a2345f",
       "version_major": 2,
       "version_minor": 0
      },
      "text/plain": [
       "interactive(children=(Dropdown(description='City', options=('Paris', 'Brasov', 'Tokyo'), value='Paris'), Dropd…"
      ]
     },
     "metadata": {},
     "output_type": "display_data"
    }
   ],
   "source": [
    "widgets.interact(print_weather, city_name = cities, unit=units, lang=languages);"
   ]
  },
  {
   "cell_type": "code",
   "execution_count": null,
   "id": "8bbc3d54-3840-491b-954c-139cc828de83",
   "metadata": {},
   "outputs": [],
   "source": []
  }
 ],
 "metadata": {
  "kernelspec": {
   "display_name": "Python 3 (ipykernel)",
   "language": "python",
   "name": "python3"
  },
  "language_info": {
   "codemirror_mode": {
    "name": "ipython",
    "version": 3
   },
   "file_extension": ".py",
   "mimetype": "text/x-python",
   "name": "python",
   "nbconvert_exporter": "python",
   "pygments_lexer": "ipython3",
   "version": "3.9.13"
  }
 },
 "nbformat": 4,
 "nbformat_minor": 5
}
