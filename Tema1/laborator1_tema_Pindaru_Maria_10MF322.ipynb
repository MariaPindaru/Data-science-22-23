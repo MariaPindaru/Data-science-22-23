{
 "cells": [
  {
   "cell_type": "markdown",
   "id": "84358d95",
   "metadata": {},
   "source": [
    "# Laborator 1 - aplicatii"
   ]
  },
  {
   "cell_type": "markdown",
   "id": "f8755bcc",
   "metadata": {},
   "source": [
    "## Context\n",
    "\n",
    "Temele se rezolva individual si se predau in tema de elearning, pana in 18 octombrie ora 23. Se acorda 2 puncte din oficiu.\n",
    "\n",
    "**Numele fisierului** va avea structura: laborator1_tema_nume_prenume.ipynb. "
   ]
  },
  {
   "cell_type": "markdown",
   "id": "abb52198",
   "metadata": {},
   "source": [
    "## Tema 1"
   ]
  },
  {
   "cell_type": "markdown",
   "id": "db4cb505",
   "metadata": {},
   "source": [
    "1. (1 p). Se da o lista `lista` de numere intregi. Sa se depuna numerele pare in lista `lista_pare` numerele pare si in `lista_impare` cele impare.\n",
    "\n",
    "Exemplu:"
   ]
  },
  {
   "cell_type": "code",
   "execution_count": 1,
   "id": "98bf30f1",
   "metadata": {
    "ExecuteTime": {
     "end_time": "2022-10-18T13:02:56.228545Z",
     "start_time": "2022-10-18T13:02:56.220588Z"
    }
   },
   "outputs": [],
   "source": [
    "lista = [223, 1019, 4, 658, 8, 9, -4]\n",
    "\n",
    "lista_pare = [element for element in lista if element % 2 == 0]\n",
    "lista_impare = [element for element in lista if element % 2 == 1]\n",
    "\n",
    "# in mod normal, lista numerelor pare/impare \n",
    "assert lista_pare == [4, 658, 8, -4]\n",
    "assert lista_impare == [223, 1019, 9]"
   ]
  },
  {
   "cell_type": "markdown",
   "id": "3be6a879",
   "metadata": {},
   "source": [
    "Pentru exemplele proprii adaptati corespunzator cele doua asertiuni."
   ]
  },
  {
   "cell_type": "markdown",
   "id": "4d5adda5",
   "metadata": {},
   "source": [
    "2. (1 p)  Se da o lista de stringuri. Se cere ca in fata fiecarui string cu lungime para sa se insereze lungimea acelui string. Nu se va folosi lista suplimentara.\n",
    "\n",
    "Exemplu:"
   ]
  },
  {
   "cell_type": "code",
   "execution_count": 3,
   "id": "bbb6bcc0",
   "metadata": {
    "ExecuteTime": {
     "end_time": "2022-10-18T13:03:05.912086Z",
     "start_time": "2022-10-18T13:03:05.901579Z"
    }
   },
   "outputs": [],
   "source": [
    "my_string = \"Atunci când citești un text trebuie să fii capabil să identifici ideea principală a textului și să o poți formula în propriile tale cuvinte\"\n",
    "my_list = my_string.split(' ')\n",
    "\n",
    "skip = 0\n",
    "for i in range(len(my_list)):\n",
    "    if len(my_list[i + skip]) % 2 == 0:\n",
    "        my_list.insert(i + skip, len(my_list[i + skip]))\n",
    "        skip += 1\n",
    "        \n",
    "assert my_list == [6, 'Atunci', 4, 'când', 'citești', 2, 'un', 4, 'text', 'trebuie', 2, 'să', 'fii', 'capabil', 2, 'să', 10, 'identifici', 'ideea', 10, 'principală', 'a', 8, 'textului', 2, 'și', 2, 'să', 'o', 4, 'poți', 'formula', 2, 'în', 'propriile', 4, 'tale', 'cuvinte']"
   ]
  },
  {
   "cell_type": "markdown",
   "id": "cb4f8ca8",
   "metadata": {},
   "source": [
    "3. (1 p) Se da o lista de cel putin 3 numere in virgula mobila. Care este al treilea cel mai mic numar?\n",
    "\n",
    "Exemplu:"
   ]
  },
  {
   "cell_type": "code",
   "execution_count": 4,
   "id": "1e26972f",
   "metadata": {
    "ExecuteTime": {
     "end_time": "2022-10-18T13:03:11.844842Z",
     "start_time": "2022-10-18T13:03:11.831376Z"
    }
   },
   "outputs": [],
   "source": [
    "lista_numere = [1, -1, 2, -2, 3, -3, 4, -4, 100, 0]\n",
    "\n",
    "lista_numere.sort()\n",
    "al_treilea = lista_numere[2]\n",
    "\n",
    "assert al_treilea == -2"
   ]
  },
  {
   "cell_type": "markdown",
   "id": "6bc59854",
   "metadata": {},
   "source": [
    "4. (1 p) Se da o lista de stringuri. Sa se determine frecventa de aparitie a fiecarui string, intr-un dictionar: cheia dintr-un dictionar este cuvantul, iar valoarea este numarul de aparitii. \n",
    "\n",
    "Optional: dictionarul va contine cuvinetele in ordine descrescatoare a numarului de aparitii.\n",
    "\n",
    "Exemplu:"
   ]
  },
  {
   "cell_type": "code",
   "execution_count": 32,
   "id": "f6b827d3",
   "metadata": {
    "ExecuteTime": {
     "end_time": "2022-10-18T13:32:18.483238Z",
     "start_time": "2022-10-18T13:32:18.454993Z"
    }
   },
   "outputs": [
    {
     "name": "stdout",
     "output_type": "stream",
     "text": [
      "{'eius': 1, 'perspiciatis': 1, 'aspernatur': 1, 'dolore': 1, 'totam': 1, 'omnis': 1, 'minima': 1, 'aperiam': 1, 'nostrum': 1, 'dolor': 1, 'molestiae': 1, 'adipisci': 1, 'ullam': 1, 'architecto': 1, 'corporis': 1, 'veniam': 1, 'illum': 1, 'ab': 1, 'beatae': 1, 'nemo': 1, 'eaque': 1, 'doloremque': 1, 'est': 1, 'ipsum': 1, 'in': 1, 'vitae': 1, 'autem': 1, 'laboriosam': 1, 'natus': 1, 'nesciunt': 1, 'veritatis': 1, 'magnam': 1, 'aliquam': 1, 'modi': 1, 'ipsam': 1, 'commodi': 1, 'rem': 1, 'accusantium': 1, 'incidunt': 1, 'dicta': 1, 'error': 1, 'quaerat': 1, 'fugiat': 1, 'fugit': 1, 'esse': 1, 'quasi': 1, 'exercitationem': 1, 'eos': 1, 'voluptate': 1, 'quam': 1, 'tempora': 1, 'ad': 1, 'amet': 1, 'porro': 1, 'unde': 1, 'quisquam': 1, 'consequuntur': 1, 'nisi': 1, 'nulla': 1, 'odit': 1, 'explicabo': 1, 'laudantium': 1, 'sunt': 1, 'ratione': 1, 'pariatur': 1, 'consectetur': 1, 'reprehenderit': 1, 'sequi': 1, 'neque': 1, 'illo': 1, 'magni': 1, 'non': 1, 'labore': 1, 'ipsa': 1, 'inventore': 1, 'iure': 1, 'quo': 1, 'aliquid': 1, 'dolores': 1, 'nihil': 1, 'quae': 1, 'numquam': 1, 'suscipit': 1, 'iste': 1, 'ex': 1, 'et': 2, 'enim': 2, 'quis': 2, 'consequatur': 2, 'dolorem': 2, 'ea': 2, 'eum': 2, 'vel': 2, 'velit': 2, 'voluptas': 2, 'aut': 2, 'sed': 3, 'sit': 3, 'ut': 4, 'qui': 4, 'quia': 4, 'voluptatem': 4}\n"
     ]
    }
   ],
   "source": [
    "my_string = \"Sed ut perspiciatis unde omnis iste natus error sit voluptatem accusantium doloremque laudantium, totam rem aperiam, eaque ipsa quae ab illo inventore veritatis et quasi architecto beatae vitae dicta sunt explicabo. Nemo enim ipsam voluptatem quia voluptas sit aspernatur aut odit aut fugit, sed quia consequuntur magni dolores eos qui ratione voluptatem sequi nesciunt. Neque porro quisquam est, qui dolorem ipsum quia dolor sit amet, consectetur, adipisci velit, sed quia non numquam eius modi tempora incidunt ut labore et dolore magnam aliquam quaerat voluptatem. Ut enim ad minima veniam, quis nostrum exercitationem ullam corporis suscipit laboriosam, nisi ut aliquid ex ea commodi consequatur? Quis autem vel eum iure reprehenderit qui in ea voluptate velit esse quam nihil molestiae consequatur, vel illum qui dolorem eum fugiat quo voluptas nulla pariatur?\"\n",
    "my_string = my_string.lower().replace(',', '').replace('.', '').replace('?', '')\n",
    "my_list = my_string.split(' ')\n",
    "\n",
    "my_set = set(my_list)\n",
    "dict_frecvente = { elem: my_list.count(elem) for elem in my_set }\n",
    "\n",
    "assert dict_frecvente == {'sed': 3, 'ut': 4, 'perspiciatis': 1, 'unde': 1, 'omnis': 1, 'iste': 1, 'natus': 1, 'error': 1, 'sit': 3, 'voluptatem': 4, 'accusantium': 1, 'doloremque': 1, 'laudantium': 1, 'totam': 1, 'rem': 1, 'aperiam': 1, 'eaque': 1, 'ipsa': 1, 'quae': 1, 'ab': 1, 'illo': 1, 'inventore': 1, 'veritatis': 1, 'et': 2, 'quasi': 1, 'architecto': 1, 'beatae': 1, 'vitae': 1, 'dicta': 1, 'sunt': 1, 'explicabo': 1, 'nemo': 1, 'enim': 2, 'ipsam': 1, 'quia': 4, 'voluptas': 2, 'aspernatur': 1, 'aut': 2, 'odit': 1, 'fugit': 1, 'consequuntur': 1, 'magni': 1, 'dolores': 1, 'eos': 1, 'qui': 4, 'ratione': 1, 'sequi': 1, 'nesciunt': 1, 'neque': 1, 'porro': 1, 'quisquam': 1, 'est': 1, 'dolorem': 2, 'ipsum': 1, 'dolor': 1, 'amet': 1, 'consectetur': 1, 'adipisci': 1, 'velit': 2, 'non': 1, 'numquam': 1, 'eius': 1, 'modi': 1, 'tempora': 1, 'incidunt': 1, 'labore': 1, 'dolore': 1, 'magnam': 1, 'aliquam': 1, 'quaerat': 1, 'ad': 1, 'minima': 1, 'veniam': 1, 'quis': 2, 'nostrum': 1, 'exercitationem': 1, 'ullam': 1, 'corporis': 1, 'suscipit': 1, 'laboriosam': 1, 'nisi': 1, 'aliquid': 1, 'ex': 1, 'ea': 2, 'commodi': 1, 'consequatur': 2, 'autem': 1, 'vel': 2, 'eum': 2, 'iure': 1, 'reprehenderit': 1, 'in': 1, 'voluptate': 1, 'esse': 1, 'quam': 1, 'nihil': 1, 'molestiae': 1, 'illum': 1, 'fugiat': 1, 'quo': 1, 'nulla': 1, 'pariatur': 1}\n",
    "\n",
    "sorted_values = sorted(dict_frecvente.values())\n",
    "sorted_dict = {}\n",
    "\n",
    "for value in sorted_values:\n",
    "    for key in dict_frecvente.keys():\n",
    "        if dict_frecvente[key] == value:\n",
    "            sorted_dict[key] = value\n",
    "            \n",
    "print(sorted_dict)"
   ]
  },
  {
   "cell_type": "markdown",
   "id": "96e5f46b",
   "metadata": {},
   "source": [
    "5. (1 p) Fiind data o lista de cuvinte scrise cu litere mici, să se returneze lista care contine cuvintele care NU incep cu litera b, sortate in ordine alfabetica.\n",
    "\n",
    "Exemplu:"
   ]
  },
  {
   "cell_type": "code",
   "execution_count": 33,
   "id": "cd048411",
   "metadata": {
    "ExecuteTime": {
     "end_time": "2022-10-18T13:32:25.415994Z",
     "start_time": "2022-10-18T13:32:25.398688Z"
    }
   },
   "outputs": [],
   "source": [
    "lista_cuvinte=[\"broasca\", \"maxim\", \"alfabet\",\"carte\", \"inima\", \"barca\", \"trunchi\", \"are\", \"barza\"]\n",
    "\n",
    "cuvinte_fara_b_alfabetic = [elem for elem in lista_cuvinte if elem[0] != 'b']\n",
    "cuvinte_fara_b_alfabetic.sort()\n",
    "\n",
    "assert cuvinte_fara_b_alfabetic == ['alfabet', 'are', 'carte', 'inima', 'maxim', 'trunchi']"
   ]
  },
  {
   "cell_type": "markdown",
   "id": "943cfe97",
   "metadata": {},
   "source": [
    "6. (2p) Se da un dictionar in care cheile sunt nume de studenti, iar valorile sunt liste de carti preferate. Sa se determine:\n",
    "    1. Care sunt studentii care au in lista de preferinte o carte specificata?\n",
    "    2. Care sunt perechile de studenti care au aceleasi preferinte de carti (ordinea in lista de preferinte nu e relevanta)\n",
    "    3. Pentru un student dat, care sunt studentii cu care are cele mai multe carti comune in liste de preferinte; daca sunt mai multi astfel de studenti cei mai apropiati, se vor enumera toti.\n",
    "    4. Pentru doi studenti, A si B, care e lista de stergeri si adaugari prin care lista lui A devine identica cu lista lui B (ordinea in lista nefiind importanta)\n",
    "    5. Toate perechile de studenti A, B pentru care lista de preferinte a lui A este inclusa in (dar nu coincide cu) lista de preferinte a lui B. \n",
    "    \n",
    "Indicatie: considerati tipul de date `set`.\n",
    "\n",
    "Exemplu:\n",
    "```python\n",
    "preferinte = {\n",
    "    'Popescu': ['carte2', 'carte1', 'carte3', 'carte4'],\n",
    "    'Ionescu': ['carte1', 'carte2', 'carte3', 'carte7', 'alta carte'],\n",
    "    'Georgescu': ['carte1', 'alta carte'],\n",
    "    'Xulescu': ['carte2', 'carte5', 'carte6', 'carte7'],\n",
    "    'Dragomir': ['carte4', 'carte1', 'carte2', 'carte3']\n",
    "}\n",
    "```\n",
    "    1. carte = 'alta carte' -> ['Ionescu', 'Georgescu']\n",
    "    2. Popescu si Dragomir au aceleasi preferinte: ['carte2', 'carte1', 'carte3', 'carte4']. Se remarca faptul ca nu se afiseaza si perechea echivalenta: Dragomir si Popescu.\n",
    "    3. Xulescu -> Suprapunere maxima de preferinte: 2 cu colegii: ['Ionescu']\n",
    "    4. A='Popescu', B='Ionescu' -> Se vor adauga cartile: {'carte7', 'alta carte'}, se vor scoate cartile: {'carte4'}\n",
    "    5. Preferintele lui Georgescu sunt subset propriu al preferintelor lui Ionescu"
   ]
  },
  {
   "cell_type": "code",
   "execution_count": 34,
   "id": "667985f9",
   "metadata": {
    "ExecuteTime": {
     "end_time": "2022-10-18T13:34:10.791255Z",
     "start_time": "2022-10-18T13:34:10.784210Z"
    }
   },
   "outputs": [],
   "source": [
    "preferinte = {\n",
    "    'Popescu': ['carte2', 'carte1', 'carte3', 'carte4'],\n",
    "    'Ionescu': ['carte1', 'carte2', 'carte3', 'carte7', 'alta carte'],\n",
    "    'Georgescu': ['carte1', 'alta carte'],\n",
    "    'Xulescu': ['carte2', 'carte5', 'carte6', 'carte7'],\n",
    "    'Dragomir': ['carte4', 'carte1', 'carte2', 'carte3']\n",
    "}"
   ]
  },
  {
   "cell_type": "markdown",
   "id": "f997d0cd",
   "metadata": {},
   "source": [
    "1. Care sunt studentii care au in lista de preferinte o carte specificata?"
   ]
  },
  {
   "cell_type": "code",
   "execution_count": 35,
   "id": "f65129ff",
   "metadata": {
    "ExecuteTime": {
     "end_time": "2022-10-18T13:34:12.671930Z",
     "start_time": "2022-10-18T13:34:12.649323Z"
    }
   },
   "outputs": [
    {
     "data": {
      "text/plain": [
       "['Ionescu', 'Georgescu']"
      ]
     },
     "execution_count": 35,
     "metadata": {},
     "output_type": "execute_result"
    }
   ],
   "source": [
    "def get_by_book(book):\n",
    "    students = [student for student, books in preferinte.items() if book in books]\n",
    "    return students\n",
    "\n",
    "get_by_book('alta carte')"
   ]
  },
  {
   "cell_type": "markdown",
   "id": "7ac09364",
   "metadata": {},
   "source": [
    "2. Care sunt perechile de studenti care au aceleasi preferinte de carti (ordinea in lista de preferinte nu e relevanta)"
   ]
  },
  {
   "cell_type": "code",
   "execution_count": 11,
   "id": "8053e7a7",
   "metadata": {
    "ExecuteTime": {
     "end_time": "2022-10-18T13:10:37.520879Z",
     "start_time": "2022-10-18T13:10:37.506531Z"
    }
   },
   "outputs": [
    {
     "data": {
      "text/plain": [
       "[('Popescu', 'Dragomir')]"
      ]
     },
     "execution_count": 11,
     "metadata": {},
     "output_type": "execute_result"
    }
   ],
   "source": [
    "def get_pairs_by_preferences():\n",
    "    pairs = []\n",
    "    keys_list = list(preferinte)\n",
    "    \n",
    "    for index_1 in range(len(preferinte)):\n",
    "        for index_2 in range(index_1 + 1, len(preferinte)):\n",
    "            \n",
    "            student_1 = keys_list[index_1]\n",
    "            student_2 = keys_list[index_2]\n",
    "            \n",
    "            if (student_1, student_2) in pairs:\n",
    "                continue\n",
    "                \n",
    "            if sorted(preferinte[student_1]) == sorted(preferinte[student_2]):\n",
    "                pairs.append((student_1, student_2))\n",
    "                \n",
    "    return pairs\n",
    "                \n",
    "get_pairs_by_preferences()"
   ]
  },
  {
   "cell_type": "markdown",
   "id": "6512841e",
   "metadata": {},
   "source": [
    " 3. Pentru un student dat, care sunt studentii cu care are cele mai multe carti comune in liste de preferinte; daca sunt mai multi astfel de studenti cei mai apropiati, se vor enumera toti."
   ]
  },
  {
   "cell_type": "code",
   "execution_count": 22,
   "id": "c54e5e15",
   "metadata": {
    "ExecuteTime": {
     "end_time": "2022-10-18T13:16:28.979990Z",
     "start_time": "2022-10-18T13:16:28.955994Z"
    }
   },
   "outputs": [
    {
     "name": "stdout",
     "output_type": "stream",
     "text": [
      "Suprapunere maxima de preferinte: 2 cu colegii: ['Ionescu']\n"
     ]
    }
   ],
   "source": [
    "def get_students_similar_pref(main_student):\n",
    "    students = []\n",
    "    suprapunere = 0\n",
    "    \n",
    "    main_student_books = set(preferinte[main_student])\n",
    "    \n",
    "    for student, books in preferinte.items():\n",
    "        if student == main_student:\n",
    "            continue\n",
    "            \n",
    "        intersection = main_student_books.intersection(books)\n",
    "        \n",
    "        if suprapunere == len(intersection) and suprapunere > 0:\n",
    "            students.append(student)\n",
    "        elif len(intersection) > suprapunere:\n",
    "            students = [student]\n",
    "            suprapunere = len(intersection)\n",
    "            \n",
    "    return suprapunere, students\n",
    "\n",
    "suprapunere, students = get_students_similar_pref('Xulescu')\n",
    "\n",
    "print(\"Suprapunere maxima de preferinte: {0} cu colegii: {1}\".format(suprapunere, students))"
   ]
  },
  {
   "cell_type": "markdown",
   "id": "e1e0dee3",
   "metadata": {},
   "source": [
    " 4. Pentru doi studenti, A si B, care e lista de stergeri si adaugari prin care lista lui A devine identica cu lista lui B (ordinea in lista nefiind importanta)"
   ]
  },
  {
   "cell_type": "code",
   "execution_count": 24,
   "id": "0bbd3cea",
   "metadata": {
    "ExecuteTime": {
     "end_time": "2022-10-18T13:17:16.199734Z",
     "start_time": "2022-10-18T13:17:16.190957Z"
    }
   },
   "outputs": [
    {
     "name": "stdout",
     "output_type": "stream",
     "text": [
      "['carte7', 'alta carte']\n",
      "['carte4']\n"
     ]
    }
   ],
   "source": [
    "def get_lists(student_A, student_B):\n",
    "    student_A_books = preferinte[student_A]\n",
    "    student_B_books = preferinte[student_B]\n",
    "    \n",
    "    insertions = []\n",
    "    deletions = []\n",
    "    \n",
    "    insertions = [book for book in student_B_books if book not in student_A_books]\n",
    "    deletions = [book for book in student_A_books if book not in student_B_books]\n",
    "            \n",
    "    return insertions, deletions\n",
    "\n",
    "insertions, deletions = get_lists('Popescu', 'Ionescu')\n",
    "print(insertions)\n",
    "print(deletions)"
   ]
  },
  {
   "cell_type": "markdown",
   "id": "c5e97ff7",
   "metadata": {},
   "source": [
    "5. Toate perechile de studenti A, B pentru care lista de preferinte a lui A este inclusa in (dar nu coincide cu) lista de preferinte a lui B. "
   ]
  },
  {
   "cell_type": "code",
   "execution_count": 26,
   "id": "8b3d01df",
   "metadata": {
    "ExecuteTime": {
     "end_time": "2022-10-18T13:17:41.269841Z",
     "start_time": "2022-10-18T13:17:41.242479Z"
    }
   },
   "outputs": [
    {
     "data": {
      "text/plain": [
       "[('Georgescu', 'Ionescu')]"
      ]
     },
     "execution_count": 26,
     "metadata": {},
     "output_type": "execute_result"
    }
   ],
   "source": [
    "def get_students_subsets():\n",
    "    student_pairs = []\n",
    "    for student1, books1 in preferinte.items():\n",
    "        for student2, books2 in preferinte.items():\n",
    "            \n",
    "            if(student1 == student2):\n",
    "                continue\n",
    "                \n",
    "            if(all(book in books2 for book in books1)) and len(books1) < len(books2): \n",
    "                student_pairs.append((student1, student2))\n",
    "                \n",
    "    return student_pairs\n",
    "\n",
    "get_students_subsets()"
   ]
  },
  {
   "cell_type": "markdown",
   "id": "a266b926",
   "metadata": {},
   "source": [
    "7 (1p). Se da o lista de stringuri si o lista de intregi; nicio lista nu contine valori duplicate. Sa se determine toate combinatiile de elemente din prima lista cu elemente din a doua lista, cu valorile despartite prin '_'.\n",
    "\n",
    "Exemplu:"
   ]
  },
  {
   "cell_type": "code",
   "execution_count": 27,
   "id": "4657321b",
   "metadata": {
    "ExecuteTime": {
     "end_time": "2022-10-18T13:18:04.284726Z",
     "start_time": "2022-10-18T13:18:04.270525Z"
    }
   },
   "outputs": [],
   "source": [
    "import itertools\n",
    "\n",
    "lista_1 = ['latop', 'carte', 'telefon']\n",
    "lista_2 = list(range(1, 5))\n",
    "\n",
    "lista_combinatii = [x + '_' + str(y) for x in lista_1 for y in lista_2]\n",
    "\n",
    "assert lista_combinatii == ['latop_1', 'latop_2', 'latop_3', 'latop_4', \n",
    "                            'carte_1', 'carte_2', 'carte_3', 'carte_4', \n",
    "                            'telefon_1', 'telefon_2', 'telefon_3', \n",
    "                            'telefon_4']"
   ]
  },
  {
   "cell_type": "code",
   "execution_count": null,
   "id": "7cf266e2",
   "metadata": {},
   "outputs": [],
   "source": []
  }
 ],
 "metadata": {
  "kernelspec": {
   "display_name": "Python 3 (ipykernel)",
   "language": "python",
   "name": "python3"
  },
  "language_info": {
   "codemirror_mode": {
    "name": "ipython",
    "version": 3
   },
   "file_extension": ".py",
   "mimetype": "text/x-python",
   "name": "python",
   "nbconvert_exporter": "python",
   "pygments_lexer": "ipython3",
   "version": "3.9.7"
  },
  "notify_time": "5",
  "toc": {
   "base_numbering": 1,
   "nav_menu": {},
   "number_sections": true,
   "sideBar": true,
   "skip_h1_title": false,
   "title_cell": "Table of Contents",
   "title_sidebar": "Contents",
   "toc_cell": false,
   "toc_position": {},
   "toc_section_display": true,
   "toc_window_display": false
  }
 },
 "nbformat": 4,
 "nbformat_minor": 5
}
