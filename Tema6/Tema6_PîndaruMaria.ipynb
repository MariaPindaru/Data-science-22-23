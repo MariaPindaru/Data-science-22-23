{
 "cells": [
  {
   "cell_type": "code",
   "execution_count": 1,
   "metadata": {
    "ExecuteTime": {
     "end_time": "2021-05-05T18:27:05.720770Z",
     "start_time": "2021-05-05T18:27:04.225029Z"
    },
    "pycharm": {
     "name": "#%%\n"
    }
   },
   "outputs": [
    {
     "name": "stdout",
     "output_type": "stream",
     "text": [
      "NumPy version: 1.21.5\n",
      "Pandas version: 1.4.4\n",
      "Sklearn version: 1.0.2\n"
     ]
    }
   ],
   "source": [
    "\n",
    "import numpy as np\n",
    "\n",
    "print(f'NumPy version: {np.__version__}')\n",
    "\n",
    "import pandas as pd\n",
    "\n",
    "print(f'Pandas version: {pd.__version__}')\n",
    "\n",
    "import sklearn\n",
    "\n",
    "print(f'Sklearn version: {sklearn.__version__}')\n",
    "\n",
    "from typing import List, Dict, Tuple, Any, Callable"
   ]
  },
  {
   "cell_type": "markdown",
   "metadata": {
    "pycharm": {
     "name": "#%% md\n"
    }
   },
   "source": [
    "# Citirea seturilor de date"
   ]
  },
  {
   "cell_type": "markdown",
   "metadata": {
    "pycharm": {
     "name": "#%% md\n"
    }
   },
   "source": [
    "## qsar_aquatic_toxicity"
   ]
  },
  {
   "cell_type": "code",
   "execution_count": 2,
   "metadata": {
    "ExecuteTime": {
     "end_time": "2021-05-05T18:27:05.779625Z",
     "start_time": "2021-05-05T18:27:05.723764Z"
    },
    "pycharm": {
     "name": "#%%\n"
    }
   },
   "outputs": [
    {
     "data": {
      "text/html": [
       "<div>\n",
       "<style scoped>\n",
       "    .dataframe tbody tr th:only-of-type {\n",
       "        vertical-align: middle;\n",
       "    }\n",
       "\n",
       "    .dataframe tbody tr th {\n",
       "        vertical-align: top;\n",
       "    }\n",
       "\n",
       "    .dataframe thead th {\n",
       "        text-align: right;\n",
       "    }\n",
       "</style>\n",
       "<table border=\"1\" class=\"dataframe\">\n",
       "  <thead>\n",
       "    <tr style=\"text-align: right;\">\n",
       "      <th></th>\n",
       "      <th>0</th>\n",
       "      <th>1</th>\n",
       "      <th>2</th>\n",
       "      <th>3</th>\n",
       "      <th>4</th>\n",
       "      <th>5</th>\n",
       "      <th>6</th>\n",
       "      <th>7</th>\n",
       "      <th>8</th>\n",
       "    </tr>\n",
       "  </thead>\n",
       "  <tbody>\n",
       "    <tr>\n",
       "      <th>0</th>\n",
       "      <td>0.00</td>\n",
       "      <td>0.0</td>\n",
       "      <td>0</td>\n",
       "      <td>2.419</td>\n",
       "      <td>1.225</td>\n",
       "      <td>0.667</td>\n",
       "      <td>0</td>\n",
       "      <td>0</td>\n",
       "      <td>3.740</td>\n",
       "    </tr>\n",
       "    <tr>\n",
       "      <th>1</th>\n",
       "      <td>0.00</td>\n",
       "      <td>0.0</td>\n",
       "      <td>0</td>\n",
       "      <td>2.638</td>\n",
       "      <td>1.401</td>\n",
       "      <td>0.632</td>\n",
       "      <td>0</td>\n",
       "      <td>0</td>\n",
       "      <td>4.330</td>\n",
       "    </tr>\n",
       "    <tr>\n",
       "      <th>2</th>\n",
       "      <td>9.23</td>\n",
       "      <td>11.0</td>\n",
       "      <td>0</td>\n",
       "      <td>5.799</td>\n",
       "      <td>2.930</td>\n",
       "      <td>0.486</td>\n",
       "      <td>0</td>\n",
       "      <td>0</td>\n",
       "      <td>7.019</td>\n",
       "    </tr>\n",
       "    <tr>\n",
       "      <th>3</th>\n",
       "      <td>9.23</td>\n",
       "      <td>11.0</td>\n",
       "      <td>0</td>\n",
       "      <td>5.453</td>\n",
       "      <td>2.887</td>\n",
       "      <td>0.495</td>\n",
       "      <td>0</td>\n",
       "      <td>0</td>\n",
       "      <td>6.723</td>\n",
       "    </tr>\n",
       "    <tr>\n",
       "      <th>4</th>\n",
       "      <td>9.23</td>\n",
       "      <td>11.0</td>\n",
       "      <td>0</td>\n",
       "      <td>4.068</td>\n",
       "      <td>2.758</td>\n",
       "      <td>0.695</td>\n",
       "      <td>0</td>\n",
       "      <td>0</td>\n",
       "      <td>5.979</td>\n",
       "    </tr>\n",
       "  </tbody>\n",
       "</table>\n",
       "</div>"
      ],
      "text/plain": [
       "      0     1  2      3      4      5  6  7      8\n",
       "0  0.00   0.0  0  2.419  1.225  0.667  0  0  3.740\n",
       "1  0.00   0.0  0  2.638  1.401  0.632  0  0  4.330\n",
       "2  9.23  11.0  0  5.799  2.930  0.486  0  0  7.019\n",
       "3  9.23  11.0  0  5.453  2.887  0.495  0  0  6.723\n",
       "4  9.23  11.0  0  4.068  2.758  0.695  0  0  5.979"
      ]
     },
     "execution_count": 2,
     "metadata": {},
     "output_type": "execute_result"
    }
   ],
   "source": [
    "qsar_df: pd.DataFrame = pd.read_csv('data/qsar_aquatic_toxicity.csv', header=None, sep=';')\n",
    "qsar_df.head()"
   ]
  },
  {
   "cell_type": "code",
   "execution_count": 3,
   "metadata": {
    "pycharm": {
     "name": "#%%\n"
    }
   },
   "outputs": [
    {
     "name": "stdout",
     "output_type": "stream",
     "text": [
      "Missing values 0\n"
     ]
    }
   ],
   "source": [
    "print(\"Missing values\", qsar_df.isnull().sum().sum())"
   ]
  },
  {
   "cell_type": "code",
   "execution_count": 4,
   "metadata": {
    "pycharm": {
     "name": "#%%\n"
    }
   },
   "outputs": [],
   "source": [
    "X_qsar: pd.DataFrame = qsar_df.iloc[:, :-1]\n",
    "y_qsar: pd.Series = qsar_df.iloc[:, -1]"
   ]
  },
  {
   "cell_type": "markdown",
   "metadata": {
    "pycharm": {
     "name": "#%% md\n"
    }
   },
   "source": [
    "## Servo dataset"
   ]
  },
  {
   "cell_type": "code",
   "execution_count": 5,
   "metadata": {
    "pycharm": {
     "name": "#%%\n"
    }
   },
   "outputs": [
    {
     "data": {
      "text/html": [
       "<div>\n",
       "<style scoped>\n",
       "    .dataframe tbody tr th:only-of-type {\n",
       "        vertical-align: middle;\n",
       "    }\n",
       "\n",
       "    .dataframe tbody tr th {\n",
       "        vertical-align: top;\n",
       "    }\n",
       "\n",
       "    .dataframe thead th {\n",
       "        text-align: right;\n",
       "    }\n",
       "</style>\n",
       "<table border=\"1\" class=\"dataframe\">\n",
       "  <thead>\n",
       "    <tr style=\"text-align: right;\">\n",
       "      <th></th>\n",
       "      <th>0</th>\n",
       "      <th>1</th>\n",
       "      <th>2</th>\n",
       "      <th>3</th>\n",
       "      <th>4</th>\n",
       "    </tr>\n",
       "  </thead>\n",
       "  <tbody>\n",
       "    <tr>\n",
       "      <th>0</th>\n",
       "      <td>E</td>\n",
       "      <td>E</td>\n",
       "      <td>5</td>\n",
       "      <td>4</td>\n",
       "      <td>0.281251</td>\n",
       "    </tr>\n",
       "    <tr>\n",
       "      <th>1</th>\n",
       "      <td>B</td>\n",
       "      <td>D</td>\n",
       "      <td>6</td>\n",
       "      <td>5</td>\n",
       "      <td>0.506252</td>\n",
       "    </tr>\n",
       "    <tr>\n",
       "      <th>2</th>\n",
       "      <td>D</td>\n",
       "      <td>D</td>\n",
       "      <td>4</td>\n",
       "      <td>3</td>\n",
       "      <td>0.356251</td>\n",
       "    </tr>\n",
       "    <tr>\n",
       "      <th>3</th>\n",
       "      <td>B</td>\n",
       "      <td>A</td>\n",
       "      <td>3</td>\n",
       "      <td>2</td>\n",
       "      <td>5.500033</td>\n",
       "    </tr>\n",
       "    <tr>\n",
       "      <th>4</th>\n",
       "      <td>D</td>\n",
       "      <td>B</td>\n",
       "      <td>6</td>\n",
       "      <td>5</td>\n",
       "      <td>0.356251</td>\n",
       "    </tr>\n",
       "  </tbody>\n",
       "</table>\n",
       "</div>"
      ],
      "text/plain": [
       "   0  1  2  3         4\n",
       "0  E  E  5  4  0.281251\n",
       "1  B  D  6  5  0.506252\n",
       "2  D  D  4  3  0.356251\n",
       "3  B  A  3  2  5.500033\n",
       "4  D  B  6  5  0.356251"
      ]
     },
     "execution_count": 5,
     "metadata": {},
     "output_type": "execute_result"
    }
   ],
   "source": [
    "servo_df = pd.read_csv('data/servo.data', header=None)\n",
    "servo_df.head()"
   ]
  },
  {
   "cell_type": "code",
   "execution_count": 6,
   "metadata": {
    "pycharm": {
     "name": "#%%\n"
    }
   },
   "outputs": [
    {
     "data": {
      "text/plain": [
       "0"
      ]
     },
     "execution_count": 6,
     "metadata": {},
     "output_type": "execute_result"
    }
   ],
   "source": [
    "servo_df.isnull().sum().sum()"
   ]
  },
  {
   "cell_type": "code",
   "execution_count": 7,
   "metadata": {
    "pycharm": {
     "name": "#%%\n"
    }
   },
   "outputs": [
    {
     "name": "stdout",
     "output_type": "stream",
     "text": [
      "<class 'pandas.core.frame.DataFrame'>\n",
      "RangeIndex: 167 entries, 0 to 166\n",
      "Data columns (total 5 columns):\n",
      " #   Column  Non-Null Count  Dtype  \n",
      "---  ------  --------------  -----  \n",
      " 0   0       167 non-null    object \n",
      " 1   1       167 non-null    object \n",
      " 2   2       167 non-null    int64  \n",
      " 3   3       167 non-null    int64  \n",
      " 4   4       167 non-null    float64\n",
      "dtypes: float64(1), int64(2), object(2)\n",
      "memory usage: 6.6+ KB\n"
     ]
    }
   ],
   "source": [
    "servo_df.info()"
   ]
  },
  {
   "cell_type": "code",
   "execution_count": 8,
   "metadata": {
    "pycharm": {
     "name": "#%%\n"
    }
   },
   "outputs": [],
   "source": [
    "X_servo: pd.DataFrame = servo_df.iloc[:, :-1]\n",
    "y_servo: pd.Series = servo_df.iloc[:, -1]"
   ]
  },
  {
   "cell_type": "markdown",
   "metadata": {
    "pycharm": {
     "name": "#%% md\n"
    }
   },
   "source": [
    "## Parkinsons"
   ]
  },
  {
   "cell_type": "code",
   "execution_count": 9,
   "metadata": {
    "pycharm": {
     "name": "#%%\n"
    }
   },
   "outputs": [
    {
     "data": {
      "text/html": [
       "<div>\n",
       "<style scoped>\n",
       "    .dataframe tbody tr th:only-of-type {\n",
       "        vertical-align: middle;\n",
       "    }\n",
       "\n",
       "    .dataframe tbody tr th {\n",
       "        vertical-align: top;\n",
       "    }\n",
       "\n",
       "    .dataframe thead th {\n",
       "        text-align: right;\n",
       "    }\n",
       "</style>\n",
       "<table border=\"1\" class=\"dataframe\">\n",
       "  <thead>\n",
       "    <tr style=\"text-align: right;\">\n",
       "      <th></th>\n",
       "      <th>subject#</th>\n",
       "      <th>age</th>\n",
       "      <th>sex</th>\n",
       "      <th>test_time</th>\n",
       "      <th>motor_UPDRS</th>\n",
       "      <th>total_UPDRS</th>\n",
       "      <th>Jitter(%)</th>\n",
       "      <th>Jitter(Abs)</th>\n",
       "      <th>Jitter:RAP</th>\n",
       "      <th>Jitter:PPQ5</th>\n",
       "      <th>...</th>\n",
       "      <th>Shimmer(dB)</th>\n",
       "      <th>Shimmer:APQ3</th>\n",
       "      <th>Shimmer:APQ5</th>\n",
       "      <th>Shimmer:APQ11</th>\n",
       "      <th>Shimmer:DDA</th>\n",
       "      <th>NHR</th>\n",
       "      <th>HNR</th>\n",
       "      <th>RPDE</th>\n",
       "      <th>DFA</th>\n",
       "      <th>PPE</th>\n",
       "    </tr>\n",
       "  </thead>\n",
       "  <tbody>\n",
       "    <tr>\n",
       "      <th>0</th>\n",
       "      <td>1</td>\n",
       "      <td>72</td>\n",
       "      <td>0</td>\n",
       "      <td>5.6431</td>\n",
       "      <td>28.199</td>\n",
       "      <td>34.398</td>\n",
       "      <td>0.00662</td>\n",
       "      <td>0.000034</td>\n",
       "      <td>0.00401</td>\n",
       "      <td>0.00317</td>\n",
       "      <td>...</td>\n",
       "      <td>0.230</td>\n",
       "      <td>0.01438</td>\n",
       "      <td>0.01309</td>\n",
       "      <td>0.01662</td>\n",
       "      <td>0.04314</td>\n",
       "      <td>0.014290</td>\n",
       "      <td>21.640</td>\n",
       "      <td>0.41888</td>\n",
       "      <td>0.54842</td>\n",
       "      <td>0.16006</td>\n",
       "    </tr>\n",
       "    <tr>\n",
       "      <th>1</th>\n",
       "      <td>1</td>\n",
       "      <td>72</td>\n",
       "      <td>0</td>\n",
       "      <td>12.6660</td>\n",
       "      <td>28.447</td>\n",
       "      <td>34.894</td>\n",
       "      <td>0.00300</td>\n",
       "      <td>0.000017</td>\n",
       "      <td>0.00132</td>\n",
       "      <td>0.00150</td>\n",
       "      <td>...</td>\n",
       "      <td>0.179</td>\n",
       "      <td>0.00994</td>\n",
       "      <td>0.01072</td>\n",
       "      <td>0.01689</td>\n",
       "      <td>0.02982</td>\n",
       "      <td>0.011112</td>\n",
       "      <td>27.183</td>\n",
       "      <td>0.43493</td>\n",
       "      <td>0.56477</td>\n",
       "      <td>0.10810</td>\n",
       "    </tr>\n",
       "    <tr>\n",
       "      <th>2</th>\n",
       "      <td>1</td>\n",
       "      <td>72</td>\n",
       "      <td>0</td>\n",
       "      <td>19.6810</td>\n",
       "      <td>28.695</td>\n",
       "      <td>35.389</td>\n",
       "      <td>0.00481</td>\n",
       "      <td>0.000025</td>\n",
       "      <td>0.00205</td>\n",
       "      <td>0.00208</td>\n",
       "      <td>...</td>\n",
       "      <td>0.181</td>\n",
       "      <td>0.00734</td>\n",
       "      <td>0.00844</td>\n",
       "      <td>0.01458</td>\n",
       "      <td>0.02202</td>\n",
       "      <td>0.020220</td>\n",
       "      <td>23.047</td>\n",
       "      <td>0.46222</td>\n",
       "      <td>0.54405</td>\n",
       "      <td>0.21014</td>\n",
       "    </tr>\n",
       "    <tr>\n",
       "      <th>3</th>\n",
       "      <td>1</td>\n",
       "      <td>72</td>\n",
       "      <td>0</td>\n",
       "      <td>25.6470</td>\n",
       "      <td>28.905</td>\n",
       "      <td>35.810</td>\n",
       "      <td>0.00528</td>\n",
       "      <td>0.000027</td>\n",
       "      <td>0.00191</td>\n",
       "      <td>0.00264</td>\n",
       "      <td>...</td>\n",
       "      <td>0.327</td>\n",
       "      <td>0.01106</td>\n",
       "      <td>0.01265</td>\n",
       "      <td>0.01963</td>\n",
       "      <td>0.03317</td>\n",
       "      <td>0.027837</td>\n",
       "      <td>24.445</td>\n",
       "      <td>0.48730</td>\n",
       "      <td>0.57794</td>\n",
       "      <td>0.33277</td>\n",
       "    </tr>\n",
       "    <tr>\n",
       "      <th>4</th>\n",
       "      <td>1</td>\n",
       "      <td>72</td>\n",
       "      <td>0</td>\n",
       "      <td>33.6420</td>\n",
       "      <td>29.187</td>\n",
       "      <td>36.375</td>\n",
       "      <td>0.00335</td>\n",
       "      <td>0.000020</td>\n",
       "      <td>0.00093</td>\n",
       "      <td>0.00130</td>\n",
       "      <td>...</td>\n",
       "      <td>0.176</td>\n",
       "      <td>0.00679</td>\n",
       "      <td>0.00929</td>\n",
       "      <td>0.01819</td>\n",
       "      <td>0.02036</td>\n",
       "      <td>0.011625</td>\n",
       "      <td>26.126</td>\n",
       "      <td>0.47188</td>\n",
       "      <td>0.56122</td>\n",
       "      <td>0.19361</td>\n",
       "    </tr>\n",
       "  </tbody>\n",
       "</table>\n",
       "<p>5 rows × 22 columns</p>\n",
       "</div>"
      ],
      "text/plain": [
       "   subject#  age  sex  test_time  motor_UPDRS  total_UPDRS  Jitter(%)  \\\n",
       "0         1   72    0     5.6431       28.199       34.398    0.00662   \n",
       "1         1   72    0    12.6660       28.447       34.894    0.00300   \n",
       "2         1   72    0    19.6810       28.695       35.389    0.00481   \n",
       "3         1   72    0    25.6470       28.905       35.810    0.00528   \n",
       "4         1   72    0    33.6420       29.187       36.375    0.00335   \n",
       "\n",
       "   Jitter(Abs)  Jitter:RAP  Jitter:PPQ5  ...  Shimmer(dB)  Shimmer:APQ3  \\\n",
       "0     0.000034     0.00401      0.00317  ...        0.230       0.01438   \n",
       "1     0.000017     0.00132      0.00150  ...        0.179       0.00994   \n",
       "2     0.000025     0.00205      0.00208  ...        0.181       0.00734   \n",
       "3     0.000027     0.00191      0.00264  ...        0.327       0.01106   \n",
       "4     0.000020     0.00093      0.00130  ...        0.176       0.00679   \n",
       "\n",
       "   Shimmer:APQ5  Shimmer:APQ11  Shimmer:DDA       NHR     HNR     RPDE  \\\n",
       "0       0.01309        0.01662      0.04314  0.014290  21.640  0.41888   \n",
       "1       0.01072        0.01689      0.02982  0.011112  27.183  0.43493   \n",
       "2       0.00844        0.01458      0.02202  0.020220  23.047  0.46222   \n",
       "3       0.01265        0.01963      0.03317  0.027837  24.445  0.48730   \n",
       "4       0.00929        0.01819      0.02036  0.011625  26.126  0.47188   \n",
       "\n",
       "       DFA      PPE  \n",
       "0  0.54842  0.16006  \n",
       "1  0.56477  0.10810  \n",
       "2  0.54405  0.21014  \n",
       "3  0.57794  0.33277  \n",
       "4  0.56122  0.19361  \n",
       "\n",
       "[5 rows x 22 columns]"
      ]
     },
     "execution_count": 9,
     "metadata": {},
     "output_type": "execute_result"
    }
   ],
   "source": [
    "parkinsons_df: pd.DataFrame = pd.read_csv('data/parkinsons_updrs.data', header=0)\n",
    "parkinsons_df.head()"
   ]
  },
  {
   "cell_type": "code",
   "execution_count": 10,
   "metadata": {},
   "outputs": [
    {
     "name": "stdout",
     "output_type": "stream",
     "text": [
      "<class 'pandas.core.frame.DataFrame'>\n",
      "RangeIndex: 5875 entries, 0 to 5874\n",
      "Data columns (total 22 columns):\n",
      " #   Column         Non-Null Count  Dtype  \n",
      "---  ------         --------------  -----  \n",
      " 0   subject#       5875 non-null   int64  \n",
      " 1   age            5875 non-null   int64  \n",
      " 2   sex            5875 non-null   int64  \n",
      " 3   test_time      5875 non-null   float64\n",
      " 4   motor_UPDRS    5875 non-null   float64\n",
      " 5   total_UPDRS    5875 non-null   float64\n",
      " 6   Jitter(%)      5875 non-null   float64\n",
      " 7   Jitter(Abs)    5875 non-null   float64\n",
      " 8   Jitter:RAP     5875 non-null   float64\n",
      " 9   Jitter:PPQ5    5875 non-null   float64\n",
      " 10  Jitter:DDP     5875 non-null   float64\n",
      " 11  Shimmer        5875 non-null   float64\n",
      " 12  Shimmer(dB)    5875 non-null   float64\n",
      " 13  Shimmer:APQ3   5875 non-null   float64\n",
      " 14  Shimmer:APQ5   5875 non-null   float64\n",
      " 15  Shimmer:APQ11  5875 non-null   float64\n",
      " 16  Shimmer:DDA    5875 non-null   float64\n",
      " 17  NHR            5875 non-null   float64\n",
      " 18  HNR            5875 non-null   float64\n",
      " 19  RPDE           5875 non-null   float64\n",
      " 20  DFA            5875 non-null   float64\n",
      " 21  PPE            5875 non-null   float64\n",
      "dtypes: float64(19), int64(3)\n",
      "memory usage: 1009.9 KB\n"
     ]
    }
   ],
   "source": [
    "parkinsons_df.info()"
   ]
  },
  {
   "cell_type": "code",
   "execution_count": 11,
   "metadata": {
    "pycharm": {
     "name": "#%%\n"
    }
   },
   "outputs": [
    {
     "data": {
      "text/plain": [
       "0"
      ]
     },
     "execution_count": 11,
     "metadata": {},
     "output_type": "execute_result"
    }
   ],
   "source": [
    "parkinsons_df.isnull().sum().sum()"
   ]
  },
  {
   "cell_type": "code",
   "execution_count": 12,
   "metadata": {
    "pycharm": {
     "name": "#%%\n"
    }
   },
   "outputs": [],
   "source": [
    "X_parkinsons: pd.DataFrame = parkinsons_df.iloc[:, :-1]\n",
    "y_parkinsons: pd.Series = parkinsons_df.iloc[:, -1]"
   ]
  },
  {
   "cell_type": "markdown",
   "metadata": {
    "pycharm": {
     "name": "#%% md\n"
    }
   },
   "source": [
    "## winequality"
   ]
  },
  {
   "cell_type": "code",
   "execution_count": 13,
   "metadata": {
    "pycharm": {
     "name": "#%%\n"
    }
   },
   "outputs": [
    {
     "data": {
      "text/html": [
       "<div>\n",
       "<style scoped>\n",
       "    .dataframe tbody tr th:only-of-type {\n",
       "        vertical-align: middle;\n",
       "    }\n",
       "\n",
       "    .dataframe tbody tr th {\n",
       "        vertical-align: top;\n",
       "    }\n",
       "\n",
       "    .dataframe thead th {\n",
       "        text-align: right;\n",
       "    }\n",
       "</style>\n",
       "<table border=\"1\" class=\"dataframe\">\n",
       "  <thead>\n",
       "    <tr style=\"text-align: right;\">\n",
       "      <th></th>\n",
       "      <th>fixed acidity</th>\n",
       "      <th>volatile acidity</th>\n",
       "      <th>citric acid</th>\n",
       "      <th>residual sugar</th>\n",
       "      <th>chlorides</th>\n",
       "      <th>free sulfur dioxide</th>\n",
       "      <th>total sulfur dioxide</th>\n",
       "      <th>density</th>\n",
       "      <th>pH</th>\n",
       "      <th>sulphates</th>\n",
       "      <th>alcohol</th>\n",
       "      <th>quality</th>\n",
       "    </tr>\n",
       "  </thead>\n",
       "  <tbody>\n",
       "    <tr>\n",
       "      <th>0</th>\n",
       "      <td>7.4</td>\n",
       "      <td>0.70</td>\n",
       "      <td>0.00</td>\n",
       "      <td>1.9</td>\n",
       "      <td>0.076</td>\n",
       "      <td>11.0</td>\n",
       "      <td>34.0</td>\n",
       "      <td>0.9978</td>\n",
       "      <td>3.51</td>\n",
       "      <td>0.56</td>\n",
       "      <td>9.4</td>\n",
       "      <td>5</td>\n",
       "    </tr>\n",
       "    <tr>\n",
       "      <th>1</th>\n",
       "      <td>7.8</td>\n",
       "      <td>0.88</td>\n",
       "      <td>0.00</td>\n",
       "      <td>2.6</td>\n",
       "      <td>0.098</td>\n",
       "      <td>25.0</td>\n",
       "      <td>67.0</td>\n",
       "      <td>0.9968</td>\n",
       "      <td>3.20</td>\n",
       "      <td>0.68</td>\n",
       "      <td>9.8</td>\n",
       "      <td>5</td>\n",
       "    </tr>\n",
       "    <tr>\n",
       "      <th>2</th>\n",
       "      <td>7.8</td>\n",
       "      <td>0.76</td>\n",
       "      <td>0.04</td>\n",
       "      <td>2.3</td>\n",
       "      <td>0.092</td>\n",
       "      <td>15.0</td>\n",
       "      <td>54.0</td>\n",
       "      <td>0.9970</td>\n",
       "      <td>3.26</td>\n",
       "      <td>0.65</td>\n",
       "      <td>9.8</td>\n",
       "      <td>5</td>\n",
       "    </tr>\n",
       "    <tr>\n",
       "      <th>3</th>\n",
       "      <td>11.2</td>\n",
       "      <td>0.28</td>\n",
       "      <td>0.56</td>\n",
       "      <td>1.9</td>\n",
       "      <td>0.075</td>\n",
       "      <td>17.0</td>\n",
       "      <td>60.0</td>\n",
       "      <td>0.9980</td>\n",
       "      <td>3.16</td>\n",
       "      <td>0.58</td>\n",
       "      <td>9.8</td>\n",
       "      <td>6</td>\n",
       "    </tr>\n",
       "    <tr>\n",
       "      <th>4</th>\n",
       "      <td>7.4</td>\n",
       "      <td>0.70</td>\n",
       "      <td>0.00</td>\n",
       "      <td>1.9</td>\n",
       "      <td>0.076</td>\n",
       "      <td>11.0</td>\n",
       "      <td>34.0</td>\n",
       "      <td>0.9978</td>\n",
       "      <td>3.51</td>\n",
       "      <td>0.56</td>\n",
       "      <td>9.4</td>\n",
       "      <td>5</td>\n",
       "    </tr>\n",
       "  </tbody>\n",
       "</table>\n",
       "</div>"
      ],
      "text/plain": [
       "   fixed acidity  volatile acidity  citric acid  residual sugar  chlorides  \\\n",
       "0            7.4              0.70         0.00             1.9      0.076   \n",
       "1            7.8              0.88         0.00             2.6      0.098   \n",
       "2            7.8              0.76         0.04             2.3      0.092   \n",
       "3           11.2              0.28         0.56             1.9      0.075   \n",
       "4            7.4              0.70         0.00             1.9      0.076   \n",
       "\n",
       "   free sulfur dioxide  total sulfur dioxide  density    pH  sulphates  \\\n",
       "0                 11.0                  34.0   0.9978  3.51       0.56   \n",
       "1                 25.0                  67.0   0.9968  3.20       0.68   \n",
       "2                 15.0                  54.0   0.9970  3.26       0.65   \n",
       "3                 17.0                  60.0   0.9980  3.16       0.58   \n",
       "4                 11.0                  34.0   0.9978  3.51       0.56   \n",
       "\n",
       "   alcohol  quality  \n",
       "0      9.4        5  \n",
       "1      9.8        5  \n",
       "2      9.8        5  \n",
       "3      9.8        6  \n",
       "4      9.4        5  "
      ]
     },
     "execution_count": 13,
     "metadata": {},
     "output_type": "execute_result"
    }
   ],
   "source": [
    "wine_df: pd.DataFrame = pd.read_csv('data/winequality-red.csv', header=0, sep=';')\n",
    "wine_df.head()"
   ]
  },
  {
   "cell_type": "code",
   "execution_count": 14,
   "metadata": {
    "pycharm": {
     "name": "#%%\n"
    }
   },
   "outputs": [
    {
     "data": {
      "text/plain": [
       "0"
      ]
     },
     "execution_count": 14,
     "metadata": {},
     "output_type": "execute_result"
    }
   ],
   "source": [
    "wine_df.isnull().sum().sum()"
   ]
  },
  {
   "cell_type": "code",
   "execution_count": 15,
   "metadata": {
    "pycharm": {
     "name": "#%%\n"
    }
   },
   "outputs": [],
   "source": [
    "X_wine: pd.DataFrame = wine_df.iloc[:, :-1]\n",
    "y_wine: pd.Series = wine_df.iloc[:, -1]"
   ]
  },
  {
   "cell_type": "code",
   "execution_count": 16,
   "metadata": {
    "pycharm": {
     "name": "#%%\n"
    }
   },
   "outputs": [],
   "source": [
    "datasets: Dict[str, Tuple[pd.DataFrame, pd.Series]] = {\n",
    "        'Qsar aquatic toxicity dataset': (X_qsar, y_qsar),\n",
    "        'Servo dataset': (X_servo, y_servo),\n",
    "        'Parkinsons dataset': (X_parkinsons, y_parkinsons),\n",
    "        'Wine quality dataset': (X_wine, y_wine)\n",
    "    }"
   ]
  },
  {
   "cell_type": "markdown",
   "metadata": {
    "pycharm": {
     "name": "#%% md\n"
    }
   },
   "source": [
    "## Preprocesarea datelor"
   ]
  },
  {
   "cell_type": "code",
   "execution_count": 17,
   "metadata": {
    "pycharm": {
     "name": "#%%\n"
    }
   },
   "outputs": [],
   "source": [
    "from sklearn.compose import ColumnTransformer\n",
    "from sklearn.impute import SimpleImputer\n",
    "from sklearn.preprocessing import OneHotEncoder\n",
    "from sklearn.compose import make_column_selector"
   ]
  },
  {
   "cell_type": "code",
   "execution_count": 18,
   "metadata": {
    "pycharm": {
     "name": "#%%\n"
    }
   },
   "outputs": [],
   "source": [
    "def get_preprocessor() -> sklearn.compose.ColumnTransformer:\n",
    "    \"\"\"\n",
    "    Creates a column transformer to be used for preprocessing the data before training. The preprocessing steps are:\n",
    "        - for categorical columns: missing value imputation and one hot encoding\n",
    "        - for numerical columns: missing value imputation and scaling\n",
    "        \n",
    "    :return: preprocessing column transformer\n",
    "    \"\"\"\n",
    "    object_pipeline = Pipeline(steps=[('imputer', SimpleImputer(missing_values=np.nan, strategy='most_frequent')),\n",
    "                                      ('ohe', OneHotEncoder(sparse=False, handle_unknown='ignore'))])\n",
    "\n",
    "    numerical_pipeline = Pipeline(\n",
    "        steps=[('imputer', SimpleImputer(missing_values=np.nan, strategy='mean')), ('scaler', MinMaxScaler())])\n",
    "\n",
    "    transformer = ColumnTransformer(\n",
    "        transformers=[('object_transformer', object_pipeline, make_column_selector(dtype_include=object)),\n",
    "                      ('numerical_transformer', numerical_pipeline, make_column_selector(dtype_include=np.number))])\n",
    "\n",
    "    return transformer"
   ]
  },
  {
   "cell_type": "markdown",
   "metadata": {
    "pycharm": {
     "name": "#%% md\n"
    }
   },
   "source": [
    "# Modele de regresie"
   ]
  },
  {
   "cell_type": "code",
   "execution_count": 19,
   "metadata": {
    "ExecuteTime": {
     "end_time": "2021-05-05T18:27:06.270300Z",
     "start_time": "2021-05-05T18:27:06.100755Z"
    },
    "pycharm": {
     "name": "#%%\n"
    }
   },
   "outputs": [],
   "source": [
    "from sklearn.linear_model import Lasso, Ridge, ElasticNet, SGDRegressor\n",
    "from sklearn.svm import SVR\n",
    "\n",
    "from sklearn.model_selection import cross_validate, GridSearchCV, RandomizedSearchCV\n",
    "from sklearn.pipeline import Pipeline\n",
    "from sklearn.preprocessing import MinMaxScaler"
   ]
  },
  {
   "cell_type": "code",
   "execution_count": 20,
   "metadata": {
    "ExecuteTime": {
     "end_time": "2021-05-05T18:27:06.281290Z",
     "start_time": "2021-05-05T18:27:06.273295Z"
    },
    "pycharm": {
     "name": "#%%\n"
    }
   },
   "outputs": [],
   "source": [
    "def get_mean_scores(scores: Dict[str, List[float]]) -> np.ndarray:\n",
    "    \"\"\"\n",
    "    Transformes the values (list of numbers) of the given dictionary into their average. \n",
    "    \n",
    "    :param scores: a dictionary that has list values\n",
    "    \n",
    "    :returns: the transformed dictionary\n",
    "    \"\"\"\n",
    "    for key in scores.keys():\n",
    "        scores[key] = scores[key].mean()\n",
    "    return scores"
   ]
  },
  {
   "cell_type": "code",
   "execution_count": 21,
   "metadata": {
    "ExecuteTime": {
     "end_time": "2021-05-05T18:27:06.301218Z",
     "start_time": "2021-05-05T18:27:06.284265Z"
    },
    "pycharm": {
     "name": "#%%\n"
    }
   },
   "outputs": [],
   "source": [
    "def model_result(pipe, X: np.ndarray, y: np.ndarray, parameter_grid: Dict[str, Any], n_iter: int) -> Tuple[\n",
    "    Dict[str, List[float]], Dict[str, List[float]]]:\n",
    "    \"\"\"\n",
    "    Applies cross_validate (5 fold cross validation) and report mean squared error, mean absolute error \n",
    "    and median absolute error.\n",
    "    The optimal hyperparameters are being found using both GridSearchCV and\n",
    "    RandomizedSearchedCV with cv = 3 and metrics beeing mean squared error.\n",
    "\n",
    "    :param pipe: the pipeline used in both GridSearchCV and RandomizedSearchedCV\n",
    "    :param X: dataset feautures\n",
    "    :param y: dataset labels\n",
    "    :param parameter_grid: a dictionary with the possible values for the hyperparameters\n",
    "    :n_iter: the number of iterations for RandomizedSearchCV\n",
    "    \n",
    "    :returns: 2 dictionaries containing the results of the model\n",
    "    \"\"\"\n",
    "    scores: List[str] = ['neg_mean_absolute_error', 'neg_mean_squared_error', 'neg_median_absolute_error']\n",
    "    grid_search: Dict[str, List[float]] = cross_validate(\n",
    "        GridSearchCV(pipe, param_grid=parameter_grid, scoring='neg_mean_squared_error', cv=3), X, y, cv=5,\n",
    "        scoring=scores, return_train_score=True)\n",
    "\n",
    "    randomized_search: Dict[str, List[float]] = cross_validate(\n",
    "        RandomizedSearchCV(pipe, param_distributions=parameter_grid, scoring='neg_mean_squared_error', cv=n_iter,\n",
    "                           n_iter=n_iter), X, y, cv=5, scoring=scores, return_train_score=True)\n",
    "\n",
    "    grid_search: Dict[str, List[float]] = get_mean_scores(grid_search)\n",
    "    randomized_search: Dict[str, List[float]] = get_mean_scores(randomized_search)\n",
    "    return grid_search, randomized_search"
   ]
  },
  {
   "cell_type": "markdown",
   "metadata": {
    "pycharm": {
     "name": "#%% md\n"
    }
   },
   "source": [
    "## SVR"
   ]
  },
  {
   "cell_type": "code",
   "execution_count": 22,
   "metadata": {
    "ExecuteTime": {
     "end_time": "2021-05-05T18:27:06.320168Z",
     "start_time": "2021-05-05T18:27:06.304211Z"
    },
    "pycharm": {
     "name": "#%%\n"
    }
   },
   "outputs": [],
   "source": [
    "def svr(X: np.ndarray, y: np.ndarray) -> Tuple[Dict[str, List[float]], Dict[str, List[float]]]:\n",
    "    \"\"\"\n",
    "    Applies SVR regression on a data set \n",
    "    \n",
    "    :param X: dataset feautures\n",
    "    :param y: dataset labels\n",
    "    \n",
    "    :returns: 2 dictionaries containing the results of the model, results which are\n",
    "              found in get_model_results function\n",
    "    \"\"\"\n",
    "    pipe = Pipeline([('preprocessor', get_preprocessor()), ('svr_reg', SVR())])\n",
    "\n",
    "    parameter_grid: Dict[str, List[Any]] = {'svr_reg__kernel': ['linear', 'poly'], 'svr_reg__gamma': ['scale', 'auto']}\n",
    "\n",
    "    return model_result(pipe, X, y, parameter_grid, n_iter=3)"
   ]
  },
  {
   "cell_type": "markdown",
   "metadata": {
    "pycharm": {
     "name": "#%% md\n"
    }
   },
   "source": [
    "## Lasso"
   ]
  },
  {
   "cell_type": "code",
   "execution_count": 23,
   "metadata": {
    "ExecuteTime": {
     "end_time": "2021-05-05T18:27:06.335128Z",
     "start_time": "2021-05-05T18:27:06.323160Z"
    },
    "pycharm": {
     "name": "#%%\n"
    }
   },
   "outputs": [],
   "source": [
    "def lasso(X: np.ndarray, y: np.ndarray) -> Tuple[Dict[str, List[float]], Dict[str, List[float]]]:\n",
    "    \"\"\"\n",
    "    Applies Lasso regression on a data set \n",
    "    \n",
    "    :param X: dataset feautures\n",
    "    :param y: dataset labels\n",
    "    \n",
    "    :returns: 2 dictionaries containing the results of the model, results which are\n",
    "              found in get_model_results function\n",
    "    \"\"\"\n",
    "    pipe: sklearn.Pipeline = Pipeline([('preprocessor', get_preprocessor()), ('lasso', Lasso(max_iter=20000))])\n",
    "\n",
    "    parameter_grid: Dict[str, List[Any]] = {'lasso__fit_intercept': [True, False]} \n",
    "\n",
    "    return model_result(pipe, X, y, parameter_grid, n_iter=2)"
   ]
  },
  {
   "cell_type": "markdown",
   "metadata": {
    "ExecuteTime": {
     "end_time": "2021-04-26T20:23:20.625291Z",
     "start_time": "2021-04-26T20:23:20.616859Z"
    },
    "pycharm": {
     "name": "#%% md\n"
    }
   },
   "source": [
    "## Ridge"
   ]
  },
  {
   "cell_type": "code",
   "execution_count": 24,
   "metadata": {
    "ExecuteTime": {
     "end_time": "2021-05-05T18:27:06.354078Z",
     "start_time": "2021-05-05T18:27:06.342116Z"
    },
    "pycharm": {
     "name": "#%%\n"
    }
   },
   "outputs": [],
   "source": [
    "def ridge(X: np.ndarray, y: np.ndarray) -> Tuple[Dict[str, List[float]], Dict[str, List[float]]]:\n",
    "    \"\"\"\n",
    "    Applies Ridge regression on a data set \n",
    "    \n",
    "    :param X: dataset feautures\n",
    "    :param y: dataset labels\n",
    "    \n",
    "    :returns: 2 dictionaries containing the results of the model, results which are\n",
    "              found in get_model_results function\n",
    "    \"\"\"\n",
    "    pipe: sklearn.pipeline.Pipeline = Pipeline([('preprocessor', get_preprocessor()), ('ridge', Ridge())])\n",
    "\n",
    "    parameter_grid: Dict[str, List[Any]] = {'ridge__alpha': [0.001, 0.01, 0.1],\n",
    "                                            'ridge__solver': ['auto', 'svd', 'cholesky']}\n",
    "\n",
    "    return model_result(pipe, X, y, parameter_grid, n_iter=5)"
   ]
  },
  {
   "cell_type": "markdown",
   "metadata": {
    "pycharm": {
     "name": "#%% md\n"
    }
   },
   "source": [
    "## ElasticNet"
   ]
  },
  {
   "cell_type": "code",
   "execution_count": 25,
   "metadata": {
    "ExecuteTime": {
     "end_time": "2021-05-05T18:27:06.369037Z",
     "start_time": "2021-05-05T18:27:06.357070Z"
    },
    "pycharm": {
     "name": "#%%\n"
    }
   },
   "outputs": [],
   "source": [
    "def elastic_net(X: np.ndarray, y: np.ndarray) -> Tuple[Dict[str, List[float]], Dict[str, List[float]]]:\n",
    "    \"\"\"\n",
    "    Applies ElasticNet regression on a data set \n",
    "    \n",
    "    :param X: dataset feautures\n",
    "    :param y: dataset labels\n",
    "    \n",
    "    :returns: 2 dictionaries containing the results of the model, results which are\n",
    "              found in get_model_results function\n",
    "    \"\"\"\n",
    "    pipe: sklearn.pipeline.Pipeline = Pipeline(\n",
    "        [('preprocessor', get_preprocessor()), ('elastic_net', ElasticNet(max_iter=20000))])\n",
    "\n",
    "    parameter_grid: Dict[str, List[Any]] = {'elastic_net__alpha': [0.001, 0.01], 'elastic_net__l1_ratio': [0.3, 0.5],\n",
    "                                            'elastic_net__selection': ['cyclic', 'random']}\n",
    "\n",
    "    return model_result(pipe, X, y, parameter_grid, n_iter=6)"
   ]
  },
  {
   "cell_type": "markdown",
   "metadata": {
    "pycharm": {
     "name": "#%% md\n"
    }
   },
   "source": [
    "## SGDRegressor"
   ]
  },
  {
   "cell_type": "code",
   "execution_count": 26,
   "metadata": {
    "ExecuteTime": {
     "end_time": "2021-05-05T18:27:06.385993Z",
     "start_time": "2021-05-05T18:27:06.372030Z"
    },
    "pycharm": {
     "name": "#%%\n"
    }
   },
   "outputs": [],
   "source": [
    "def sgd_regressor(X: np.ndarray, y: np.ndarray) -> Tuple[Dict[str, List[float]], Dict[str, List[float]]]:\n",
    "    \"\"\"\n",
    "    Applies SGDRegressor regression on a data set \n",
    "    \n",
    "    :param X: dataset feautures\n",
    "    :param y: dataset labels\n",
    "    \n",
    "    :returns: 2 dictionaries containing the results of the model, results which are\n",
    "              found in get_model_results function\n",
    "    \"\"\"\n",
    "    pipe: sklearn.pipeline.Pipeline = Pipeline(\n",
    "        [('preprocessor', get_preprocessor()), ('sgd_reg', SGDRegressor(max_iter=300000))])\n",
    "\n",
    "    parameter_grid: Dict[str, List[Any]] = {'sgd_reg__loss': ['squared_error', 'huber'],\n",
    "                                            'sgd_reg__penalty': ['l2', 'l1']}\n",
    "\n",
    "    return model_result(pipe, X, y, parameter_grid, n_iter=3)"
   ]
  },
  {
   "cell_type": "markdown",
   "metadata": {
    "pycharm": {
     "name": "#%% md\n"
    }
   },
   "source": [
    "# Generarea rapoartelor"
   ]
  },
  {
   "cell_type": "code",
   "execution_count": 27,
   "metadata": {
    "ExecuteTime": {
     "end_time": "2021-05-05T18:28:15.551010Z",
     "start_time": "2021-05-05T18:28:15.535391Z"
    },
    "pycharm": {
     "name": "#%%\n"
    }
   },
   "outputs": [],
   "source": [
    "def highlight(data_frame: pd.DataFrame) -> List[str]:\n",
    "    \"\"\"\n",
    "    Searches the maximum and minumum in a data frame and creates a list with the color of each cell \n",
    "    based on the searches. The cells colors are red if they contain a maximum, lime is they contain\n",
    "    a minimum, transparent otherwise.\n",
    "    \n",
    "    :param data_frame: the given data_frame\n",
    "    \n",
    "    :return: the list of colors\n",
    "    \"\"\"\n",
    "    is_max: pd.Series = data_frame == data_frame.max()\n",
    "    is_min: pd.Series = data_frame == data_frame.min()\n",
    "\n",
    "    styles: List[str] = ['background-color: lime' if is_min[i] else 'background-color: red' if is_max[i] else '' for i\n",
    "                         in range(len(data_frame))]\n",
    "    return styles"
   ]
  },
  {
   "cell_type": "code",
   "execution_count": 28,
   "metadata": {
    "ExecuteTime": {
     "end_time": "2021-05-05T18:28:15.566631Z",
     "start_time": "2021-05-05T18:28:15.551010Z"
    },
    "pycharm": {
     "name": "#%%\n"
    }
   },
   "outputs": [],
   "source": [
    "def style_data_frame(data_frame: pd.DataFrame):\n",
    "    \"\"\"\n",
    "    Highlights the maximums and minimums in the given dataframe and transforms negative values into positive values,\n",
    "    changing also the name of the column (removes the \"_neg\" from its name).\n",
    "    \n",
    "    :param data_frame: the dateframe to be styled\n",
    "    \n",
    "    :return: the styled dataframe\n",
    "    \"\"\"\n",
    "    for column in data_frame.columns[2:]:\n",
    "        data_frame[column] = data_frame[column].abs()\n",
    "\n",
    "    for col in data_frame.columns:\n",
    "        data_frame.rename(columns={col: col.replace(\"_neg\", \"\")}, inplace=True)\n",
    "\n",
    "    return data_frame.style.apply(highlight, subset=data_frame.columns[2:])"
   ]
  },
  {
   "cell_type": "code",
   "execution_count": 29,
   "metadata": {
    "pycharm": {
     "name": "#%%\n"
    }
   },
   "outputs": [],
   "source": [
    "import os\n",
    "\n",
    "if not os.path.exists('reports'):\n",
    "    os.mkdir('reports')"
   ]
  },
  {
   "cell_type": "code",
   "execution_count": 30,
   "metadata": {
    "ExecuteTime": {
     "end_time": "2021-05-05T18:28:15.582261Z",
     "start_time": "2021-05-05T18:28:15.566631Z"
    },
    "pycharm": {
     "name": "#%%\n"
    }
   },
   "outputs": [],
   "source": [
    "def generate_report(data_frame: pd.DataFrame, title: str) -> None:\n",
    "    \"\"\"\n",
    "    Generates a HTML report with the given title and data_frame.\n",
    "    \n",
    "    :param dataframe: the data to be written in the report\n",
    "    :param title: the title of the HMTL page \n",
    "    \n",
    "    :return: Nothing\n",
    "    \"\"\"\n",
    "    html_code: str = \"<h1><center>\" + title + \"</center></h1>\" + data_frame.hide(axis='index').to_html()\n",
    "\n",
    "    with open(\"reports/\" + title + \".html\", \"w\") as file:\n",
    "        file.write(html_code)"
   ]
  },
  {
   "cell_type": "markdown",
   "metadata": {
    "pycharm": {
     "name": "#%% md\n"
    }
   },
   "source": [
    "# Aplicarea modelelor"
   ]
  },
  {
   "cell_type": "code",
   "execution_count": 31,
   "metadata": {
    "pycharm": {
     "name": "#%%\n"
    }
   },
   "outputs": [],
   "source": [
    "from IPython.display import display, Markdown"
   ]
  },
  {
   "cell_type": "code",
   "execution_count": 32,
   "metadata": {
    "pycharm": {
     "name": "#%%\n"
    }
   },
   "outputs": [],
   "source": [
    "def apply_models_on_data(X: np.ndarray, y: np.ndarray, models: List[Any]) -> List[Dict[str, Any]]:\n",
    "    \"\"\"\n",
    "    Applies the given models on the given dataset and creates a data frame with the results  \n",
    "    \n",
    "    :param X: dataset feautures\n",
    "    :param y: dataset labels\n",
    "    :param models: list of models to be called\n",
    "    \n",
    "    :return: data frame with each model's results using GridSearchCV and RandomizedSearchedCV\n",
    "    \"\"\"\n",
    "    table: List[Dict[str, Any]] = []\n",
    "    for model in models:\n",
    "        X_copy, y_copy = X.copy(), y.copy()\n",
    "        grid, randomized = model(X_copy, y_copy)\n",
    "\n",
    "        gridCV: Dict[str, Any] = {'Search_strategy': 'GridSearchCV', 'Model_name': models_names[model.__name__]}\n",
    "        gridCV.update(grid)\n",
    "        randomizedCV: Dict[str, Any] = {'Search_strategy': 'RandomizedSearchCV',\n",
    "                                        'Model_name': models_names[model.__name__]}\n",
    "        randomizedCV.update(randomized)\n",
    "\n",
    "        table.append(gridCV)\n",
    "        table.append(randomizedCV)\n",
    "\n",
    "    table = pd.DataFrame(table)\n",
    "    table = table.reset_index(drop=True)\n",
    "\n",
    "    return table"
   ]
  },
  {
   "cell_type": "code",
   "execution_count": 33,
   "metadata": {
    "pycharm": {
     "name": "#%%\n"
    }
   },
   "outputs": [],
   "source": [
    "models: List[Callable] = [elastic_net, sgd_regressor, svr, lasso, ridge]\n",
    "models_names: Dict[str, str] = {'svr': 'SVR', 'lasso': 'Lasso', 'ridge': 'Ridge', 'elastic_net': 'ElasticNet',\n",
    "                                'sgd_regressor': 'SGDRegressor'}"
   ]
  },
  {
   "cell_type": "code",
   "execution_count": 34,
   "metadata": {
    "pycharm": {
     "name": "#%%\n"
    }
   },
   "outputs": [
    {
     "data": {
      "text/markdown": [
       "### Qsar aquatic toxicity dataset"
      ],
      "text/plain": [
       "<IPython.core.display.Markdown object>"
      ]
     },
     "metadata": {},
     "output_type": "display_data"
    },
    {
     "name": "stdout",
     "output_type": "stream",
     "text": [
      "Report saved as a html file: 'reports/Qsar aquatic toxicity dataset.html\n"
     ]
    },
    {
     "data": {
      "text/html": [
       "<style type=\"text/css\">\n",
       "#T_7ba28_row0_col8, #T_7ba28_row7_col2, #T_7ba28_row7_col3, #T_7ba28_row8_col4, #T_7ba28_row8_col5, #T_7ba28_row8_col6, #T_7ba28_row8_col7, #T_7ba28_row8_col9 {\n",
       "  background-color: lime;\n",
       "}\n",
       "#T_7ba28_row1_col2, #T_7ba28_row6_col4, #T_7ba28_row6_col5, #T_7ba28_row6_col6, #T_7ba28_row6_col7, #T_7ba28_row6_col8, #T_7ba28_row6_col9, #T_7ba28_row7_col4, #T_7ba28_row7_col5, #T_7ba28_row7_col6, #T_7ba28_row7_col7, #T_7ba28_row7_col8, #T_7ba28_row7_col9, #T_7ba28_row8_col3 {\n",
       "  background-color: red;\n",
       "}\n",
       "</style>\n",
       "<table id=\"T_7ba28\">\n",
       "  <thead>\n",
       "    <tr>\n",
       "      <th id=\"T_7ba28_level0_col0\" class=\"col_heading level0 col0\" >Search_strategy</th>\n",
       "      <th id=\"T_7ba28_level0_col1\" class=\"col_heading level0 col1\" >Model_name</th>\n",
       "      <th id=\"T_7ba28_level0_col2\" class=\"col_heading level0 col2\" >fit_time</th>\n",
       "      <th id=\"T_7ba28_level0_col3\" class=\"col_heading level0 col3\" >score_time</th>\n",
       "      <th id=\"T_7ba28_level0_col4\" class=\"col_heading level0 col4\" >test_mean_absolute_error</th>\n",
       "      <th id=\"T_7ba28_level0_col5\" class=\"col_heading level0 col5\" >train_mean_absolute_error</th>\n",
       "      <th id=\"T_7ba28_level0_col6\" class=\"col_heading level0 col6\" >test_mean_squared_error</th>\n",
       "      <th id=\"T_7ba28_level0_col7\" class=\"col_heading level0 col7\" >train_mean_squared_error</th>\n",
       "      <th id=\"T_7ba28_level0_col8\" class=\"col_heading level0 col8\" >test_median_absolute_error</th>\n",
       "      <th id=\"T_7ba28_level0_col9\" class=\"col_heading level0 col9\" >train_median_absolute_error</th>\n",
       "    </tr>\n",
       "  </thead>\n",
       "  <tbody>\n",
       "    <tr>\n",
       "      <td id=\"T_7ba28_row0_col0\" class=\"data row0 col0\" >GridSearchCV</td>\n",
       "      <td id=\"T_7ba28_row0_col1\" class=\"data row0 col1\" >ElasticNet</td>\n",
       "      <td id=\"T_7ba28_row0_col2\" class=\"data row0 col2\" >0.259910</td>\n",
       "      <td id=\"T_7ba28_row0_col3\" class=\"data row0 col3\" >0.003594</td>\n",
       "      <td id=\"T_7ba28_row0_col4\" class=\"data row0 col4\" >0.960515</td>\n",
       "      <td id=\"T_7ba28_row0_col5\" class=\"data row0 col5\" >0.911093</td>\n",
       "      <td id=\"T_7ba28_row0_col6\" class=\"data row0 col6\" >1.610350</td>\n",
       "      <td id=\"T_7ba28_row0_col7\" class=\"data row0 col7\" >1.423521</td>\n",
       "      <td id=\"T_7ba28_row0_col8\" class=\"data row0 col8\" >0.759116</td>\n",
       "      <td id=\"T_7ba28_row0_col9\" class=\"data row0 col9\" >0.709516</td>\n",
       "    </tr>\n",
       "    <tr>\n",
       "      <td id=\"T_7ba28_row1_col0\" class=\"data row1 col0\" >RandomizedSearchCV</td>\n",
       "      <td id=\"T_7ba28_row1_col1\" class=\"data row1 col1\" >ElasticNet</td>\n",
       "      <td id=\"T_7ba28_row1_col2\" class=\"data row1 col2\" >0.306877</td>\n",
       "      <td id=\"T_7ba28_row1_col3\" class=\"data row1 col3\" >0.002643</td>\n",
       "      <td id=\"T_7ba28_row1_col4\" class=\"data row1 col4\" >0.960522</td>\n",
       "      <td id=\"T_7ba28_row1_col5\" class=\"data row1 col5\" >0.911096</td>\n",
       "      <td id=\"T_7ba28_row1_col6\" class=\"data row1 col6\" >1.610379</td>\n",
       "      <td id=\"T_7ba28_row1_col7\" class=\"data row1 col7\" >1.423527</td>\n",
       "      <td id=\"T_7ba28_row1_col8\" class=\"data row1 col8\" >0.759137</td>\n",
       "      <td id=\"T_7ba28_row1_col9\" class=\"data row1 col9\" >0.709560</td>\n",
       "    </tr>\n",
       "    <tr>\n",
       "      <td id=\"T_7ba28_row2_col0\" class=\"data row2 col0\" >GridSearchCV</td>\n",
       "      <td id=\"T_7ba28_row2_col1\" class=\"data row2 col1\" >SGDRegressor</td>\n",
       "      <td id=\"T_7ba28_row2_col2\" class=\"data row2 col2\" >0.153193</td>\n",
       "      <td id=\"T_7ba28_row2_col3\" class=\"data row2 col3\" >0.001404</td>\n",
       "      <td id=\"T_7ba28_row2_col4\" class=\"data row2 col4\" >1.044002</td>\n",
       "      <td id=\"T_7ba28_row2_col5\" class=\"data row2 col5\" >1.011857</td>\n",
       "      <td id=\"T_7ba28_row2_col6\" class=\"data row2 col6\" >1.857071</td>\n",
       "      <td id=\"T_7ba28_row2_col7\" class=\"data row2 col7\" >1.742829</td>\n",
       "      <td id=\"T_7ba28_row2_col8\" class=\"data row2 col8\" >0.874329</td>\n",
       "      <td id=\"T_7ba28_row2_col9\" class=\"data row2 col9\" >0.826787</td>\n",
       "    </tr>\n",
       "    <tr>\n",
       "      <td id=\"T_7ba28_row3_col0\" class=\"data row3 col0\" >RandomizedSearchCV</td>\n",
       "      <td id=\"T_7ba28_row3_col1\" class=\"data row3 col1\" >SGDRegressor</td>\n",
       "      <td id=\"T_7ba28_row3_col2\" class=\"data row3 col2\" >0.101778</td>\n",
       "      <td id=\"T_7ba28_row3_col3\" class=\"data row3 col3\" >0.001359</td>\n",
       "      <td id=\"T_7ba28_row3_col4\" class=\"data row3 col4\" >1.046487</td>\n",
       "      <td id=\"T_7ba28_row3_col5\" class=\"data row3 col5\" >1.012287</td>\n",
       "      <td id=\"T_7ba28_row3_col6\" class=\"data row3 col6\" >1.861734</td>\n",
       "      <td id=\"T_7ba28_row3_col7\" class=\"data row3 col7\" >1.744060</td>\n",
       "      <td id=\"T_7ba28_row3_col8\" class=\"data row3 col8\" >0.872942</td>\n",
       "      <td id=\"T_7ba28_row3_col9\" class=\"data row3 col9\" >0.828313</td>\n",
       "    </tr>\n",
       "    <tr>\n",
       "      <td id=\"T_7ba28_row4_col0\" class=\"data row4 col0\" >GridSearchCV</td>\n",
       "      <td id=\"T_7ba28_row4_col1\" class=\"data row4 col1\" >SVR</td>\n",
       "      <td id=\"T_7ba28_row4_col2\" class=\"data row4 col2\" >0.200173</td>\n",
       "      <td id=\"T_7ba28_row4_col3\" class=\"data row4 col3\" >0.002400</td>\n",
       "      <td id=\"T_7ba28_row4_col4\" class=\"data row4 col4\" >0.986359</td>\n",
       "      <td id=\"T_7ba28_row4_col5\" class=\"data row4 col5\" >0.936953</td>\n",
       "      <td id=\"T_7ba28_row4_col6\" class=\"data row4 col6\" >1.754343</td>\n",
       "      <td id=\"T_7ba28_row4_col7\" class=\"data row4 col7\" >1.603791</td>\n",
       "      <td id=\"T_7ba28_row4_col8\" class=\"data row4 col8\" >0.767345</td>\n",
       "      <td id=\"T_7ba28_row4_col9\" class=\"data row4 col9\" >0.712842</td>\n",
       "    </tr>\n",
       "    <tr>\n",
       "      <td id=\"T_7ba28_row5_col0\" class=\"data row5 col0\" >RandomizedSearchCV</td>\n",
       "      <td id=\"T_7ba28_row5_col1\" class=\"data row5 col1\" >SVR</td>\n",
       "      <td id=\"T_7ba28_row5_col2\" class=\"data row5 col2\" >0.133459</td>\n",
       "      <td id=\"T_7ba28_row5_col3\" class=\"data row5 col3\" >0.004725</td>\n",
       "      <td id=\"T_7ba28_row5_col4\" class=\"data row5 col4\" >0.986359</td>\n",
       "      <td id=\"T_7ba28_row5_col5\" class=\"data row5 col5\" >0.936953</td>\n",
       "      <td id=\"T_7ba28_row5_col6\" class=\"data row5 col6\" >1.754343</td>\n",
       "      <td id=\"T_7ba28_row5_col7\" class=\"data row5 col7\" >1.603791</td>\n",
       "      <td id=\"T_7ba28_row5_col8\" class=\"data row5 col8\" >0.767345</td>\n",
       "      <td id=\"T_7ba28_row5_col9\" class=\"data row5 col9\" >0.712842</td>\n",
       "    </tr>\n",
       "    <tr>\n",
       "      <td id=\"T_7ba28_row6_col0\" class=\"data row6 col0\" >GridSearchCV</td>\n",
       "      <td id=\"T_7ba28_row6_col1\" class=\"data row6 col1\" >Lasso</td>\n",
       "      <td id=\"T_7ba28_row6_col2\" class=\"data row6 col2\" >0.043441</td>\n",
       "      <td id=\"T_7ba28_row6_col3\" class=\"data row6 col3\" >0.003525</td>\n",
       "      <td id=\"T_7ba28_row6_col4\" class=\"data row6 col4\" >1.314172</td>\n",
       "      <td id=\"T_7ba28_row6_col5\" class=\"data row6 col5\" >1.294527</td>\n",
       "      <td id=\"T_7ba28_row6_col6\" class=\"data row6 col6\" >2.823608</td>\n",
       "      <td id=\"T_7ba28_row6_col7\" class=\"data row6 col7\" >2.761540</td>\n",
       "      <td id=\"T_7ba28_row6_col8\" class=\"data row6 col8\" >1.072224</td>\n",
       "      <td id=\"T_7ba28_row6_col9\" class=\"data row6 col9\" >1.025069</td>\n",
       "    </tr>\n",
       "    <tr>\n",
       "      <td id=\"T_7ba28_row7_col0\" class=\"data row7 col0\" >RandomizedSearchCV</td>\n",
       "      <td id=\"T_7ba28_row7_col1\" class=\"data row7 col1\" >Lasso</td>\n",
       "      <td id=\"T_7ba28_row7_col2\" class=\"data row7 col2\" >0.034533</td>\n",
       "      <td id=\"T_7ba28_row7_col3\" class=\"data row7 col3\" >0.000000</td>\n",
       "      <td id=\"T_7ba28_row7_col4\" class=\"data row7 col4\" >1.314172</td>\n",
       "      <td id=\"T_7ba28_row7_col5\" class=\"data row7 col5\" >1.294527</td>\n",
       "      <td id=\"T_7ba28_row7_col6\" class=\"data row7 col6\" >2.823608</td>\n",
       "      <td id=\"T_7ba28_row7_col7\" class=\"data row7 col7\" >2.761540</td>\n",
       "      <td id=\"T_7ba28_row7_col8\" class=\"data row7 col8\" >1.072224</td>\n",
       "      <td id=\"T_7ba28_row7_col9\" class=\"data row7 col9\" >1.025069</td>\n",
       "    </tr>\n",
       "    <tr>\n",
       "      <td id=\"T_7ba28_row8_col0\" class=\"data row8 col0\" >GridSearchCV</td>\n",
       "      <td id=\"T_7ba28_row8_col1\" class=\"data row8 col1\" >Ridge</td>\n",
       "      <td id=\"T_7ba28_row8_col2\" class=\"data row8 col2\" >0.214700</td>\n",
       "      <td id=\"T_7ba28_row8_col3\" class=\"data row8 col3\" >0.005226</td>\n",
       "      <td id=\"T_7ba28_row8_col4\" class=\"data row8 col4\" >0.955149</td>\n",
       "      <td id=\"T_7ba28_row8_col5\" class=\"data row8 col5\" >0.899359</td>\n",
       "      <td id=\"T_7ba28_row8_col6\" class=\"data row8 col6\" >1.609832</td>\n",
       "      <td id=\"T_7ba28_row8_col7\" class=\"data row8 col7\" >1.405309</td>\n",
       "      <td id=\"T_7ba28_row8_col8\" class=\"data row8 col8\" >0.771486</td>\n",
       "      <td id=\"T_7ba28_row8_col9\" class=\"data row8 col9\" >0.702165</td>\n",
       "    </tr>\n",
       "    <tr>\n",
       "      <td id=\"T_7ba28_row9_col0\" class=\"data row9 col0\" >RandomizedSearchCV</td>\n",
       "      <td id=\"T_7ba28_row9_col1\" class=\"data row9 col1\" >Ridge</td>\n",
       "      <td id=\"T_7ba28_row9_col2\" class=\"data row9 col2\" >0.204316</td>\n",
       "      <td id=\"T_7ba28_row9_col3\" class=\"data row9 col3\" >0.003123</td>\n",
       "      <td id=\"T_7ba28_row9_col4\" class=\"data row9 col4\" >0.956419</td>\n",
       "      <td id=\"T_7ba28_row9_col5\" class=\"data row9 col5\" >0.900725</td>\n",
       "      <td id=\"T_7ba28_row9_col6\" class=\"data row9 col6\" >1.613390</td>\n",
       "      <td id=\"T_7ba28_row9_col7\" class=\"data row9 col7\" >1.406250</td>\n",
       "      <td id=\"T_7ba28_row9_col8\" class=\"data row9 col8\" >0.765752</td>\n",
       "      <td id=\"T_7ba28_row9_col9\" class=\"data row9 col9\" >0.703139</td>\n",
       "    </tr>\n",
       "  </tbody>\n",
       "</table>\n"
      ],
      "text/plain": [
       "<pandas.io.formats.style.Styler at 0x237bdd40f70>"
      ]
     },
     "metadata": {},
     "output_type": "display_data"
    },
    {
     "data": {
      "text/markdown": [
       "### Servo dataset"
      ],
      "text/plain": [
       "<IPython.core.display.Markdown object>"
      ]
     },
     "metadata": {},
     "output_type": "display_data"
    },
    {
     "name": "stdout",
     "output_type": "stream",
     "text": [
      "Report saved as a html file: 'reports/Servo dataset.html\n"
     ]
    },
    {
     "data": {
      "text/html": [
       "<style type=\"text/css\">\n",
       "#T_b06f7_row1_col2, #T_b06f7_row6_col4, #T_b06f7_row6_col5, #T_b06f7_row6_col6, #T_b06f7_row6_col7, #T_b06f7_row6_col8, #T_b06f7_row6_col9, #T_b06f7_row7_col4, #T_b06f7_row7_col5, #T_b06f7_row7_col6, #T_b06f7_row7_col7, #T_b06f7_row7_col8, #T_b06f7_row7_col9, #T_b06f7_row8_col3 {\n",
       "  background-color: red;\n",
       "}\n",
       "#T_b06f7_row3_col3, #T_b06f7_row4_col4, #T_b06f7_row4_col5, #T_b06f7_row4_col8, #T_b06f7_row4_col9, #T_b06f7_row5_col4, #T_b06f7_row5_col5, #T_b06f7_row5_col8, #T_b06f7_row5_col9, #T_b06f7_row7_col2, #T_b06f7_row8_col6, #T_b06f7_row8_col7 {\n",
       "  background-color: lime;\n",
       "}\n",
       "</style>\n",
       "<table id=\"T_b06f7\">\n",
       "  <thead>\n",
       "    <tr>\n",
       "      <th id=\"T_b06f7_level0_col0\" class=\"col_heading level0 col0\" >Search_strategy</th>\n",
       "      <th id=\"T_b06f7_level0_col1\" class=\"col_heading level0 col1\" >Model_name</th>\n",
       "      <th id=\"T_b06f7_level0_col2\" class=\"col_heading level0 col2\" >fit_time</th>\n",
       "      <th id=\"T_b06f7_level0_col3\" class=\"col_heading level0 col3\" >score_time</th>\n",
       "      <th id=\"T_b06f7_level0_col4\" class=\"col_heading level0 col4\" >test_mean_absolute_error</th>\n",
       "      <th id=\"T_b06f7_level0_col5\" class=\"col_heading level0 col5\" >train_mean_absolute_error</th>\n",
       "      <th id=\"T_b06f7_level0_col6\" class=\"col_heading level0 col6\" >test_mean_squared_error</th>\n",
       "      <th id=\"T_b06f7_level0_col7\" class=\"col_heading level0 col7\" >train_mean_squared_error</th>\n",
       "      <th id=\"T_b06f7_level0_col8\" class=\"col_heading level0 col8\" >test_median_absolute_error</th>\n",
       "      <th id=\"T_b06f7_level0_col9\" class=\"col_heading level0 col9\" >train_median_absolute_error</th>\n",
       "    </tr>\n",
       "  </thead>\n",
       "  <tbody>\n",
       "    <tr>\n",
       "      <td id=\"T_b06f7_row0_col0\" class=\"data row0 col0\" >GridSearchCV</td>\n",
       "      <td id=\"T_b06f7_row0_col1\" class=\"data row0 col1\" >ElasticNet</td>\n",
       "      <td id=\"T_b06f7_row0_col2\" class=\"data row0 col2\" >0.262531</td>\n",
       "      <td id=\"T_b06f7_row0_col3\" class=\"data row0 col3\" >0.004537</td>\n",
       "      <td id=\"T_b06f7_row0_col4\" class=\"data row0 col4\" >0.908642</td>\n",
       "      <td id=\"T_b06f7_row0_col5\" class=\"data row0 col5\" >0.837255</td>\n",
       "      <td id=\"T_b06f7_row0_col6\" class=\"data row0 col6\" >1.246556</td>\n",
       "      <td id=\"T_b06f7_row0_col7\" class=\"data row0 col7\" >1.050954</td>\n",
       "      <td id=\"T_b06f7_row0_col8\" class=\"data row0 col8\" >0.788835</td>\n",
       "      <td id=\"T_b06f7_row0_col9\" class=\"data row0 col9\" >0.750322</td>\n",
       "    </tr>\n",
       "    <tr>\n",
       "      <td id=\"T_b06f7_row1_col0\" class=\"data row1 col0\" >RandomizedSearchCV</td>\n",
       "      <td id=\"T_b06f7_row1_col1\" class=\"data row1 col1\" >ElasticNet</td>\n",
       "      <td id=\"T_b06f7_row1_col2\" class=\"data row1 col2\" >0.431252</td>\n",
       "      <td id=\"T_b06f7_row1_col3\" class=\"data row1 col3\" >0.005635</td>\n",
       "      <td id=\"T_b06f7_row1_col4\" class=\"data row1 col4\" >0.908768</td>\n",
       "      <td id=\"T_b06f7_row1_col5\" class=\"data row1 col5\" >0.837259</td>\n",
       "      <td id=\"T_b06f7_row1_col6\" class=\"data row1 col6\" >1.246878</td>\n",
       "      <td id=\"T_b06f7_row1_col7\" class=\"data row1 col7\" >1.050900</td>\n",
       "      <td id=\"T_b06f7_row1_col8\" class=\"data row1 col8\" >0.788636</td>\n",
       "      <td id=\"T_b06f7_row1_col9\" class=\"data row1 col9\" >0.750293</td>\n",
       "    </tr>\n",
       "    <tr>\n",
       "      <td id=\"T_b06f7_row2_col0\" class=\"data row2 col0\" >GridSearchCV</td>\n",
       "      <td id=\"T_b06f7_row2_col1\" class=\"data row2 col1\" >SGDRegressor</td>\n",
       "      <td id=\"T_b06f7_row2_col2\" class=\"data row2 col2\" >0.135158</td>\n",
       "      <td id=\"T_b06f7_row2_col3\" class=\"data row2 col3\" >0.006248</td>\n",
       "      <td id=\"T_b06f7_row2_col4\" class=\"data row2 col4\" >0.951793</td>\n",
       "      <td id=\"T_b06f7_row2_col5\" class=\"data row2 col5\" >0.886842</td>\n",
       "      <td id=\"T_b06f7_row2_col6\" class=\"data row2 col6\" >1.577683</td>\n",
       "      <td id=\"T_b06f7_row2_col7\" class=\"data row2 col7\" >1.350935</td>\n",
       "      <td id=\"T_b06f7_row2_col8\" class=\"data row2 col8\" >0.771840</td>\n",
       "      <td id=\"T_b06f7_row2_col9\" class=\"data row2 col9\" >0.703254</td>\n",
       "    </tr>\n",
       "    <tr>\n",
       "      <td id=\"T_b06f7_row3_col0\" class=\"data row3 col0\" >RandomizedSearchCV</td>\n",
       "      <td id=\"T_b06f7_row3_col1\" class=\"data row3 col1\" >SGDRegressor</td>\n",
       "      <td id=\"T_b06f7_row3_col2\" class=\"data row3 col2\" >0.103258</td>\n",
       "      <td id=\"T_b06f7_row3_col3\" class=\"data row3 col3\" >0.000000</td>\n",
       "      <td id=\"T_b06f7_row3_col4\" class=\"data row3 col4\" >0.951648</td>\n",
       "      <td id=\"T_b06f7_row3_col5\" class=\"data row3 col5\" >0.886931</td>\n",
       "      <td id=\"T_b06f7_row3_col6\" class=\"data row3 col6\" >1.578578</td>\n",
       "      <td id=\"T_b06f7_row3_col7\" class=\"data row3 col7\" >1.352606</td>\n",
       "      <td id=\"T_b06f7_row3_col8\" class=\"data row3 col8\" >0.771064</td>\n",
       "      <td id=\"T_b06f7_row3_col9\" class=\"data row3 col9\" >0.699753</td>\n",
       "    </tr>\n",
       "    <tr>\n",
       "      <td id=\"T_b06f7_row4_col0\" class=\"data row4 col0\" >GridSearchCV</td>\n",
       "      <td id=\"T_b06f7_row4_col1\" class=\"data row4 col1\" >SVR</td>\n",
       "      <td id=\"T_b06f7_row4_col2\" class=\"data row4 col2\" >0.137130</td>\n",
       "      <td id=\"T_b06f7_row4_col3\" class=\"data row4 col3\" >0.001711</td>\n",
       "      <td id=\"T_b06f7_row4_col4\" class=\"data row4 col4\" >0.782014</td>\n",
       "      <td id=\"T_b06f7_row4_col5\" class=\"data row4 col5\" >0.735512</td>\n",
       "      <td id=\"T_b06f7_row4_col6\" class=\"data row4 col6\" >1.921804</td>\n",
       "      <td id=\"T_b06f7_row4_col7\" class=\"data row4 col7\" >1.817660</td>\n",
       "      <td id=\"T_b06f7_row4_col8\" class=\"data row4 col8\" >0.298706</td>\n",
       "      <td id=\"T_b06f7_row4_col9\" class=\"data row4 col9\" >0.266208</td>\n",
       "    </tr>\n",
       "    <tr>\n",
       "      <td id=\"T_b06f7_row5_col0\" class=\"data row5 col0\" >RandomizedSearchCV</td>\n",
       "      <td id=\"T_b06f7_row5_col1\" class=\"data row5 col1\" >SVR</td>\n",
       "      <td id=\"T_b06f7_row5_col2\" class=\"data row5 col2\" >0.097434</td>\n",
       "      <td id=\"T_b06f7_row5_col3\" class=\"data row5 col3\" >0.003125</td>\n",
       "      <td id=\"T_b06f7_row5_col4\" class=\"data row5 col4\" >0.782014</td>\n",
       "      <td id=\"T_b06f7_row5_col5\" class=\"data row5 col5\" >0.735512</td>\n",
       "      <td id=\"T_b06f7_row5_col6\" class=\"data row5 col6\" >1.921804</td>\n",
       "      <td id=\"T_b06f7_row5_col7\" class=\"data row5 col7\" >1.817660</td>\n",
       "      <td id=\"T_b06f7_row5_col8\" class=\"data row5 col8\" >0.298706</td>\n",
       "      <td id=\"T_b06f7_row5_col9\" class=\"data row5 col9\" >0.266208</td>\n",
       "    </tr>\n",
       "    <tr>\n",
       "      <td id=\"T_b06f7_row6_col0\" class=\"data row6 col0\" >GridSearchCV</td>\n",
       "      <td id=\"T_b06f7_row6_col1\" class=\"data row6 col1\" >Lasso</td>\n",
       "      <td id=\"T_b06f7_row6_col2\" class=\"data row6 col2\" >0.062922</td>\n",
       "      <td id=\"T_b06f7_row6_col3\" class=\"data row6 col3\" >0.003125</td>\n",
       "      <td id=\"T_b06f7_row6_col4\" class=\"data row6 col4\" >1.166033</td>\n",
       "      <td id=\"T_b06f7_row6_col5\" class=\"data row6 col5\" >1.148963</td>\n",
       "      <td id=\"T_b06f7_row6_col6\" class=\"data row6 col6\" >2.458431</td>\n",
       "      <td id=\"T_b06f7_row6_col7\" class=\"data row6 col7\" >2.413140</td>\n",
       "      <td id=\"T_b06f7_row6_col8\" class=\"data row6 col8\" >0.868505</td>\n",
       "      <td id=\"T_b06f7_row6_col9\" class=\"data row6 col9\" >0.872255</td>\n",
       "    </tr>\n",
       "    <tr>\n",
       "      <td id=\"T_b06f7_row7_col0\" class=\"data row7 col0\" >RandomizedSearchCV</td>\n",
       "      <td id=\"T_b06f7_row7_col1\" class=\"data row7 col1\" >Lasso</td>\n",
       "      <td id=\"T_b06f7_row7_col2\" class=\"data row7 col2\" >0.043948</td>\n",
       "      <td id=\"T_b06f7_row7_col3\" class=\"data row7 col3\" >0.003136</td>\n",
       "      <td id=\"T_b06f7_row7_col4\" class=\"data row7 col4\" >1.166033</td>\n",
       "      <td id=\"T_b06f7_row7_col5\" class=\"data row7 col5\" >1.148963</td>\n",
       "      <td id=\"T_b06f7_row7_col6\" class=\"data row7 col6\" >2.458431</td>\n",
       "      <td id=\"T_b06f7_row7_col7\" class=\"data row7 col7\" >2.413140</td>\n",
       "      <td id=\"T_b06f7_row7_col8\" class=\"data row7 col8\" >0.868505</td>\n",
       "      <td id=\"T_b06f7_row7_col9\" class=\"data row7 col9\" >0.872255</td>\n",
       "    </tr>\n",
       "    <tr>\n",
       "      <td id=\"T_b06f7_row8_col0\" class=\"data row8 col0\" >GridSearchCV</td>\n",
       "      <td id=\"T_b06f7_row8_col1\" class=\"data row8 col1\" >Ridge</td>\n",
       "      <td id=\"T_b06f7_row8_col2\" class=\"data row8 col2\" >0.293336</td>\n",
       "      <td id=\"T_b06f7_row8_col3\" class=\"data row8 col3\" >0.011578</td>\n",
       "      <td id=\"T_b06f7_row8_col4\" class=\"data row8 col4\" >0.907852</td>\n",
       "      <td id=\"T_b06f7_row8_col5\" class=\"data row8 col5\" >0.837232</td>\n",
       "      <td id=\"T_b06f7_row8_col6\" class=\"data row8 col6\" >1.244651</td>\n",
       "      <td id=\"T_b06f7_row8_col7\" class=\"data row8 col7\" >1.050439</td>\n",
       "      <td id=\"T_b06f7_row8_col8\" class=\"data row8 col8\" >0.797843</td>\n",
       "      <td id=\"T_b06f7_row8_col9\" class=\"data row8 col9\" >0.749730</td>\n",
       "    </tr>\n",
       "    <tr>\n",
       "      <td id=\"T_b06f7_row9_col0\" class=\"data row9 col0\" >RandomizedSearchCV</td>\n",
       "      <td id=\"T_b06f7_row9_col1\" class=\"data row9 col1\" >Ridge</td>\n",
       "      <td id=\"T_b06f7_row9_col2\" class=\"data row9 col2\" >0.279178</td>\n",
       "      <td id=\"T_b06f7_row9_col3\" class=\"data row9 col3\" >0.002502</td>\n",
       "      <td id=\"T_b06f7_row9_col4\" class=\"data row9 col4\" >0.908005</td>\n",
       "      <td id=\"T_b06f7_row9_col5\" class=\"data row9 col5\" >0.837253</td>\n",
       "      <td id=\"T_b06f7_row9_col6\" class=\"data row9 col6\" >1.245212</td>\n",
       "      <td id=\"T_b06f7_row9_col7\" class=\"data row9 col7\" >1.050597</td>\n",
       "      <td id=\"T_b06f7_row9_col8\" class=\"data row9 col8\" >0.794806</td>\n",
       "      <td id=\"T_b06f7_row9_col9\" class=\"data row9 col9\" >0.748659</td>\n",
       "    </tr>\n",
       "  </tbody>\n",
       "</table>\n"
      ],
      "text/plain": [
       "<pandas.io.formats.style.Styler at 0x237c276bf10>"
      ]
     },
     "metadata": {},
     "output_type": "display_data"
    },
    {
     "data": {
      "text/markdown": [
       "### Parkinsons dataset"
      ],
      "text/plain": [
       "<IPython.core.display.Markdown object>"
      ]
     },
     "metadata": {},
     "output_type": "display_data"
    },
    {
     "name": "stdout",
     "output_type": "stream",
     "text": [
      "Report saved as a html file: 'reports/Parkinsons dataset.html\n"
     ]
    },
    {
     "data": {
      "text/html": [
       "<style type=\"text/css\">\n",
       "#T_e3a2e_row4_col2, #T_e3a2e_row4_col3, #T_e3a2e_row6_col4, #T_e3a2e_row6_col5, #T_e3a2e_row6_col6, #T_e3a2e_row6_col7, #T_e3a2e_row6_col8, #T_e3a2e_row6_col9, #T_e3a2e_row7_col4, #T_e3a2e_row7_col5, #T_e3a2e_row7_col6, #T_e3a2e_row7_col7, #T_e3a2e_row7_col8, #T_e3a2e_row7_col9 {\n",
       "  background-color: red;\n",
       "}\n",
       "#T_e3a2e_row7_col2, #T_e3a2e_row7_col3, #T_e3a2e_row8_col5, #T_e3a2e_row8_col7, #T_e3a2e_row8_col8, #T_e3a2e_row8_col9, #T_e3a2e_row9_col4, #T_e3a2e_row9_col6 {\n",
       "  background-color: lime;\n",
       "}\n",
       "</style>\n",
       "<table id=\"T_e3a2e\">\n",
       "  <thead>\n",
       "    <tr>\n",
       "      <th id=\"T_e3a2e_level0_col0\" class=\"col_heading level0 col0\" >Search_strategy</th>\n",
       "      <th id=\"T_e3a2e_level0_col1\" class=\"col_heading level0 col1\" >Model_name</th>\n",
       "      <th id=\"T_e3a2e_level0_col2\" class=\"col_heading level0 col2\" >fit_time</th>\n",
       "      <th id=\"T_e3a2e_level0_col3\" class=\"col_heading level0 col3\" >score_time</th>\n",
       "      <th id=\"T_e3a2e_level0_col4\" class=\"col_heading level0 col4\" >test_mean_absolute_error</th>\n",
       "      <th id=\"T_e3a2e_level0_col5\" class=\"col_heading level0 col5\" >train_mean_absolute_error</th>\n",
       "      <th id=\"T_e3a2e_level0_col6\" class=\"col_heading level0 col6\" >test_mean_squared_error</th>\n",
       "      <th id=\"T_e3a2e_level0_col7\" class=\"col_heading level0 col7\" >train_mean_squared_error</th>\n",
       "      <th id=\"T_e3a2e_level0_col8\" class=\"col_heading level0 col8\" >test_median_absolute_error</th>\n",
       "      <th id=\"T_e3a2e_level0_col9\" class=\"col_heading level0 col9\" >train_median_absolute_error</th>\n",
       "    </tr>\n",
       "  </thead>\n",
       "  <tbody>\n",
       "    <tr>\n",
       "      <td id=\"T_e3a2e_row0_col0\" class=\"data row0 col0\" >GridSearchCV</td>\n",
       "      <td id=\"T_e3a2e_row0_col1\" class=\"data row0 col1\" >ElasticNet</td>\n",
       "      <td id=\"T_e3a2e_row0_col2\" class=\"data row0 col2\" >0.312476</td>\n",
       "      <td id=\"T_e3a2e_row0_col3\" class=\"data row0 col3\" >0.004123</td>\n",
       "      <td id=\"T_e3a2e_row0_col4\" class=\"data row0 col4\" >0.039257</td>\n",
       "      <td id=\"T_e3a2e_row0_col5\" class=\"data row0 col5\" >0.036461</td>\n",
       "      <td id=\"T_e3a2e_row0_col6\" class=\"data row0 col6\" >0.002662</td>\n",
       "      <td id=\"T_e3a2e_row0_col7\" class=\"data row0 col7\" >0.002295</td>\n",
       "      <td id=\"T_e3a2e_row0_col8\" class=\"data row0 col8\" >0.032094</td>\n",
       "      <td id=\"T_e3a2e_row0_col9\" class=\"data row0 col9\" >0.029409</td>\n",
       "    </tr>\n",
       "    <tr>\n",
       "      <td id=\"T_e3a2e_row1_col0\" class=\"data row1 col0\" >RandomizedSearchCV</td>\n",
       "      <td id=\"T_e3a2e_row1_col1\" class=\"data row1 col1\" >ElasticNet</td>\n",
       "      <td id=\"T_e3a2e_row1_col2\" class=\"data row1 col2\" >0.554529</td>\n",
       "      <td id=\"T_e3a2e_row1_col3\" class=\"data row1 col3\" >0.002811</td>\n",
       "      <td id=\"T_e3a2e_row1_col4\" class=\"data row1 col4\" >0.039153</td>\n",
       "      <td id=\"T_e3a2e_row1_col5\" class=\"data row1 col5\" >0.036279</td>\n",
       "      <td id=\"T_e3a2e_row1_col6\" class=\"data row1 col6\" >0.002655</td>\n",
       "      <td id=\"T_e3a2e_row1_col7\" class=\"data row1 col7\" >0.002277</td>\n",
       "      <td id=\"T_e3a2e_row1_col8\" class=\"data row1 col8\" >0.031795</td>\n",
       "      <td id=\"T_e3a2e_row1_col9\" class=\"data row1 col9\" >0.029214</td>\n",
       "    </tr>\n",
       "    <tr>\n",
       "      <td id=\"T_e3a2e_row2_col0\" class=\"data row2 col0\" >GridSearchCV</td>\n",
       "      <td id=\"T_e3a2e_row2_col1\" class=\"data row2 col1\" >SGDRegressor</td>\n",
       "      <td id=\"T_e3a2e_row2_col2\" class=\"data row2 col2\" >0.192885</td>\n",
       "      <td id=\"T_e3a2e_row2_col3\" class=\"data row2 col3\" >0.004547</td>\n",
       "      <td id=\"T_e3a2e_row2_col4\" class=\"data row2 col4\" >0.043249</td>\n",
       "      <td id=\"T_e3a2e_row2_col5\" class=\"data row2 col5\" >0.041696</td>\n",
       "      <td id=\"T_e3a2e_row2_col6\" class=\"data row2 col6\" >0.003182</td>\n",
       "      <td id=\"T_e3a2e_row2_col7\" class=\"data row2 col7\" >0.002966</td>\n",
       "      <td id=\"T_e3a2e_row2_col8\" class=\"data row2 col8\" >0.034746</td>\n",
       "      <td id=\"T_e3a2e_row2_col9\" class=\"data row2 col9\" >0.033573</td>\n",
       "    </tr>\n",
       "    <tr>\n",
       "      <td id=\"T_e3a2e_row3_col0\" class=\"data row3 col0\" >RandomizedSearchCV</td>\n",
       "      <td id=\"T_e3a2e_row3_col1\" class=\"data row3 col1\" >SGDRegressor</td>\n",
       "      <td id=\"T_e3a2e_row3_col2\" class=\"data row3 col2\" >0.161901</td>\n",
       "      <td id=\"T_e3a2e_row3_col3\" class=\"data row3 col3\" >0.002703</td>\n",
       "      <td id=\"T_e3a2e_row3_col4\" class=\"data row3 col4\" >0.043694</td>\n",
       "      <td id=\"T_e3a2e_row3_col5\" class=\"data row3 col5\" >0.041840</td>\n",
       "      <td id=\"T_e3a2e_row3_col6\" class=\"data row3 col6\" >0.003226</td>\n",
       "      <td id=\"T_e3a2e_row3_col7\" class=\"data row3 col7\" >0.002962</td>\n",
       "      <td id=\"T_e3a2e_row3_col8\" class=\"data row3 col8\" >0.035542</td>\n",
       "      <td id=\"T_e3a2e_row3_col9\" class=\"data row3 col9\" >0.033946</td>\n",
       "    </tr>\n",
       "    <tr>\n",
       "      <td id=\"T_e3a2e_row4_col0\" class=\"data row4 col0\" >GridSearchCV</td>\n",
       "      <td id=\"T_e3a2e_row4_col1\" class=\"data row4 col1\" >SVR</td>\n",
       "      <td id=\"T_e3a2e_row4_col2\" class=\"data row4 col2\" >1.050438</td>\n",
       "      <td id=\"T_e3a2e_row4_col3\" class=\"data row4 col3\" >0.010830</td>\n",
       "      <td id=\"T_e3a2e_row4_col4\" class=\"data row4 col4\" >0.038997</td>\n",
       "      <td id=\"T_e3a2e_row4_col5\" class=\"data row4 col5\" >0.037563</td>\n",
       "      <td id=\"T_e3a2e_row4_col6\" class=\"data row4 col6\" >0.002562</td>\n",
       "      <td id=\"T_e3a2e_row4_col7\" class=\"data row4 col7\" >0.002236</td>\n",
       "      <td id=\"T_e3a2e_row4_col8\" class=\"data row4 col8\" >0.031470</td>\n",
       "      <td id=\"T_e3a2e_row4_col9\" class=\"data row4 col9\" >0.031687</td>\n",
       "    </tr>\n",
       "    <tr>\n",
       "      <td id=\"T_e3a2e_row5_col0\" class=\"data row5 col0\" >RandomizedSearchCV</td>\n",
       "      <td id=\"T_e3a2e_row5_col1\" class=\"data row5 col1\" >SVR</td>\n",
       "      <td id=\"T_e3a2e_row5_col2\" class=\"data row5 col2\" >0.714406</td>\n",
       "      <td id=\"T_e3a2e_row5_col3\" class=\"data row5 col3\" >0.010144</td>\n",
       "      <td id=\"T_e3a2e_row5_col4\" class=\"data row5 col4\" >0.038997</td>\n",
       "      <td id=\"T_e3a2e_row5_col5\" class=\"data row5 col5\" >0.037563</td>\n",
       "      <td id=\"T_e3a2e_row5_col6\" class=\"data row5 col6\" >0.002562</td>\n",
       "      <td id=\"T_e3a2e_row5_col7\" class=\"data row5 col7\" >0.002236</td>\n",
       "      <td id=\"T_e3a2e_row5_col8\" class=\"data row5 col8\" >0.031470</td>\n",
       "      <td id=\"T_e3a2e_row5_col9\" class=\"data row5 col9\" >0.031687</td>\n",
       "    </tr>\n",
       "    <tr>\n",
       "      <td id=\"T_e3a2e_row6_col0\" class=\"data row6 col0\" >GridSearchCV</td>\n",
       "      <td id=\"T_e3a2e_row6_col1\" class=\"data row6 col1\" >Lasso</td>\n",
       "      <td id=\"T_e3a2e_row6_col2\" class=\"data row6 col2\" >0.076887</td>\n",
       "      <td id=\"T_e3a2e_row6_col3\" class=\"data row6 col3\" >0.003489</td>\n",
       "      <td id=\"T_e3a2e_row6_col4\" class=\"data row6 col4\" >0.070425</td>\n",
       "      <td id=\"T_e3a2e_row6_col5\" class=\"data row6 col5\" >0.069550</td>\n",
       "      <td id=\"T_e3a2e_row6_col6\" class=\"data row6 col6\" >0.008555</td>\n",
       "      <td id=\"T_e3a2e_row6_col7\" class=\"data row6 col7\" >0.008350</td>\n",
       "      <td id=\"T_e3a2e_row6_col8\" class=\"data row6 col8\" >0.057891</td>\n",
       "      <td id=\"T_e3a2e_row6_col9\" class=\"data row6 col9\" >0.055829</td>\n",
       "    </tr>\n",
       "    <tr>\n",
       "      <td id=\"T_e3a2e_row7_col0\" class=\"data row7 col0\" >RandomizedSearchCV</td>\n",
       "      <td id=\"T_e3a2e_row7_col1\" class=\"data row7 col1\" >Lasso</td>\n",
       "      <td id=\"T_e3a2e_row7_col2\" class=\"data row7 col2\" >0.056485</td>\n",
       "      <td id=\"T_e3a2e_row7_col3\" class=\"data row7 col3\" >0.000000</td>\n",
       "      <td id=\"T_e3a2e_row7_col4\" class=\"data row7 col4\" >0.070425</td>\n",
       "      <td id=\"T_e3a2e_row7_col5\" class=\"data row7 col5\" >0.069550</td>\n",
       "      <td id=\"T_e3a2e_row7_col6\" class=\"data row7 col6\" >0.008555</td>\n",
       "      <td id=\"T_e3a2e_row7_col7\" class=\"data row7 col7\" >0.008350</td>\n",
       "      <td id=\"T_e3a2e_row7_col8\" class=\"data row7 col8\" >0.057891</td>\n",
       "      <td id=\"T_e3a2e_row7_col9\" class=\"data row7 col9\" >0.055829</td>\n",
       "    </tr>\n",
       "    <tr>\n",
       "      <td id=\"T_e3a2e_row8_col0\" class=\"data row8 col0\" >GridSearchCV</td>\n",
       "      <td id=\"T_e3a2e_row8_col1\" class=\"data row8 col1\" >Ridge</td>\n",
       "      <td id=\"T_e3a2e_row8_col2\" class=\"data row8 col2\" >0.368278</td>\n",
       "      <td id=\"T_e3a2e_row8_col3\" class=\"data row8 col3\" >0.007055</td>\n",
       "      <td id=\"T_e3a2e_row8_col4\" class=\"data row8 col4\" >0.035807</td>\n",
       "      <td id=\"T_e3a2e_row8_col5\" class=\"data row8 col5\" >0.032256</td>\n",
       "      <td id=\"T_e3a2e_row8_col6\" class=\"data row8 col6\" >0.002391</td>\n",
       "      <td id=\"T_e3a2e_row8_col7\" class=\"data row8 col7\" >0.001834</td>\n",
       "      <td id=\"T_e3a2e_row8_col8\" class=\"data row8 col8\" >0.028376</td>\n",
       "      <td id=\"T_e3a2e_row8_col9\" class=\"data row8 col9\" >0.025593</td>\n",
       "    </tr>\n",
       "    <tr>\n",
       "      <td id=\"T_e3a2e_row9_col0\" class=\"data row9 col0\" >RandomizedSearchCV</td>\n",
       "      <td id=\"T_e3a2e_row9_col1\" class=\"data row9 col1\" >Ridge</td>\n",
       "      <td id=\"T_e3a2e_row9_col2\" class=\"data row9 col2\" >0.323588</td>\n",
       "      <td id=\"T_e3a2e_row9_col3\" class=\"data row9 col3\" >0.006250</td>\n",
       "      <td id=\"T_e3a2e_row9_col4\" class=\"data row9 col4\" >0.035721</td>\n",
       "      <td id=\"T_e3a2e_row9_col5\" class=\"data row9 col5\" >0.032300</td>\n",
       "      <td id=\"T_e3a2e_row9_col6\" class=\"data row9 col6\" >0.002377</td>\n",
       "      <td id=\"T_e3a2e_row9_col7\" class=\"data row9 col7\" >0.001840</td>\n",
       "      <td id=\"T_e3a2e_row9_col8\" class=\"data row9 col8\" >0.028389</td>\n",
       "      <td id=\"T_e3a2e_row9_col9\" class=\"data row9 col9\" >0.025619</td>\n",
       "    </tr>\n",
       "  </tbody>\n",
       "</table>\n"
      ],
      "text/plain": [
       "<pandas.io.formats.style.Styler at 0x237c21bb430>"
      ]
     },
     "metadata": {},
     "output_type": "display_data"
    },
    {
     "data": {
      "text/markdown": [
       "### Wine quality dataset"
      ],
      "text/plain": [
       "<IPython.core.display.Markdown object>"
      ]
     },
     "metadata": {},
     "output_type": "display_data"
    },
    {
     "name": "stdout",
     "output_type": "stream",
     "text": [
      "Report saved as a html file: 'reports/Wine quality dataset.html\n"
     ]
    },
    {
     "data": {
      "text/html": [
       "<style type=\"text/css\">\n",
       "#T_b2414_row0_col6, #T_b2414_row1_col3, #T_b2414_row2_col3, #T_b2414_row3_col3, #T_b2414_row4_col4, #T_b2414_row4_col5, #T_b2414_row4_col8, #T_b2414_row4_col9, #T_b2414_row5_col4, #T_b2414_row5_col5, #T_b2414_row5_col8, #T_b2414_row5_col9, #T_b2414_row7_col2, #T_b2414_row8_col7, #T_b2414_row9_col3, #T_b2414_row9_col7 {\n",
       "  background-color: lime;\n",
       "}\n",
       "#T_b2414_row4_col2, #T_b2414_row4_col3, #T_b2414_row6_col4, #T_b2414_row6_col5, #T_b2414_row6_col6, #T_b2414_row6_col7, #T_b2414_row6_col8, #T_b2414_row6_col9, #T_b2414_row7_col4, #T_b2414_row7_col5, #T_b2414_row7_col6, #T_b2414_row7_col7, #T_b2414_row7_col8, #T_b2414_row7_col9 {\n",
       "  background-color: red;\n",
       "}\n",
       "</style>\n",
       "<table id=\"T_b2414\">\n",
       "  <thead>\n",
       "    <tr>\n",
       "      <th id=\"T_b2414_level0_col0\" class=\"col_heading level0 col0\" >Search_strategy</th>\n",
       "      <th id=\"T_b2414_level0_col1\" class=\"col_heading level0 col1\" >Model_name</th>\n",
       "      <th id=\"T_b2414_level0_col2\" class=\"col_heading level0 col2\" >fit_time</th>\n",
       "      <th id=\"T_b2414_level0_col3\" class=\"col_heading level0 col3\" >score_time</th>\n",
       "      <th id=\"T_b2414_level0_col4\" class=\"col_heading level0 col4\" >test_mean_absolute_error</th>\n",
       "      <th id=\"T_b2414_level0_col5\" class=\"col_heading level0 col5\" >train_mean_absolute_error</th>\n",
       "      <th id=\"T_b2414_level0_col6\" class=\"col_heading level0 col6\" >test_mean_squared_error</th>\n",
       "      <th id=\"T_b2414_level0_col7\" class=\"col_heading level0 col7\" >train_mean_squared_error</th>\n",
       "      <th id=\"T_b2414_level0_col8\" class=\"col_heading level0 col8\" >test_median_absolute_error</th>\n",
       "      <th id=\"T_b2414_level0_col9\" class=\"col_heading level0 col9\" >train_median_absolute_error</th>\n",
       "    </tr>\n",
       "  </thead>\n",
       "  <tbody>\n",
       "    <tr>\n",
       "      <td id=\"T_b2414_row0_col0\" class=\"data row0 col0\" >GridSearchCV</td>\n",
       "      <td id=\"T_b2414_row0_col1\" class=\"data row0 col1\" >ElasticNet</td>\n",
       "      <td id=\"T_b2414_row0_col2\" class=\"data row0 col2\" >0.189901</td>\n",
       "      <td id=\"T_b2414_row0_col3\" class=\"data row0 col3\" >0.003123</td>\n",
       "      <td id=\"T_b2414_row0_col4\" class=\"data row0 col4\" >0.512318</td>\n",
       "      <td id=\"T_b2414_row0_col5\" class=\"data row0 col5\" >0.501862</td>\n",
       "      <td id=\"T_b2414_row0_col6\" class=\"data row0 col6\" >0.436407</td>\n",
       "      <td id=\"T_b2414_row0_col7\" class=\"data row0 col7\" >0.415623</td>\n",
       "      <td id=\"T_b2414_row0_col8\" class=\"data row0 col8\" >0.407856</td>\n",
       "      <td id=\"T_b2414_row0_col9\" class=\"data row0 col9\" >0.400618</td>\n",
       "    </tr>\n",
       "    <tr>\n",
       "      <td id=\"T_b2414_row1_col0\" class=\"data row1 col0\" >RandomizedSearchCV</td>\n",
       "      <td id=\"T_b2414_row1_col1\" class=\"data row1 col1\" >ElasticNet</td>\n",
       "      <td id=\"T_b2414_row1_col2\" class=\"data row1 col2\" >0.266795</td>\n",
       "      <td id=\"T_b2414_row1_col3\" class=\"data row1 col3\" >0.000000</td>\n",
       "      <td id=\"T_b2414_row1_col4\" class=\"data row1 col4\" >0.512407</td>\n",
       "      <td id=\"T_b2414_row1_col5\" class=\"data row1 col5\" >0.501906</td>\n",
       "      <td id=\"T_b2414_row1_col6\" class=\"data row1 col6\" >0.436508</td>\n",
       "      <td id=\"T_b2414_row1_col7\" class=\"data row1 col7\" >0.415647</td>\n",
       "      <td id=\"T_b2414_row1_col8\" class=\"data row1 col8\" >0.407956</td>\n",
       "      <td id=\"T_b2414_row1_col9\" class=\"data row1 col9\" >0.401297</td>\n",
       "    </tr>\n",
       "    <tr>\n",
       "      <td id=\"T_b2414_row2_col0\" class=\"data row2 col0\" >GridSearchCV</td>\n",
       "      <td id=\"T_b2414_row2_col1\" class=\"data row2 col1\" >SGDRegressor</td>\n",
       "      <td id=\"T_b2414_row2_col2\" class=\"data row2 col2\" >0.137941</td>\n",
       "      <td id=\"T_b2414_row2_col3\" class=\"data row2 col3\" >0.000000</td>\n",
       "      <td id=\"T_b2414_row2_col4\" class=\"data row2 col4\" >0.561900</td>\n",
       "      <td id=\"T_b2414_row2_col5\" class=\"data row2 col5\" >0.547663</td>\n",
       "      <td id=\"T_b2414_row2_col6\" class=\"data row2 col6\" >0.523296</td>\n",
       "      <td id=\"T_b2414_row2_col7\" class=\"data row2 col7\" >0.498065</td>\n",
       "      <td id=\"T_b2414_row2_col8\" class=\"data row2 col8\" >0.472960</td>\n",
       "      <td id=\"T_b2414_row2_col9\" class=\"data row2 col9\" >0.461986</td>\n",
       "    </tr>\n",
       "    <tr>\n",
       "      <td id=\"T_b2414_row3_col0\" class=\"data row3 col0\" >RandomizedSearchCV</td>\n",
       "      <td id=\"T_b2414_row3_col1\" class=\"data row3 col1\" >SGDRegressor</td>\n",
       "      <td id=\"T_b2414_row3_col2\" class=\"data row3 col2\" >0.100537</td>\n",
       "      <td id=\"T_b2414_row3_col3\" class=\"data row3 col3\" >0.000000</td>\n",
       "      <td id=\"T_b2414_row3_col4\" class=\"data row3 col4\" >0.565438</td>\n",
       "      <td id=\"T_b2414_row3_col5\" class=\"data row3 col5\" >0.549065</td>\n",
       "      <td id=\"T_b2414_row3_col6\" class=\"data row3 col6\" >0.529140</td>\n",
       "      <td id=\"T_b2414_row3_col7\" class=\"data row3 col7\" >0.500826</td>\n",
       "      <td id=\"T_b2414_row3_col8\" class=\"data row3 col8\" >0.473621</td>\n",
       "      <td id=\"T_b2414_row3_col9\" class=\"data row3 col9\" >0.464101</td>\n",
       "    </tr>\n",
       "    <tr>\n",
       "      <td id=\"T_b2414_row4_col0\" class=\"data row4 col0\" >GridSearchCV</td>\n",
       "      <td id=\"T_b2414_row4_col1\" class=\"data row4 col1\" >SVR</td>\n",
       "      <td id=\"T_b2414_row4_col2\" class=\"data row4 col2\" >0.926209</td>\n",
       "      <td id=\"T_b2414_row4_col3\" class=\"data row4 col3\" >0.007337</td>\n",
       "      <td id=\"T_b2414_row4_col4\" class=\"data row4 col4\" >0.506675</td>\n",
       "      <td id=\"T_b2414_row4_col5\" class=\"data row4 col5\" >0.493507</td>\n",
       "      <td id=\"T_b2414_row4_col6\" class=\"data row4 col6\" >0.437734</td>\n",
       "      <td id=\"T_b2414_row4_col7\" class=\"data row4 col7\" >0.422064</td>\n",
       "      <td id=\"T_b2414_row4_col8\" class=\"data row4 col8\" >0.404735</td>\n",
       "      <td id=\"T_b2414_row4_col9\" class=\"data row4 col9\" >0.382238</td>\n",
       "    </tr>\n",
       "    <tr>\n",
       "      <td id=\"T_b2414_row5_col0\" class=\"data row5 col0\" >RandomizedSearchCV</td>\n",
       "      <td id=\"T_b2414_row5_col1\" class=\"data row5 col1\" >SVR</td>\n",
       "      <td id=\"T_b2414_row5_col2\" class=\"data row5 col2\" >0.710868</td>\n",
       "      <td id=\"T_b2414_row5_col3\" class=\"data row5 col3\" >0.007177</td>\n",
       "      <td id=\"T_b2414_row5_col4\" class=\"data row5 col4\" >0.506675</td>\n",
       "      <td id=\"T_b2414_row5_col5\" class=\"data row5 col5\" >0.493507</td>\n",
       "      <td id=\"T_b2414_row5_col6\" class=\"data row5 col6\" >0.437734</td>\n",
       "      <td id=\"T_b2414_row5_col7\" class=\"data row5 col7\" >0.422064</td>\n",
       "      <td id=\"T_b2414_row5_col8\" class=\"data row5 col8\" >0.404735</td>\n",
       "      <td id=\"T_b2414_row5_col9\" class=\"data row5 col9\" >0.382238</td>\n",
       "    </tr>\n",
       "    <tr>\n",
       "      <td id=\"T_b2414_row6_col0\" class=\"data row6 col0\" >GridSearchCV</td>\n",
       "      <td id=\"T_b2414_row6_col1\" class=\"data row6 col1\" >Lasso</td>\n",
       "      <td id=\"T_b2414_row6_col2\" class=\"data row6 col2\" >0.047136</td>\n",
       "      <td id=\"T_b2414_row6_col3\" class=\"data row6 col3\" >0.006249</td>\n",
       "      <td id=\"T_b2414_row6_col4\" class=\"data row6 col4\" >0.692316</td>\n",
       "      <td id=\"T_b2414_row6_col5\" class=\"data row6 col5\" >0.680886</td>\n",
       "      <td id=\"T_b2414_row6_col6\" class=\"data row6 col6\" >0.668548</td>\n",
       "      <td id=\"T_b2414_row6_col7\" class=\"data row6 col7\" >0.649890</td>\n",
       "      <td id=\"T_b2414_row6_col8\" class=\"data row6 col8\" >0.636018</td>\n",
       "      <td id=\"T_b2414_row6_col9\" class=\"data row6 col9\" >0.636018</td>\n",
       "    </tr>\n",
       "    <tr>\n",
       "      <td id=\"T_b2414_row7_col0\" class=\"data row7 col0\" >RandomizedSearchCV</td>\n",
       "      <td id=\"T_b2414_row7_col1\" class=\"data row7 col1\" >Lasso</td>\n",
       "      <td id=\"T_b2414_row7_col2\" class=\"data row7 col2\" >0.034615</td>\n",
       "      <td id=\"T_b2414_row7_col3\" class=\"data row7 col3\" >0.003125</td>\n",
       "      <td id=\"T_b2414_row7_col4\" class=\"data row7 col4\" >0.692316</td>\n",
       "      <td id=\"T_b2414_row7_col5\" class=\"data row7 col5\" >0.680886</td>\n",
       "      <td id=\"T_b2414_row7_col6\" class=\"data row7 col6\" >0.668548</td>\n",
       "      <td id=\"T_b2414_row7_col7\" class=\"data row7 col7\" >0.649890</td>\n",
       "      <td id=\"T_b2414_row7_col8\" class=\"data row7 col8\" >0.636018</td>\n",
       "      <td id=\"T_b2414_row7_col9\" class=\"data row7 col9\" >0.636018</td>\n",
       "    </tr>\n",
       "    <tr>\n",
       "      <td id=\"T_b2414_row8_col0\" class=\"data row8 col0\" >GridSearchCV</td>\n",
       "      <td id=\"T_b2414_row8_col1\" class=\"data row8 col1\" >Ridge</td>\n",
       "      <td id=\"T_b2414_row8_col2\" class=\"data row8 col2\" >0.222894</td>\n",
       "      <td id=\"T_b2414_row8_col3\" class=\"data row8 col3\" >0.006250</td>\n",
       "      <td id=\"T_b2414_row8_col4\" class=\"data row8 col4\" >0.510470</td>\n",
       "      <td id=\"T_b2414_row8_col5\" class=\"data row8 col5\" >0.500136</td>\n",
       "      <td id=\"T_b2414_row8_col6\" class=\"data row8 col6\" >0.436485</td>\n",
       "      <td id=\"T_b2414_row8_col7\" class=\"data row8 col7\" >0.414810</td>\n",
       "      <td id=\"T_b2414_row8_col8\" class=\"data row8 col8\" >0.414485</td>\n",
       "      <td id=\"T_b2414_row8_col9\" class=\"data row8 col9\" >0.396808</td>\n",
       "    </tr>\n",
       "    <tr>\n",
       "      <td id=\"T_b2414_row9_col0\" class=\"data row9 col0\" >RandomizedSearchCV</td>\n",
       "      <td id=\"T_b2414_row9_col1\" class=\"data row9 col1\" >Ridge</td>\n",
       "      <td id=\"T_b2414_row9_col2\" class=\"data row9 col2\" >0.208900</td>\n",
       "      <td id=\"T_b2414_row9_col3\" class=\"data row9 col3\" >0.000000</td>\n",
       "      <td id=\"T_b2414_row9_col4\" class=\"data row9 col4\" >0.510470</td>\n",
       "      <td id=\"T_b2414_row9_col5\" class=\"data row9 col5\" >0.500136</td>\n",
       "      <td id=\"T_b2414_row9_col6\" class=\"data row9 col6\" >0.436485</td>\n",
       "      <td id=\"T_b2414_row9_col7\" class=\"data row9 col7\" >0.414810</td>\n",
       "      <td id=\"T_b2414_row9_col8\" class=\"data row9 col8\" >0.414485</td>\n",
       "      <td id=\"T_b2414_row9_col9\" class=\"data row9 col9\" >0.396808</td>\n",
       "    </tr>\n",
       "  </tbody>\n",
       "</table>\n"
      ],
      "text/plain": [
       "<pandas.io.formats.style.Styler at 0x237bdd03340>"
      ]
     },
     "metadata": {},
     "output_type": "display_data"
    }
   ],
   "source": [
    "for dataset in datasets:\n",
    "    display(Markdown(f'### {dataset}'))\n",
    "    results_table: pd.DataFrame = apply_models_on_data(*datasets[dataset], models=models)\n",
    "        \n",
    "    results_table_styled: pd.io.formats.style.Styler = style_data_frame(results_table)\n",
    "    generate_report(results_table_styled, dataset)\n",
    "\n",
    "    print(f\"Report saved as a html file: 'reports/{dataset}.html\")\n",
    "\n",
    "    display(results_table_styled)\n"
   ]
  },
  {
   "cell_type": "markdown",
   "metadata": {
    "pycharm": {
     "name": "#%% md\n"
    }
   },
   "source": [
    "# Documentarea modelelor"
   ]
  },
  {
   "cell_type": "markdown",
   "metadata": {
    "pycharm": {
     "name": "#%% md\n"
    }
   },
   "source": [
    "## Epsilon-Support Vector Regression\n",
    "\n",
    "class `sklearn.svm.SVR` <i>(*, kernel='rbf', degree=3, gamma='scale', coef0=0.0, tol=0.001, C=1.0, epsilon=0.1, shrinking=True, cache_size=200, verbose=False, max_iter=-1)</i>\n",
    "\n",
    "Scopul lui ε-SVR este de a estima o funcție, fiind constrâns ca estimarea de către funcție a fiecărei intrări să aibă o deviație de cel mult ε față de intrare, deci va penaliza predicțiile care sunt mai depărtate de ε decât rezultatul așteptat. În cazul unei funcții liniare $f$, aceasta va avea forma:\n",
    "\n",
    "$$\\large y = w^\\top X + b$$\n",
    "\n",
    "ε-SVR găsește o aproximație a funcției $f$ prin identificarea unui \"tub insensibil la epsilon cât mai plat\", cu alte cuvinte, caută ponderi cât mai mici. În final, funcția care va aproxima $f $va avea următoarea formă: \n",
    "\n",
    "$$\\large \\min_w \\frac{1}{2} \\left \\lVert w \\right \\rVert^2, \\text{unde} \n",
    "     \\begin{cases}\n",
    "       y_i - w^\\top X_i - b \\leq \\epsilon \\\\\n",
    "       w^\\top X_i + b - y_i \\leq \\epsilon \\\\ \n",
    "     \\end{cases}$$\n",
    "     \n",
    "<img src = \"./images/svr.png\"></img>\n",
    "\n",
    "În domeniul învățării automate, un algoritm de regresie a vectorilor de suport poate fi, în unele cazuri, mai potrivit pentru probleme de regresie decât alți algoritmi obișnuiți și populari. Mai jos sunt cazurile în care o regresie a vectorului suport este avantajoasă față de alți algoritmi de regresie:\n",
    "<ol>\n",
    "<li>SVM este eficient din punct de vedere al memoriei, ceea ce înseamnă că este nevoie de o cantitate relativ mai mică de resurse de calcul pentru a instrui modelul. Acest lucru se datorează faptului că prezentarea soluției prin intermediul unui subset mic de puncte de instruire oferă avantaje de calcul enorme.</li>\n",
    "<li>Există relații neliniare sau complexe între caracteristici și etichete. Acest lucru se datorează faptului că avem opțiunea de a converti relațiile neliniare la probleme cu dimensiuni superioare în cazul regresiei vectorului suport.</li>\n",
    "</ol>\n",
    "\n",
    "Există trei implementări diferite ale regresiei vectoriale de suport: SVR, NuSVR și LinearSVR. LinearSVR oferă o implementare mai rapidă decât SVR, dar are în vedere doar nucleul liniar, în timp ce NuSVR implementează o formulare ușor diferită de SVR și LinearSVR. \n",
    "\n",
    "### Bibliografie\n",
    "    \n",
    "#### https://en.wikipedia.org/wiki/Support-vector_machine#Regression)\n",
    "#### https://scikit-learn.org/stable/modules/generated/sklearn.svm.SVR\n",
    "#### https://heartbeat.fritz.ai/support-vector-regression-in-python-using-scikit-learn-89cc18e933b7"
   ]
  },
  {
   "cell_type": "markdown",
   "metadata": {
    "ExecuteTime": {
     "end_time": "2021-05-04T11:46:51.573578Z",
     "start_time": "2021-05-04T11:46:51.549789Z"
    },
    "pycharm": {
     "name": "#%% md\n"
    }
   },
   "source": [
    "## Lasso\n",
    "\n",
    "class `sklearn.linear_model.Lasso` <i>(alpha=1.0, *, fit_intercept=True, normalize=False, precompute=False, copy_X=True, max_iter=1000, tol=0.0001, warm_start=False, positive=False, random_state=None, selection='cyclic')</i> \n",
    "\n",
    "<b>LASSO</b> înseamnă „Operator de selecție și contracție cel mai puțin absolut”.\n",
    "\n",
    "Regresia lazo este o extensie a regresiei liniare care adaugă o penalizare de regularizare funcției de pierdere în timpul antrenamentului. Efectuează regularizarea L1, adică adaugă penalizare echivalentă cu valoarea absolută a magnitudinii coeficienților.\n",
    "\n",
    "Obiectivul de optimizare pentru Lasso este:\n",
    "     \n",
    "$$\\large \\frac{1}{2 \\cdot \\text{number of samples}} \\cdot \\left\\lVert y - Xw \\right\\rVert^2 + \\alpha \\cdot \\left\\lVert w \\right \\rVert_1 $$\n",
    "\n",
    "Lasso  este  un  model  liniar  care  estimează  coeficienții  rari.  Este  util  în  unele  contexte  datorită  tendinței  sale  de  a  prefera  soluții  cu  mai  puțini  coeficienți  diferiți  de  zero,  reducând  efectiv  numărul  de  caracteristici  de  care  depinde  soluția  dată.  Din  acest  motiv,  Lasso  și  variantele  sale  sunt  fundamentale  pentru  câmpul  de  detectare  comprimat.  În  anumite  condiții,  poate  recupera  setul  exact  de  coeficienți  diferiți  de  zero.\n",
    "\n",
    "Regresia  lasso  este  un  tip  de  regresie  liniară  care  folosește  contracția.\n",
    "Reducerea  este  locul  în  care  valorile  datelor  sunt  micșorate  către  un  punct  central,  cum  ar  fi  media.\n",
    "\n",
    "Procedura  lasso  încurajează  modele  simple,  rare  (adică  modele  cu  mai  puțini  parametri).  Acest  tip  special  de  regresie  este  potrivit  pentru  modelele  care  prezintă  niveluri  ridicate  de  muticoliniaritate  sau  când  doriți  să  automatizați  anumite  părți  ale  selecției  modelului,  cum  ar  fi  selecția  variabilă  /  eliminarea  parametrilor.\n",
    "\n",
    "\n",
    "<img src = \"./images/lasso.png\"></img>\n",
    "\n",
    "\n",
    "### Bibliografie\n",
    "    \n",
    "#### https://scikit-learn.org/stable/modules/generated/sklearn.linear_model.Lasso.html\n",
    "#### https://www.statisticshowto.com/lasso-regression/"
   ]
  },
  {
   "cell_type": "markdown",
   "metadata": {
    "pycharm": {
     "name": "#%% md\n"
    }
   },
   "source": [
    "## Ridge\n",
    "\n",
    "class `sklearn.linear_model.Ridge` <i>(alpha=1.0, *, fit_intercept=True, normalize=False, copy_X=True, max_iter=None, tol=0.001, solver='auto', random_state=None)</i>\n",
    "\n",
    "Acest model rezolvă un model de regresie în care funcția de pierdere este funcția liniară a celor mai mici pătrate și regularizarea este dată de norma l2. Cunoscută și sub denumirea de Ridge Regression sau Tikhonov regularization. \n",
    "Acest estimator are suport încorporat pentru regresia multi-variabilă (adică, când y este o matrice 2d de formă (n_samples, n_targets)).\n",
    "\n",
    "Regresia Ridge este o metodă de estimare a coeficienților modelelor cu regresie multiplă în scenarii în care variabilele independente sunt puternic corelate.\n",
    "\n",
    "Regresia Ridge a fost dezvoltată ca o posibilă soluție la imprecizia estimatorilor cu cel mai mic pătrat atunci când modelele de regresie liniară au unele variabile independente multicoliniare (foarte corelate) - prin crearea unui estimator de regresie a crestei (RR). Aceasta oferă o estimare mai precisă a parametrilor de creastă, deoarece varianța și estimatorul pătrat mediu sunt adesea mai mici decât estimatorii cei mai puțin pătrați derivați anterior.\n",
    "\n",
    "<img src = \"./images/ridge.png\"></img>\n",
    "<img src = \"./images/rl.png\"></img>\n",
    "\n",
    "### Bibliografie\n",
    "\n",
    "#### https://scikit-learn.org/stable/modules/linear_model.html#ridge-regression\n",
    "#### https://en.wikipedia.org/wiki/Ridge_regression\n"
   ]
  },
  {
   "cell_type": "markdown",
   "metadata": {
    "pycharm": {
     "name": "#%% md\n"
    }
   },
   "source": [
    "## ElasticNet\n",
    "\n",
    "class `sklearn.linear_model.ElasticNet` <i>(alpha=1.0, *, l1_ratio=0.5, fit_intercept=True, normalize=False, precompute=False, max_iter=1000, copy_X=True, tol=0.0001, warm_start=False, positive=False, random_state=None, selection='cyclic')</i>\n",
    "\n",
    "În anul 2005, Hui Zou și Trevor Hastie au creat modelul de regresie ElasticNet pentru a-l îmbunătăți pe cel de Lasso. Estimatorul Lasso funcționează cel mai bine atunci când setul de date conține multe trăsături inutile, acestea din urmă fiind eliminate, simplificând funcția obiectiv. În schimb, estimatorul Ridge este deseori utilizat atunci când majoritatea trăsăturilor sunt utile. În cazul unor seturi de date cu foarte multe trăsături, alegerea unui estimator poate fi o problemă, deoarece nu putem cunoaște toate trăsăturile și nu le putem estima importanța. ElasticNet rezolvă problema, oferind regularizare flexibilă (`l1_ratio` în `sklearn`) și profitând de avantajele fiecărui regresor. \n",
    "\n",
    "ElasticNet extinde Lasso adăugându-se încă un termen de penalizare L2 funcției obiectiv, combinând astfel penalizările L1 și L2 ale regresorilor Lasso și Ridge. Practic, Scikit-learn minimizează următoarea funcție:\n",
    "\n",
    "$$\\large \\frac{1}{2 \\cdot \\text{number of samples}} \\cdot \\left\\lVert y - Xw \\right\\rVert^2_2 + \\alpha \\cdot \\text{L1 ratio} \\cdot \\left\\lVert w \\right \\rVert_1 + 0.5 \\cdot \\alpha \\cdot (1 - \\text{L1 ratio}) \\cdot \\left\\lVert w \\right \\rVert^2_2,$$\n",
    "\n",
    "În statistici și, particular, în potrivirea modelelor de regresie liniară sau logistică, elastic net este o metodă de regresie regularizată care combină liniar penalitățile L1 și L2 ale metodelor Lasso și Ridge. Insa metoda elastic net depaseste limitele metodei Lasso (cel mai mic operator de contractie si selectie absoluta), care utilizeaza o functie de penalizare.\n",
    "\n",
    "Utilizarea acestei funcții de penalizare are mai multe limitări:\n",
    "\n",
    "De exemplu, în cazul „p mare, mic n” (date cu dimensiuni ridicate, cu câteva exemple), LASSO selectează cel mult n variabile înainte de a se satura. De asemenea, dacă există un grup de variabile foarte corelate, atunci LASSO tinde să selecteze o variabilă dintr-un grup și să le ignore pe celelalte. Pentru a depăși aceste limitări, elastic net adaugă o parte pătratică la penalizare, care atunci când este utilizată singură este o regresie Ridge.\n",
    "\n",
    "<img src = \"./images/lren.png\"></img>\n",
    "\n",
    "### Bibliografie\n",
    " \n",
    "#### https://scikit-learn.org/stable/modules/generated/sklearn.linear_model.ElasticNet.html\n",
    "#### https://en.wikipedia.org/wiki/Elastic_net_regularization\n"
   ]
  },
  {
   "cell_type": "markdown",
   "metadata": {
    "pycharm": {
     "name": "#%% md\n"
    }
   },
   "source": [
    "## SGDRegressor\n",
    "\n",
    "class `sklearn.linear_model.SGDRegressor` <i>(loss='squared_loss', *, penalty='l2', alpha=0.0001, l1_ratio=0.15, fit_intercept=True, max_iter=1000, tol=0.001, shuffle=True, verbose=0, epsilon=0.1, random_state=None, learning_rate='invscaling', eta0=0.01, power_t=0.25, early_stopping=False, validation_fraction=0.1, n_iter_no_change=5, warm_start=False, average=False)</i>\n",
    "SGD înseamnă Stochastic Gradient Descent: gradientul pierderii este estimat la fiecare eșantion la un moment dat și modelul este actualizat pe parcurs cu un program de rezistență descrescător (alias rata de învățare).\n",
    "\n",
    "Pașii algoritmului sunt: \n",
    "<ol>\n",
    "<li>Găsiți panta funcției obiective în raport cu fiecare parametru / caracteristică. Cu alte cuvinte, calculați gradientul funcției.</li>\n",
    "<li>Alegeți o valoare inițială aleatorie pentru parametri. (Pentru a clarifica, în exemplul parabolei, diferențiați „y” față de „x”. Dacă am avea mai multe caracteristici precum x1, x2 etc., luăm derivata parțială a „y” față de fiecare dintre caracteristici.)</li>\n",
    "<li>Actualizați funcția de gradient conectând valorile parametrilor.</li>\n",
    "<li>Calculați dimensiunile pașilor pentru fiecare caracteristică astfel: mărimea pasului = gradient * rata de învățare.</li>\n",
    "<li>Calculați noii parametri ca: parametri noi = parametri vechi - dimensiunea pasului</li>\n",
    "<li>Repetați pașii de la 3 la 5 până când gradientul este aproape de 0.</li>\n",
    "</ol>\n",
    "\n",
    "SGDRegressor este model liniar adaptat prin minimizarea unei pierderi empirice regularizate cu SGD.\n",
    "\n",
    "Regularizatorul este o penalizare adăugată funcției de pierdere care micșorează parametrii modelului către vectorul zero folosind fie norma euclidiană pătrată L2, fie norma absolută L1 sau o combinație a ambelor (Elastic Net). Dacă actualizarea parametrului depășește valoarea 0,0 din cauza regulatorului, actualizarea este trunchiată la 0,0 pentru a permite învățarea modelelor rare și pentru a realiza selectarea caracteristicilor online. \n",
    "\n",
    "<img src = \"./images/sgd.png\"></img>\n",
    "\n",
    "### Bibliografie\n",
    "\n",
    "#### https://scikit-learn.org/stable/modules/generated/sklearn.linear_model.SGDRegressor.html\n",
    "#### https://www.datatechnotes.com/2020/09/regression-example-with-sgdregressor-in-python.html\n"
   ]
  },
  {
   "cell_type": "code",
   "execution_count": null,
   "metadata": {
    "pycharm": {
     "name": "#%%\n"
    }
   },
   "outputs": [],
   "source": []
  }
 ],
 "metadata": {
  "kernelspec": {
   "display_name": "Python 3 (ipykernel)",
   "language": "python",
   "name": "python3"
  },
  "language_info": {
   "codemirror_mode": {
    "name": "ipython",
    "version": 3
   },
   "file_extension": ".py",
   "mimetype": "text/x-python",
   "name": "python",
   "nbconvert_exporter": "python",
   "pygments_lexer": "ipython3",
   "version": "3.9.13"
  },
  "toc": {
   "base_numbering": 1,
   "nav_menu": {},
   "number_sections": true,
   "sideBar": true,
   "skip_h1_title": false,
   "title_cell": "Table of Contents",
   "title_sidebar": "Contents",
   "toc_cell": false,
   "toc_position": {
    "height": "calc(100% - 180px)",
    "left": "10px",
    "top": "150px",
    "width": "307.2px"
   },
   "toc_section_display": true,
   "toc_window_display": true
  },
  "varInspector": {
   "cols": {
    "lenName": 16,
    "lenType": 16,
    "lenVar": 40
   },
   "kernels_config": {
    "python": {
     "delete_cmd_postfix": "",
     "delete_cmd_prefix": "del ",
     "library": "var_list.py",
     "varRefreshCmd": "print(var_dic_list())"
    },
    "r": {
     "delete_cmd_postfix": ") ",
     "delete_cmd_prefix": "rm(",
     "library": "var_list.r",
     "varRefreshCmd": "cat(var_dic_list()) "
    }
   },
   "types_to_exclude": [
    "module",
    "function",
    "builtin_function_or_method",
    "instance",
    "_Feature"
   ],
   "window_display": false
  }
 },
 "nbformat": 4,
 "nbformat_minor": 4
}
