{
 "cells": [
  {
   "cell_type": "markdown",
   "id": "f6cc83a0",
   "metadata": {},
   "source": [
    "# Laborator 3 - tema 3"
   ]
  },
  {
   "cell_type": "markdown",
   "id": "ffc91598",
   "metadata": {},
   "source": [
    "Se acordă doua puncte din oficiu. Fișierul va fi denumit tema3_ia_nume_prenume.ipynb. Verificați înainte de trimitere faptul ca execuția celulelor de sus în jos funcționează corespunzător. Aserțiunile sunt obligatoriu a fi indeplinite. Suplimentar, puteti face verificari si pentru alte valori.\n",
    "\n",
    "Se vor folosi type annotations pentru variabile, parametrii tuturor funcțiilor, tipuri de retur. Se vor folosi docstrings pentru toate funcțiile. Neîndeplinirea acestei cerințe duce la înjumătățirea punctajului pentru exercițiul în cauză.  \n",
    "\n",
    "Tema va fi predata pana cel tarziu in 1 noiembrie ora 23, pe platforma."
   ]
  },
  {
   "cell_type": "code",
   "execution_count": 1,
   "id": "b59576ca",
   "metadata": {},
   "outputs": [],
   "source": [
    "import numpy as np\n",
    "from typing import Tuple"
   ]
  },
  {
   "cell_type": "markdown",
   "id": "ad23e658",
   "metadata": {},
   "source": [
    "1. (1p) Pentru un vector de numere, care sunt toate pozitiile pe care apare valoarea minima?\n",
    "Folositi functii NumPy."
   ]
  },
  {
   "cell_type": "code",
   "execution_count": 2,
   "id": "b72d0c3b",
   "metadata": {
    "ExecuteTime": {
     "end_time": "2022-10-30T10:59:24.861886Z",
     "start_time": "2022-10-30T10:59:24.559968Z"
    }
   },
   "outputs": [],
   "source": [
    "v: np.ndarray = np.array([1, 2, 3, 4, 4, 3, 1] * 2, dtype=np.float32)\n",
    "\n",
    "positions_min: Tuple[np.ndarray] = np.where(v == np.amin(v))\n",
    "\n",
    "assert np.all(positions_min[0] == np.array([ 0,  6,  7, 13]))"
   ]
  },
  {
   "cell_type": "markdown",
   "id": "a676a350",
   "metadata": {},
   "source": [
    "2. (1p) Construiti o functie care, primind o matrice, determina pe ce pozitii (linii, coloane) se afla valorile in intervalele [a, b] sau [c, d] date ca parametri. Functia va returna un tuplu de doi vectori: primul e cu indicii de linie, al doilea cu indicii de coloana unde se afla elementele cautate.\n",
    "\n",
    "Exemplu:"
   ]
  },
  {
   "cell_type": "code",
   "execution_count": 3,
   "id": "c4c2b27a",
   "metadata": {
    "ExecuteTime": {
     "end_time": "2022-10-30T11:08:50.670807Z",
     "start_time": "2022-10-30T11:08:50.664643Z"
    }
   },
   "outputs": [],
   "source": [
    "def pos_values(matrix: np.ndarray, a: int, b: int, c: int, d: int) -> Tuple[np.ndarray, np.ndarray]:\n",
    "    \"\"\"\n",
    "    Determines the positions of those elements that are in one of th ranges given as parameters: [a, b] and [c, d].\n",
    "    \n",
    "    :param matrix: the given array\n",
    "    :param a: first interval upper bound\n",
    "    :param b: first interval lower bound\n",
    "    :param c: second interval upper bound\n",
    "    :param d: second interval lower bound\n",
    "    \n",
    "    :returns: tuple containing two vectors: the first with row indices and the second with column indices where \n",
    "              the searched elements are located\n",
    "    \"\"\"\n",
    "    first_interval: np.ndarray = np.logical_and(matrix >= a, matrix <= b)\n",
    "    second_interval: np.ndarray = np.logical_and(matrix >= c, matrix <= d)\n",
    "    positions: Tuple[np.ndarray, np.ndarray] = np.where(np.logical_or(first_interval, second_interval))\n",
    "    return (positions[0], positions[1])\n",
    "\n",
    "mat = np.arange(12).reshape(3, 4)\n",
    "rows, cols = pos_values(mat, 2, 4, 6, 8)\n",
    "\n",
    "assert np.all(rows == [0, 0, 1, 1, 1, 2])\n",
    "assert np.all(cols == [2, 3, 0, 2, 3, 0])\n",
    "\n",
    "mat = -np.arange(12).reshape(3, 4)\n",
    "rows, cols = pos_values(mat, 2, 4, 6, 8)\n",
    "assert np.all(rows == [])\n",
    "assert np.all(cols == [])"
   ]
  },
  {
   "cell_type": "markdown",
   "id": "54daf93f",
   "metadata": {},
   "source": [
    "3. (1p) Se da un vector cu numere intregi nenule. Sa se determine toti indicii `i` unde urmeaza o schimbare de semn. Codul se va scrie intr-o functie adnotata.\n",
    "\n",
    "Exemplu: \n",
    "```python\n",
    "v = [1, 2, -1, 2, 3, -1, 3, -10, -10, -10]\n",
    "```\n",
    "Trebuie sa rezulte vectorul de indici: `[1, 2, 4, 5, 6]`.\n",
    "\n",
    "De luat in considerare ca:\n",
    "1. Magnitudinea valorilor nu conteaza, doar semnele lor\n",
    "1. Functia `np.where` gaseste indicii unde anumite proprietati sunt indeplinite"
   ]
  },
  {
   "cell_type": "code",
   "execution_count": 4,
   "id": "f6f92c03",
   "metadata": {
    "ExecuteTime": {
     "end_time": "2022-10-30T11:09:05.322519Z",
     "start_time": "2022-10-30T11:09:05.311945Z"
    }
   },
   "outputs": [],
   "source": [
    "def jumping(v: np.ndarray) -> np.ndarray: \n",
    "    \"\"\"\n",
    "    Computes the indexes of the elements after which sign change follows.\n",
    "    \n",
    "    :param v: the initial array\n",
    "    \n",
    "    :return: the positions that validate the condition\n",
    "    \"\"\"\n",
    "    assert np.all( v != 0), 'All values should be non-zero'\n",
    "    next_is_diff: np.ndarray = (v[:-1] * v[1:]) < 0\n",
    "    positions: Tuple[np.ndarray] = np.where(next_is_diff)\n",
    "    return positions[0]\n",
    "\n",
    "# test 1\n",
    "v = np.array([1, 2, -1, 2, 3, -1, 3, -10, -10, -10])\n",
    "assert np.all(jumping(v) == [1, 2, 4, 5, 6])\n",
    "\n",
    "# test 2: random vector, naive counting\n",
    "v = np.random.randint(-100, 100, 1000)\n",
    "# patching 0 values\n",
    "v[v==0] = -1\n",
    "# naive way of counting jumps:\n",
    "positions = []\n",
    "for i in range(len(v)-1):\n",
    "    if v[i] * v[i+1] < 0:\n",
    "        positions.append(i)\n",
    "    \n",
    "assert np.all(positions == jumping(v))"
   ]
  },
  {
   "cell_type": "markdown",
   "id": "4f0f3a3e",
   "metadata": {},
   "source": [
    "4. (1p) Generati o matrice aleatoare de dimensiune m*n care are m valori nan (not-an-number, https://numpy.org/doc/stable/reference/constants.html), la pozitii aleatoare. Determinati apoi suma elementelor non-nan din matrice in doua feluri (construiti doua functii). Comparati sumele returnate.\n",
    "\n",
    "Exemplu:\n",
    "```python\n",
    "a = get_matrix(3, 4)\n",
    "# sa presupunem ca a este\n",
    "a = \n",
    "    1.5 2.2 np.nan\n",
    "    4.3 np.nan np.nan\n",
    "    10.1 5.0 -3.1\n",
    "```\n",
    "\n",
    "Suma elementelor este 20.0.\n",
    "Indicatii: folositi functia `np.random.choice` cu parametri adecvati pentru a alege indici in mod aleator, fara repetare. "
   ]
  },
  {
   "cell_type": "code",
   "execution_count": 5,
   "id": "599c4fad",
   "metadata": {
    "ExecuteTime": {
     "end_time": "2022-10-30T11:10:08.264395Z",
     "start_time": "2022-10-30T11:10:08.245029Z"
    }
   },
   "outputs": [],
   "source": [
    "def get_matrix(m: int, n: int) -> np.ndarray:\n",
    "    \"\"\"\n",
    "    Generates a random m*n array and places np.nan values at m random indexes.\n",
    "    \n",
    "    :param m: first dimension\n",
    "    :param n: second dimension\n",
    "    \n",
    "    :returns: m*n array containing exactly m np.nan values\n",
    "    \"\"\"\n",
    "    matrix: np.ndarray = np.random.randn(m, n)\n",
    "    matrix.ravel()[np.random.choice(matrix.size, m, replace=False)] = np.nan\n",
    "    assert np.sum(np.isnan(matrix)) == m  # verificare: avem exact m nan-uri\n",
    "    return matrix\n",
    "\n",
    "\n",
    "def sum_1(a: np.ndarray) -> float:\n",
    "    \"\"\"\n",
    "    Computes the sum of an 2d array that contains nan values using the nansum function from numpy.\n",
    "    \n",
    "    :param a: the given array\n",
    "    \n",
    "    :returns: computed sum\n",
    "    \"\"\"\n",
    "    return np.nansum(a)\n",
    "\n",
    "def sum_2(a: np.ndarray) -> float: \n",
    "    \"\"\"\n",
    "    Computes the sum of an 2d array that contains nan values using the sum function from numpy \n",
    "    after the nan values have been replaced by 0.\n",
    "    \n",
    "    :param a: the given array\n",
    "    \n",
    "    :returns: computed sum\n",
    "    \"\"\"\n",
    "    a: np.ndarray = np.where(np.isnan(a), 0, a)\n",
    "    return np.sum(a)\n",
    "\n",
    "def naive_sum(a: np.ndarray) -> float:\n",
    "    \"\"\"\n",
    "    Computes the naive sum of an 2d array that contains nan values using two for blocks.\n",
    "    \n",
    "    :param a: the given array\n",
    "    \n",
    "    :returns: computed sum\n",
    "    \"\"\"\n",
    "    s: int = 0\n",
    "    m, n = a.shape\n",
    "    for i in range(m):\n",
    "        for j in range(n):\n",
    "            s += a[i, j] if not np.isnan(a[i, j]) else 0\n",
    "    return s\n",
    "\n",
    "m, n = 3, 4\n",
    "a = get_matrix(m, n)\n",
    "\n",
    "assert np.allclose(sum_1(a), naive_sum(a))\n",
    "assert np.allclose(sum_2(a), naive_sum(a))\n",
    "\n",
    "# pentru studenti: de ce e nevoie de allclose si nu se face comparatie cu == ?"
   ]
  },
  {
   "cell_type": "markdown",
   "id": "777e3e47",
   "metadata": {},
   "source": [
    "5. (1p) Folosnd functia `np.convolve`, sa se determine media alunecatoare (moving average) pentru un vector de 10000 de numere aleatoare; lungimea ferestrei alunecatore se da ca parametru al functiei construite de voi. Comparati rezultatele si viteza de executie cu a functiaie `naive_moving_average`.\n",
    "\n",
    "Referinte:\n",
    "1. [Moving average](https://en.wikipedia.org/wiki/Moving_average)\n",
    "1. [np.convolve: How to Use Numpy convolve() Method](https://appdividend.com/2022/10/14/np-convolve/)"
   ]
  },
  {
   "cell_type": "code",
   "execution_count": 6,
   "id": "f8693f11",
   "metadata": {
    "ExecuteTime": {
     "end_time": "2022-10-30T11:10:24.091158Z",
     "start_time": "2022-10-30T11:10:16.370498Z"
    }
   },
   "outputs": [
    {
     "name": "stdout",
     "output_type": "stream",
     "text": [
      "41.8 µs ± 471 ns per loop (mean ± std. dev. of 7 runs, 10000 loops each)\n",
      "48.4 ms ± 552 µs per loop (mean ± std. dev. of 7 runs, 10 loops each)\n"
     ]
    }
   ],
   "source": [
    "def moving_average_fast(x: np.ndarray, w: int) -> np.ndarray:\n",
    "    \"\"\"\n",
    "    Computes the moving averages in a vectorized way of an array using convolve method from numpy.\n",
    "    \n",
    "    :param x: initial array\n",
    "    :param w: window size\n",
    "    \n",
    "    :returns: array containing the moving averages \n",
    "    \"\"\"\n",
    "    assert x.ndim == 1, 'One dimension numpy array'\n",
    "    assert w > 1, 'Average of at least two values'\n",
    "    window_array: np.ndarray = np.ones(w)\n",
    "    return np.convolve(x, window_array, 'valid') / w\n",
    "\n",
    "def moving_average_slow(x: np.ndarray, w: int) -> np.ndarray: \n",
    "    \"\"\"\n",
    "    Computes the moving averages iterative.\n",
    "    \n",
    "    :param x: initial array\n",
    "    :param w: window size\n",
    "    \n",
    "    :returns: array containing the moving averages \n",
    "    \"\"\"\n",
    "    assert x.ndim == 1, 'One dimension numpy array'\n",
    "    assert w > 1, 'Average of at least two values'\n",
    "    result: np.ndarray = np.zeros(x.shape[0] - w + 1)\n",
    "    for i in range(x.shape[0] - w + 1):\n",
    "        result[i] = np.mean(x[i:i + w])\n",
    "    return result\n",
    "\n",
    "len_vec, w = 10000, 10\n",
    "x = np.random.rand(len_vec)\n",
    "\n",
    "a = moving_average_fast(x, w)\n",
    "b = moving_average_slow(x, w)\n",
    "\n",
    "assert len(a) == len(b), 'The two methods should return vectors of the same lengths'\n",
    "assert np.allclose(a, b), 'The two methods should return close vectors'\n",
    "\n",
    "%timeit moving_average_fast(x, w)\n",
    "%timeit moving_average_slow(x, w)"
   ]
  },
  {
   "cell_type": "markdown",
   "id": "e9a21733",
   "metadata": {},
   "source": [
    "6. (1p) Se dau vectorii de valori $x=[x_0 \\dots x_{n-1}]$, $t=[t_0, \\dots t_n-1]$, cu $t[0] < t[1] < \\dots$. Sa se calculeze intr-o maniera vectorizata vectorul $v$ ale carui componente sunt:\n",
    "$$\n",
    "v[i] = \\frac{x[i+1] - x[i]}{t[i+1] - t[i]}\n",
    "$$\n",
    "\n",
    "In prealabil sa se verifice (vectorizat sau functii NumPy) ca vectorul $t$ este format doar din valori strict crescatoare. Comparati rezultatele si viteza de executie cu o implementare care construieste vectorul $v$ pas cu pas.\n",
    "\n",
    "Optional: incercati si o implementare folosind Numba. "
   ]
  },
  {
   "cell_type": "code",
   "execution_count": 7,
   "id": "60146771",
   "metadata": {
    "ExecuteTime": {
     "end_time": "2022-10-30T11:10:37.827677Z",
     "start_time": "2022-10-30T11:10:29.651980Z"
    }
   },
   "outputs": [
    {
     "name": "stdout",
     "output_type": "stream",
     "text": [
      "719 µs ± 6.7 µs per loop (mean ± std. dev. of 7 runs, 1000 loops each)\n",
      "61.4 ms ± 3.58 ms per loop (mean ± std. dev. of 7 runs, 10 loops each)\n"
     ]
    }
   ],
   "source": [
    "import numpy as np\n",
    "\n",
    "n = 100000\n",
    "x = np.random.rand(n)\n",
    "t = np.random.randint(1, 10, n)\n",
    "t = t.cumsum()\n",
    "\n",
    "def is_increasing(t: np.ndarray) -> bool: \n",
    "    \"\"\"\n",
    "    Determines if a given array has increasing elements.\n",
    "    \n",
    "    :param t: the given array\n",
    "    \n",
    "    :returns: True if the elements are increasing, False otherwise\n",
    "    \"\"\"\n",
    "    next_is_greater: np.ndarray = t[:-1] < t[1:]\n",
    "    return np.all(next_is_greater)\n",
    "\n",
    "assert is_increasing(t), 't should be an increasing vector'\n",
    "\n",
    "def fast_v(x: np.ndarray, t: np.ndarray) -> np.ndarray: \n",
    "    \"\"\"\n",
    "    Computes in a vectorized way an array following the rule: 𝑣[𝑖]= (𝑥[𝑖+1]−𝑥[𝑖]) / (𝑡[𝑖+1]−𝑡[𝑖]).\n",
    "    \n",
    "    :param x: first array\n",
    "    :param t: second array\n",
    "    \n",
    "    :returns: the computed array\n",
    "    \"\"\"\n",
    "    assert is_increasing(t), 'non increasing values'\n",
    "    return np.diff(x) / np.diff(t)  # or (x[1:] - x[:-1]) / (t[1:] - t[:-1])\n",
    "\n",
    "def slow_v(x: np.ndarray, t: np.ndarray) -> np.ndarray:\n",
    "    \"\"\"\n",
    "    Computes in a traditional way an array following the rule: 𝑣[𝑖]= (𝑥[𝑖+1]−𝑥[𝑖]) / (𝑡[𝑖+1]−𝑡[𝑖]).\n",
    "    \n",
    "    :param x: first array\n",
    "    :param t: second array\n",
    "    \n",
    "    :returns: the computed array\n",
    "    \"\"\"\n",
    "    assert is_increasing(t), 'non increasing values'\n",
    "    result: np.ndarray = np.zeros(x.shape[0] - 1)\n",
    "    for i in range(x.shape[0] - 1):\n",
    "        result[i] = (x[i+1] - x[i]) / (t[i+1] - t[i])\n",
    "    return result\n",
    "\n",
    "\n",
    "v1 = fast_v(x, t)\n",
    "v2 = slow_v(x, t)\n",
    "\n",
    "assert v1.shape == v2.shape\n",
    "assert np.allclose(v1, v2)\n",
    "\n",
    "%timeit fast_v(x, t)\n",
    "%timeit slow_v(x, t)"
   ]
  },
  {
   "cell_type": "markdown",
   "id": "f27b7e8f",
   "metadata": {},
   "source": [
    "7. (2p) Se da o matrice $a$ cu numere reale. \n",
    "    1. Sa se calculeze o alta matrice $b$ care are valorile calculate astfel:\n",
    "    $$\n",
    "    b[i, j] = \\frac{a[i, j] - MIN}{MAX-MIN}\n",
    "    $$\n",
    "    unde $MAX$ si $MIN$ sunt valoarile minima, respectiv maxima din $a$. Tranformarea se face printr-o functie care preia o matrice si returneaza un tuplu compus din matricea $b$ si valorile $MIN$ si $MAX$ \n",
    "    2. Verificati ca in urma acestei transformari matricea $b$ are valorile in intervalul $(-epsilon, 1+epsilon)$, unde $epsilon=1e-5$.\n",
    "    3. Daca se dau $b$, $MIN$, $MAX$, care este transfomarea inversa prin care obtinem matricea $a$ originara? Verificati ca valorile lui $a$ si $a_reconstituit$ sunt aproximativ egale. "
   ]
  },
  {
   "cell_type": "code",
   "execution_count": 8,
   "id": "513a8f93",
   "metadata": {
    "ExecuteTime": {
     "end_time": "2022-10-30T11:05:26.483757Z",
     "start_time": "2022-10-30T11:05:26.473077Z"
    }
   },
   "outputs": [],
   "source": [
    "m, n = 100, 200\n",
    "\n",
    "a = np.random.randn(m, n)\n",
    "\n",
    "# rezolvare pct A\n",
    "def min_max_scale(x: np.ndarray) -> Tuple[np.ndarray, float, float]:\n",
    "    \"\"\"\n",
    "    Computes the min and max values of the given array and then scales it using the min max scaling formula.\n",
    "    \n",
    "    :param x: the given array\n",
    "    \n",
    "    :returns: tuple containing the scaled array, minimum value and maximum value\n",
    "    \"\"\"\n",
    "    minimum: float = np.amin(x)\n",
    "    maximum: float = np.amax(x)\n",
    "    b: np.ndarray = (x - minimum) / (maximum - minimum)\n",
    "    return (b, minimum, maximum)\n",
    "\n",
    "# rezolvare pct B\n",
    "def check_scaling(y: np.ndarray, eps: float = 1e-5) -> bool:\n",
    "    \"\"\"\n",
    "    Checks if the values from a given array y are in the interval [-eps,  eps + 1].\n",
    "    \n",
    "    :param y: the given array\n",
    "    :param eps: eps value\n",
    "    \n",
    "    :returns: True if all values in y are in interval, False otherwise\n",
    "    \"\"\"\n",
    "    assert eps > 0\n",
    "    values_in_interval: int = np.count_nonzero(np.logical_and(y >= -eps, y <= eps + 1))\n",
    "    return values_in_interval == y.size\n",
    "\n",
    "assert check_scaling(min_max_scale(a)[0])\n",
    "\n",
    "# rezolvare pct C\n",
    "def inverse_min_max_scale(y: np.ndarray, MIN: float, MAX: float) -> np.ndarray: \n",
    "    \"\"\"\n",
    "    Computes the inverse operation of min max scaling on the given array y.\n",
    "    \n",
    "    :param y: the given array\n",
    "    :param MIN: minimum value found in the original array before scaling\n",
    "    :param MAX: maximum value found in the original array before scaling\n",
    "    \n",
    "    :returns: the original array before scaling\n",
    "    \"\"\"\n",
    "    assert MAX > MIN\n",
    "    return y * (MAX - MIN) + MIN\n",
    "\n",
    "b, MIN, MAX = min_max_scale(a)\n",
    "assert np.allclose(a, inverse_min_max_scale(b, MIN, MAX))"
   ]
  },
  {
   "cell_type": "code",
   "execution_count": null,
   "id": "480bffe3",
   "metadata": {},
   "outputs": [],
   "source": []
  }
 ],
 "metadata": {
  "kernelspec": {
   "display_name": "Python 3 (ipykernel)",
   "language": "python",
   "name": "python3"
  },
  "language_info": {
   "codemirror_mode": {
    "name": "ipython",
    "version": 3
   },
   "file_extension": ".py",
   "mimetype": "text/x-python",
   "name": "python",
   "nbconvert_exporter": "python",
   "pygments_lexer": "ipython3",
   "version": "3.9.13"
  },
  "toc": {
   "base_numbering": 1,
   "nav_menu": {},
   "number_sections": true,
   "sideBar": true,
   "skip_h1_title": false,
   "title_cell": "Table of Contents",
   "title_sidebar": "Contents",
   "toc_cell": false,
   "toc_position": {},
   "toc_section_display": true,
   "toc_window_display": false
  },
  "varInspector": {
   "cols": {
    "lenName": 16,
    "lenType": 16,
    "lenVar": 40
   },
   "kernels_config": {
    "python": {
     "delete_cmd_postfix": "",
     "delete_cmd_prefix": "del ",
     "library": "var_list.py",
     "varRefreshCmd": "print(var_dic_list())"
    },
    "r": {
     "delete_cmd_postfix": ") ",
     "delete_cmd_prefix": "rm(",
     "library": "var_list.r",
     "varRefreshCmd": "cat(var_dic_list()) "
    }
   },
   "types_to_exclude": [
    "module",
    "function",
    "builtin_function_or_method",
    "instance",
    "_Feature"
   ],
   "window_display": false
  }
 },
 "nbformat": 4,
 "nbformat_minor": 5
}
