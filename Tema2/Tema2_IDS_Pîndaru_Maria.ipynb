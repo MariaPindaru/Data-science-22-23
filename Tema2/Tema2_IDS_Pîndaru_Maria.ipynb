{
 "cells": [
  {
   "cell_type": "markdown",
   "metadata": {},
   "source": [
    "# Laborator 2\n",
    "\n",
    "Continut:\n",
    "1. Exercitii cu functii\n",
    "1. Exercitii cu NumPy\n",
    "\n",
    "Precizari:\n",
    "1. Studentii se pot consulta reciproc, dar rezolvarile vor fi individuale. Daca la o problema nu se pot furniza explicatii legate de rezolvare, nota pentru intreaga tema va fi 0. \n",
    "1. Temele se predau in activitatea de elearning asociata, pana in 21 octombrie 2022 ora 23. Se acorda 2 puncte din oficiu.\n",
    "1. Tema va fi implementata intr-un singur fisier Jupyter Notebook, avand numele: Tema2_IDS_nume_prenume.ipynb. Exemplu: Tema2_IDS_Popescu_Ioana.ipynb\n",
    "1. Se vor folosi type annotations pentru variabile, parametrii functiilor, tipuri de retur. Se vor folosi docstrings pentru functii, in limba romana sau engleza. Neindeplinirea acestei cerinte duce la injumatatirea punctajului pe exercitiul in cauza."
   ]
  },
  {
   "cell_type": "markdown",
   "metadata": {},
   "source": [
    "Pentru docstring exista 3 stiluri de lucru. Exemple scurte sunt la [https://stackoverflow.com/questions/3898572/what-is-the-standard-python-docstring-format](https://stackoverflow.com/questions/3898572/what-is-the-standard-python-docstring-format). Se va folosi stilul reST, recomandat de [PEP287](https://www.python.org/dev/peps/pep-0287/)."
   ]
  },
  {
   "cell_type": "code",
   "execution_count": 198,
   "metadata": {
    "ExecuteTime": {
     "end_time": "2022-10-21T14:25:17.713297Z",
     "start_time": "2022-10-21T14:25:17.698037Z"
    }
   },
   "outputs": [],
   "source": [
    "import numpy as np\n",
    "from typing import List"
   ]
  },
  {
   "cell_type": "markdown",
   "metadata": {
    "ExecuteTime": {
     "end_time": "2019-03-05T18:34:32.294814Z",
     "start_time": "2019-03-05T18:34:32.283406Z"
    }
   },
   "source": [
    "## Exercitii cu functii"
   ]
  },
  {
   "cell_type": "markdown",
   "metadata": {},
   "source": [
    "1 (1 punct). Scrieti o functie care primeste un numar intreg si returneaza produsul cifrelor sale. "
   ]
  },
  {
   "cell_type": "code",
   "execution_count": 199,
   "metadata": {
    "ExecuteTime": {
     "end_time": "2022-10-21T14:25:21.350005Z",
     "start_time": "2022-10-21T14:25:21.338611Z"
    }
   },
   "outputs": [
    {
     "data": {
      "text/plain": [
       "8"
      ]
     },
     "execution_count": 199,
     "metadata": {},
     "output_type": "execute_result"
    }
   ],
   "source": [
    "def produsul_cifrelor(numar: int) -> int:\n",
    "    \"\"\"\n",
    "    Computes the product of a number's digits.\n",
    "    \n",
    "    :param number: the given number\n",
    "    \n",
    "    :returns: the product of a number's digits\n",
    "    \"\"\"\n",
    "    if numar == 0:\n",
    "        return 0\n",
    "    \n",
    "    nr: str = str(numar)\n",
    "    cifre: List[int] = [int(char) for char in nr if char.isdigit()]\n",
    "    produs: int = np.prod(cifre)\n",
    "    return produs\n",
    "\n",
    "produsul_cifrelor(-1.8)"
   ]
  },
  {
   "cell_type": "markdown",
   "metadata": {},
   "source": [
    "2 (1 punct). Scrieti o functie care determina daca un sir de caractere - presupus a fi scris cu litere mici - este sau nu palindrom. Un palindrom este un sir de caractere care citit de la dreapta la stanga are acelasi continut ca si citirea de la stanga la dreapta. In functie de valoarea unui indicator boolean `ignore_spaces`, avand valoarea implicita `False`, se vor ignora (elimina) sau nu spatiile. Daca sirul dat ca parametru nu are toate literele mici, se va arunca exceptie; [documentatie pentru lucrul cu exceptii in Python](https://www.w3schools.com/python/gloss_python_raise.asp).\n",
    "\n",
    "Exemple:\n",
    "\n",
    "* `is_palindrome('ele fac cafele', ignore_spaces=True)` returneaza `True`; `is_palindrome('ele fac cafele')` returneaza `False`. `is_palindrome('Ele fac cafele')` arunca o exceptie, indiferent de valoarea lui `ignore_spaces`.\n",
    "*  `is_palindrome('abaac')` returneaza `False`"
   ]
  },
  {
   "cell_type": "code",
   "execution_count": 200,
   "metadata": {
    "ExecuteTime": {
     "end_time": "2022-10-21T14:25:28.515956Z",
     "start_time": "2022-10-21T14:25:28.502764Z"
    }
   },
   "outputs": [
    {
     "data": {
      "text/plain": [
       "True"
      ]
     },
     "execution_count": 200,
     "metadata": {},
     "output_type": "execute_result"
    }
   ],
   "source": [
    "def is_palindrome (string: str, ignore_spaces: bool = False) -> bool:\n",
    "    '''\n",
    "    Determines if the given string is palindrome.\n",
    "    \n",
    "    :param string: string to be verified\n",
    "    :param ignore_spaces: determines if spaces are ignored\n",
    "        \n",
    "    :returns: True if the string is palindrome, False otherrwise \n",
    "    '''\n",
    "    if any((character != character.lower()) for character in string):\n",
    "        raise Exception(\"Exista litere mari!\")\n",
    "        \n",
    "    if ignore_spaces == True:\n",
    "        string = string.replace(\" \", \"\")\n",
    "        \n",
    "    return string == string[::-1]\n",
    "\n",
    "is_palindrome('ele fac cafele', ignore_spaces=True)"
   ]
  },
  {
   "cell_type": "markdown",
   "metadata": {},
   "source": [
    "3 (1 punct). Se da un fisier de tip text, pentru care se vor considera doar acele linii din fisier care contin exact un numar intreg. Sa se scrie functii care:\n",
    "* returneaza doar lista numerelor 'valide' - folosita mai departe ca functie auxiliara;\n",
    "* determina daca numerele din fisier sunt sau nu distincte, returnand `True` respectiv `False`;\n",
    "* returneaza cele mai mari 3 numere din fisier, in ordine descrescatoare;\n",
    "* produce lista tuturor tripletelor distincte `(x, y, z)` cu `(x < y < z)`, unde `x, y, z` sunt valori din fisier.\n",
    "\n",
    "Exemplu: pentru continutul de fisier\n",
    "```\n",
    "#1\n",
    "2\n",
    "4\n",
    "-4\n",
    "3\n",
    "-3\n",
    "10\n",
    "2\n",
    "abc\n",
    "100 1\n",
    "```\n",
    "functiile vor returna, respectiv:\n",
    "* `[2, 4, -4, 3, -3, 10, 2]`\n",
    "* `False`\n",
    "* `[10, 4, 3]`\n",
    "* ```[(-4, -3, 2), (-4, -3, 3), (-4, -3, 4), (-4, -3, 10), (-4, 2, 3), (-4, 2, 4), (-4, 2, 10), (-4, 3, 4), (-4, 3, 10), (-4, 4, 10), (-3, 2, 3), (-3, 2, 4), (-3, 2, 10), (-3, 3, 4), (-3, 3, 10), (-3, 4, 10), (2, 3, 4), (2, 3, 10), (2, 4, 10), (3, 4, 10)]```\n",
    "\n",
    "Pentru lucrul cu fisiere, puteti consulta, de exemplu: https://www.w3schools.com/python/python_file_open.asp, https://www.geeksforgeeks.org/reading-writing-text-files-python/."
   ]
  },
  {
   "cell_type": "code",
   "execution_count": 201,
   "metadata": {
    "ExecuteTime": {
     "end_time": "2022-10-21T14:26:47.556362Z",
     "start_time": "2022-10-21T14:26:47.544625Z"
    }
   },
   "outputs": [],
   "source": [
    "import re"
   ]
  },
  {
   "cell_type": "code",
   "execution_count": 203,
   "metadata": {
    "ExecuteTime": {
     "end_time": "2022-10-21T14:27:05.972435Z",
     "start_time": "2022-10-21T14:27:05.957993Z"
    }
   },
   "outputs": [
    {
     "data": {
      "text/plain": [
       "True"
      ]
     },
     "execution_count": 203,
     "metadata": {},
     "output_type": "execute_result"
    }
   ],
   "source": [
    "def is_valid_int(string: str) -> bool:\n",
    "    \"\"\"\n",
    "    Checks if the given string is an int.\n",
    "    \n",
    "    :param string: the given string\n",
    "    \n",
    "    :returns: True if the string is an int, False otherwise.\n",
    "    \"\"\"\n",
    "    result: re.Match = re.match(\"^[-+]?[0-9]+$\", string)\n",
    "    return result is not None\n",
    "\n",
    "is_valid_int('-21')"
   ]
  },
  {
   "cell_type": "code",
   "execution_count": 204,
   "metadata": {
    "ExecuteTime": {
     "end_time": "2022-10-21T14:27:12.878568Z",
     "start_time": "2022-10-21T14:27:12.858113Z"
    }
   },
   "outputs": [
    {
     "data": {
      "text/plain": [
       "[2, 4, -4, 3, -3, 10, 2]"
      ]
     },
     "execution_count": 204,
     "metadata": {},
     "output_type": "execute_result"
    }
   ],
   "source": [
    "def get_valid_numbers(file_name: str) -> List[int]:\n",
    "    \"\"\"\n",
    "    Returns a list of valid numbers found in a file.\n",
    "    \n",
    "    :param file_name: the file's name\n",
    "    \n",
    "    :return: the list of valid numbers found\n",
    "    \"\"\"\n",
    "    valid_numbers: List[int] = []\n",
    "    with open(file_name, 'rt') as f:\n",
    "        file_lines: List[str] = f.readlines()\n",
    "    file_lines = [line.strip('\\n') for line in file_lines]\n",
    "    valid_numbers: List[int] = [int(x) for x in file_lines if is_valid_int(x)]\n",
    "    \n",
    "    return valid_numbers\n",
    "\n",
    "get_valid_numbers(\"tema2_fis.txt\")"
   ]
  },
  {
   "cell_type": "code",
   "execution_count": 205,
   "metadata": {
    "ExecuteTime": {
     "end_time": "2022-10-21T14:27:30.498297Z",
     "start_time": "2022-10-21T14:27:30.484731Z"
    }
   },
   "outputs": [
    {
     "data": {
      "text/plain": [
       "False"
      ]
     },
     "execution_count": 205,
     "metadata": {},
     "output_type": "execute_result"
    }
   ],
   "source": [
    "def distinct_numbers(file_name: str) -> bool:\n",
    "    \"\"\"\n",
    "    Checks if the numbers from a file are distinct.\n",
    "    \n",
    "    :param file_name: file's name\n",
    "    \n",
    "    :return: True if the valid numbers found in file are distinct, False otherwise\n",
    "    \"\"\"\n",
    "    valid_numbers: List[int] = get_valid_numbers(file_name)\n",
    "    return len(valid_numbers) == len(set(valid_numbers))\n",
    "    \n",
    "distinct_numbers(\"tema2_fis.txt\")"
   ]
  },
  {
   "cell_type": "code",
   "execution_count": 211,
   "metadata": {
    "ExecuteTime": {
     "end_time": "2022-10-21T14:41:50.285904Z",
     "start_time": "2022-10-21T14:41:50.272760Z"
    }
   },
   "outputs": [
    {
     "data": {
      "text/plain": [
       "[10, 4, 3]"
      ]
     },
     "execution_count": 211,
     "metadata": {},
     "output_type": "execute_result"
    }
   ],
   "source": [
    "def get_gratest_3(file_name: str) -> List[int]:\n",
    "    \"\"\"\n",
    "    Returns the 3 gratest numbers found in a file.\n",
    "    \n",
    "    :param file_name: file's name\n",
    "    \n",
    "    :return: list containing gratest 3 numbers found in file\n",
    "    \"\"\"\n",
    "    valid_numbers: List[int] = get_valid_numbers(file_name)\n",
    "    valid_numbers.sort(reverse=True)\n",
    "    return valid_numbers[:3]\n",
    "\n",
    "get_gratest_3(\"tema2_fis.txt\")"
   ]
  },
  {
   "cell_type": "code",
   "execution_count": 212,
   "metadata": {
    "ExecuteTime": {
     "end_time": "2022-10-21T14:41:55.182673Z",
     "start_time": "2022-10-21T14:41:55.162465Z"
    }
   },
   "outputs": [
    {
     "data": {
      "text/plain": [
       "{(-4, -3, 2),\n",
       " (-4, -3, 3),\n",
       " (-4, -3, 4),\n",
       " (-4, -3, 10),\n",
       " (-4, 2, 3),\n",
       " (-4, 2, 4),\n",
       " (-4, 2, 10),\n",
       " (-4, 3, 4),\n",
       " (-4, 3, 10),\n",
       " (-4, 4, 10),\n",
       " (-3, 2, 3),\n",
       " (-3, 2, 4),\n",
       " (-3, 2, 10),\n",
       " (-3, 3, 4),\n",
       " (-3, 3, 10),\n",
       " (-3, 4, 10),\n",
       " (2, 3, 4),\n",
       " (2, 3, 10),\n",
       " (2, 4, 10),\n",
       " (3, 4, 10)}"
      ]
     },
     "execution_count": 212,
     "metadata": {},
     "output_type": "execute_result"
    }
   ],
   "source": [
    "def get_triplets(file_name: str) -> List[int]:\n",
    "    \"\"\"\n",
    "    Searches for distinct triplets of numbers (x, y, z) found in a file that respect the condition: x < y < z.\n",
    "    \n",
    "    :param file_name: file's name\n",
    "    \n",
    "    :return: set of triplets that respect the condition found in file\n",
    "    \n",
    "    \"\"\"\n",
    "    valid_numbers = get_valid_numbers(file_name)\n",
    "    valid_numbers.sort()\n",
    "    valid_size = len(valid_numbers)\n",
    "    triplets = [(valid_numbers[x], valid_numbers[y], valid_numbers[z]) \n",
    "                for x in range(valid_size) \n",
    "                for y in range(x, valid_size)\n",
    "                for z in range(y, valid_size)\n",
    "                if valid_numbers[x] < valid_numbers[y] < valid_numbers[z]]\n",
    "    \n",
    "    return set(triplets)\n",
    "\n",
    "get_triplets(\"tema2_fis.txt\")"
   ]
  },
  {
   "cell_type": "markdown",
   "metadata": {},
   "source": [
    "4. Sa se scrie o functie `sum_divisors_digits`care preia un numar natural strict pozitiv $n$ si returneaza suma cifrelor divizorilor sai. Intr-o alta functie `black_hole` se apeleaza in mod repetat `sum_divisors_digits` pe numerele rezultate, pana cand se atinge un numar maxim de iteratii (implicit 1000) sau se ajunge la numarul 15. Puteti crea alte  functii auxiliare. \n",
    "\n",
    "Exemplul 1: se pleaca de la $n=15$; divizorii sunt $1, 3, 5, 15$; suma cifrelor divizorilor este $1+3+5+1+5=15$, acesta fiind rezultatul apelului `sum_divisors_digits(15)`. Functia `black_hole` se opreste deci dupa un singur apel al functiei `sum_divisors_digits`.\n",
    "\n",
    "Exemplul 2: se pleaca de la $n=21$; divizorii sunt $1, 3, 7, 21$ iar `sum_divisors_digits(21)` este $1+3+7+2+1=14$; se reia in functia `black_hole` apelul functiei `sum_divisors_digits` pana la epuizarea numarului de apeluri sau potentiala stabilizare in 15."
   ]
  },
  {
   "cell_type": "code",
   "execution_count": 215,
   "metadata": {
    "ExecuteTime": {
     "end_time": "2022-10-21T14:45:26.097135Z",
     "start_time": "2022-10-21T14:45:26.077080Z"
    }
   },
   "outputs": [],
   "source": [
    "def get_sum_of_digits(number: int) -> int:\n",
    "    \"\"\"\n",
    "    Computes the sum of an integer number's digits.\n",
    "    \n",
    "    :param number: the given integer number\n",
    "    \n",
    "    :return: the computed sum\n",
    "    \n",
    "    \"\"\"\n",
    "    return sum([int(digit) for digit in str(number)])"
   ]
  },
  {
   "cell_type": "code",
   "execution_count": 214,
   "metadata": {
    "ExecuteTime": {
     "end_time": "2022-10-21T14:45:23.606417Z",
     "start_time": "2022-10-21T14:45:23.587815Z"
    }
   },
   "outputs": [],
   "source": [
    "def sum_divisors_digits(number: int) -> int:\n",
    "    \"\"\"\n",
    "    Computes the sum of an integer number's divisorss digits.\n",
    "    \n",
    "    :param number: the given integer number\n",
    "    \n",
    "    :return: the computed sum\n",
    "    \"\"\"\n",
    "    divisors: list = [index for index in range(1, number + 1) if number % index == 0]\n",
    "    return sum([get_sum_of_digits(divisor) for divisor in divisors] )"
   ]
  },
  {
   "cell_type": "code",
   "execution_count": 348,
   "metadata": {
    "ExecuteTime": {
     "end_time": "2022-10-21T15:33:22.547572Z",
     "start_time": "2022-10-21T15:33:22.540568Z"
    }
   },
   "outputs": [],
   "source": [
    "def black_hole(number: int, no_max_of_it: int = 1000) -> None:\n",
    "    \"\"\"\n",
    "    Calls sum_divisors_digits on the given number and then calls repeatedly sum_divisors_digits on the resulting \n",
    "    numbers, until a maximum number of iterations or the number 15 is reached.\n",
    "    \n",
    "    :param number: the given number\n",
    "    :no_max_of_it: the maximum number of iterations\n",
    "    \n",
    "    :return: none\n",
    "    \"\"\"\n",
    "    it = 0\n",
    "    while number != 15 and it < no_max_of_it or it == 0:\n",
    "        number = sum_divisors_digits(number)\n",
    "        it += 1\n",
    "    print(f'{it} apeluri ale functiei sum_divisors_digits')"
   ]
  },
  {
   "cell_type": "code",
   "execution_count": 220,
   "metadata": {
    "ExecuteTime": {
     "end_time": "2022-10-21T14:48:53.948129Z",
     "start_time": "2022-10-21T14:48:53.937181Z"
    }
   },
   "outputs": [
    {
     "name": "stdout",
     "output_type": "stream",
     "text": [
      "2 apeluri ale functiei sum_divisors_digitscare\n",
      "1 apeluri ale functiei sum_divisors_digitscare\n"
     ]
    }
   ],
   "source": [
    "black_hole(21)\n",
    "black_hole(15)"
   ]
  },
  {
   "cell_type": "markdown",
   "metadata": {},
   "source": [
    "## Exercitii cu NumPy\n",
    "\n",
    "In rezolvarea exercitiilor de mai jos se va folosi cod *vectorizat* si collection comprehension (preferabil insa doar cod vectorizat). Puteti folosi functii NumPy."
   ]
  },
  {
   "cell_type": "markdown",
   "metadata": {},
   "source": [
    "1. (1 punct) Scrieti o functie care pentru un vector dat $a$ dat de $n$ componente, returneaza un vector suma perechilor de elemente: $b[i] = a[i]+a[i+1], 0 \\le i \\le n-2$. Scrieti apoi o alta functie care face acelasi lucru pentru o matrice, pe linii sau pe coloane, in functie de un parametru.\n",
    "\n",
    "Exemple: \n",
    "* `a = np.array([1, 2, 10, 3])`; `sum_pairs_vector(a)` va returna vectorul NumPy cu continutul `(3, 12, 13)`.\n",
    "* `a  = np.array([[1, 2, 3], [40, 50, 60]])`; `sum_pairs_matrix(a, on='columns')` returneaza o matrice cu o singura linie, `[[41, 52, 63]]`. `sum_pairs_matrix(a, on='rows)` returneaza matricea `[[3, 5], [90, 110]]`. "
   ]
  },
  {
   "cell_type": "markdown",
   "metadata": {},
   "source": [
    "Rows\n",
    "$$\n",
    "\\begin{bmatrix}\n",
    "a1 & a2\\\\\n",
    "a3 & a4\n",
    "\\end{bmatrix}\n",
    "=>\n",
    "\\begin{bmatrix}\n",
    "a1+a2 \\\\\n",
    "a3+a4\n",
    "\\end{bmatrix}\n",
    "= \n",
    "\\begin{bmatrix}\n",
    "a1 \\\\\n",
    "a3\n",
    "\\end{bmatrix}\n",
    "+\n",
    "\\begin{bmatrix}\n",
    "a2 \\\\\n",
    "a4\n",
    "\\end{bmatrix}\n",
    "$$ "
   ]
  },
  {
   "cell_type": "code",
   "execution_count": 222,
   "metadata": {
    "ExecuteTime": {
     "end_time": "2022-10-21T14:51:43.907114Z",
     "start_time": "2022-10-21T14:51:43.878163Z"
    }
   },
   "outputs": [],
   "source": [
    "def sum_pairs_vector(vector: np.ndarray) -> np.ndarray:\n",
    "    \"\"\"\n",
    "    Computes the sum of pairs of elements: 𝑏[𝑖] = 𝑎[𝑖]+𝑎[𝑖+1], 0 ≤ 𝑖 ≤ 𝑛−2 on an 1d array.\n",
    "    \n",
    "    :param vector: the initial 1d array\n",
    "    \n",
    "    :return: the computed sum \n",
    "    \"\"\"\n",
    "    if len(vector) < 2:\n",
    "        return None\n",
    "    return vector[:-1] + vector[1:] \n",
    "\n",
    "sum_pairs_vector(vector=np.array([1]))"
   ]
  },
  {
   "cell_type": "markdown",
   "metadata": {},
   "source": [
    "Columns\n",
    "$$\n",
    "\\begin{bmatrix}\n",
    "a1 & a2\\\\\n",
    "a3 & a4\n",
    "\\end{bmatrix}\n",
    "=>\n",
    "\\begin{bmatrix}\n",
    "a1+a3 & a2+a4\n",
    "\\end{bmatrix}\n",
    "= \n",
    "\\begin{bmatrix}\n",
    "a1 & a2\n",
    "\\end{bmatrix}\n",
    "+\n",
    "\\begin{bmatrix}\n",
    "a3 & a4\n",
    "\\end{bmatrix}\n",
    "$$ "
   ]
  },
  {
   "cell_type": "code",
   "execution_count": 223,
   "metadata": {
    "ExecuteTime": {
     "end_time": "2022-10-21T14:55:28.234158Z",
     "start_time": "2022-10-21T14:55:28.227745Z"
    }
   },
   "outputs": [],
   "source": [
    "def sum_pairs_matrix(matrix: np.ndarray, on: str) -> np.ndarray:\n",
    "    \"\"\"\n",
    "    Computes the sum of pairs of elements: 𝑏[𝑖] = 𝑎[𝑖]+𝑎[𝑖+1], 0 ≤ 𝑖 ≤ 𝑛−2 on rows / columns for an 2d array.\n",
    "    \n",
    "    :param vector: the initial array\n",
    "    :param on: if the sum should be cmputed on rows or columns\n",
    "    \n",
    "    :return: the computed sum \n",
    "    \"\"\"\n",
    "    if on == 'columns':\n",
    "        return matrix[:-1,:] + matrix[1:,:]\n",
    "    \n",
    "    if on =='rows':\n",
    "        return matrix[:,:-1] + matrix[:,1:]"
   ]
  },
  {
   "cell_type": "code",
   "execution_count": 224,
   "metadata": {
    "ExecuteTime": {
     "end_time": "2022-10-21T14:55:28.952113Z",
     "start_time": "2022-10-21T14:55:28.940026Z"
    }
   },
   "outputs": [
    {
     "data": {
      "text/plain": [
       "array([[  3,   5],\n",
       "       [ 90, 110]])"
      ]
     },
     "execution_count": 224,
     "metadata": {},
     "output_type": "execute_result"
    }
   ],
   "source": [
    "sum_pairs_matrix(np.array([[1, 2, 3], [40, 50, 60]]), on='rows')"
   ]
  },
  {
   "cell_type": "code",
   "execution_count": 225,
   "metadata": {
    "ExecuteTime": {
     "end_time": "2022-10-21T14:55:30.687496Z",
     "start_time": "2022-10-21T14:55:30.673290Z"
    }
   },
   "outputs": [
    {
     "data": {
      "text/plain": [
       "array([[41, 52, 63]])"
      ]
     },
     "execution_count": 225,
     "metadata": {},
     "output_type": "execute_result"
    }
   ],
   "source": [
    "sum_pairs_matrix(np.array([[1, 2, 3], [40, 50, 60]]), on='columns')"
   ]
  },
  {
   "cell_type": "markdown",
   "metadata": {},
   "source": [
    "2. (1 punct) Sa se scrie o functie care primeste o matrice de numere si determina daca numarul de valori aflate in intervalul $(-lim, lim)$ ($lim$ > 0, parametru al functiei, numar real) este peste un procent $p$, parametru dat. Functia va returna valoare booleana. "
   ]
  },
  {
   "cell_type": "code",
   "execution_count": 339,
   "metadata": {
    "ExecuteTime": {
     "end_time": "2022-10-21T15:29:16.530635Z",
     "start_time": "2022-10-21T15:29:16.518613Z"
    }
   },
   "outputs": [],
   "source": [
    "matrix = np.array([[1,2], [3,4], [-3, 100]])"
   ]
  },
  {
   "cell_type": "code",
   "execution_count": 343,
   "metadata": {
    "ExecuteTime": {
     "end_time": "2022-10-21T15:30:36.508242Z",
     "start_time": "2022-10-21T15:30:36.497404Z"
    }
   },
   "outputs": [
    {
     "name": "stdout",
     "output_type": "stream",
     "text": [
      "False\n",
      "True\n"
     ]
    }
   ],
   "source": [
    "def is_in_interval(matrix: np.ndarray, lim: float, p: float):\n",
    "    \"\"\"\n",
    "    Determines if the number of values in the interval (−𝑙𝑖𝑚,𝑙𝑖𝑚) is over a higher percentage.\n",
    "    \n",
    "    :param matrix: the given array\n",
    "    :param lim: the limit, 𝑙𝑖𝑚 > 0\n",
    "    :param p: the given percentage\n",
    "    \n",
    "    :return: True if the number of values in the interval is higher a given percentage, False otherwise\n",
    "    \n",
    "    \"\"\"\n",
    "    no_in_interval = np.count_nonzero((matrix < lim) & (-lim < matrix))\n",
    "    percentage = no_in_interval * 100 / matrix.size\n",
    "    return percentage > p\n",
    "\n",
    "print(is_in_interval(matrix, 3, 50))\n",
    "print(is_in_interval(matrix, 5, 50))"
   ]
  },
  {
   "cell_type": "markdown",
   "metadata": {},
   "source": [
    "3. (1 punct) Sa se scrie o functie care gaseste pozitiile minimelor locale dintr-un vector numpy. Un minim local este o valoare care are in vecinii imediati (indicele curent $\\pm 1$, fara a iesi din vector) valori strict mai mari decat ea. \n",
    "\n",
    "Exemplu: `[-1, 3, -7, 1, 2, 6, 0, 1]` -> `[-1, -7, 0]`."
   ]
  },
  {
   "cell_type": "code",
   "execution_count": 344,
   "metadata": {
    "ExecuteTime": {
     "end_time": "2022-10-21T15:30:40.589085Z",
     "start_time": "2022-10-21T15:30:40.580688Z"
    }
   },
   "outputs": [],
   "source": [
    "def minime_locale(array: np.ndarray) -> np.ndarray:\n",
    "    \"\"\"\n",
    "    Computes the local minimums from a given array.\n",
    "    \n",
    "    :param array: the array\n",
    "    \n",
    "    :return: the pozitions of the local miniums\n",
    "    \"\"\"\n",
    "    previous_is_greater = np.append(True, array[1:] < array[:-1])\n",
    "    next_is_greater = np.append(array[:-1] < array[1:], True)\n",
    "    minime = np.logical_and(previous_is_greater, next_is_greater)\n",
    "        \n",
    "    return np.where(minime == True)"
   ]
  },
  {
   "cell_type": "code",
   "execution_count": 345,
   "metadata": {
    "ExecuteTime": {
     "end_time": "2022-10-21T15:30:41.130749Z",
     "start_time": "2022-10-21T15:30:41.117571Z"
    }
   },
   "outputs": [
    {
     "name": "stdout",
     "output_type": "stream",
     "text": [
      "(array([0, 2, 6], dtype=int64),)\n",
      "[-1 -7  0]\n"
     ]
    }
   ],
   "source": [
    "array = np.array([-1, 3, -7, 1, 2, 6, 0, 1])\n",
    "pozitii = minime_locale(array)\n",
    "print(pozitii)\n",
    "print(array[pozitii])"
   ]
  },
  {
   "cell_type": "markdown",
   "metadata": {},
   "source": [
    "4. (1 punct) Sa se scrie o functie care spune daca o matrice patratica este magica: suma pe fiecare linie, pe fiecare coloana, suma elementelor de pe fiecare diagonala este acelasi numar.\n",
    "\n",
    "Exemplu de matrice magica:\n",
    "```\n",
    "11\t24\t7\t20\t3\n",
    "4\t12\t25\t8\t16\n",
    "17\t5\t13\t21\t9\n",
    "10\t18\t1\t14\t22\n",
    "23\t6\t19\t2\t15\n",
    "```"
   ]
  },
  {
   "cell_type": "code",
   "execution_count": 346,
   "metadata": {
    "ExecuteTime": {
     "end_time": "2022-10-21T15:30:50.645087Z",
     "start_time": "2022-10-21T15:30:50.632909Z"
    }
   },
   "outputs": [],
   "source": [
    "def is_magic_matrix(matrix: np.ndarray) -> bool:\n",
    "    \"\"\"\n",
    "    Determines if the given 2d array is a magic matrix.\n",
    "    \n",
    "    :param matrix: the given matrix\n",
    "    \n",
    "    :return: True if the matrix is magic, False otherwise\n",
    "    \"\"\"\n",
    "    if matrix.shape[0] != matrix.shape[1]:\n",
    "        return False\n",
    "    \n",
    "    sum_rows = matrix.sum(axis=1)\n",
    "    sum_rows_equal = np.all(sum_rows == sum_rows[0])\n",
    "    \n",
    "    sum_columns = matrix.sum(axis=0)\n",
    "    sum_columns_equal = np.all(sum_columns == sum_columns[0])\n",
    "    \n",
    "    sum_first_diagonal = np.trace(matrix)\n",
    "    matrix = np.fliplr(matrix)\n",
    "    sum_second_diagonal = np.trace(matrix)\n",
    "    \n",
    "    return (sum_rows_equal and sum_columns_equal and \n",
    "            sum_rows[0] == sum_columns[0] and\n",
    "            sum_first_diagonal == sum_rows[0] and \n",
    "            sum_second_diagonal == sum_columns[0])\n"
   ]
  },
  {
   "cell_type": "code",
   "execution_count": 347,
   "metadata": {
    "ExecuteTime": {
     "end_time": "2022-10-21T15:30:51.684330Z",
     "start_time": "2022-10-21T15:30:51.660712Z"
    }
   },
   "outputs": [
    {
     "data": {
      "text/plain": [
       "True"
      ]
     },
     "execution_count": 347,
     "metadata": {},
     "output_type": "execute_result"
    }
   ],
   "source": [
    "matrix = np.array(\n",
    "    [[11, 24, 7, 20, 3],\n",
    "    [4, 12, 25, 8, 16],\n",
    "    [17, 5, 13, 21, 9],\n",
    "    [10, 18, 1, 14, 22],\n",
    "    [23, 6, 19, 2, 15]])\n",
    "\n",
    "is_magic_matrix(matrix)"
   ]
  },
  {
   "cell_type": "code",
   "execution_count": null,
   "metadata": {},
   "outputs": [],
   "source": []
  }
 ],
 "metadata": {
  "kernelspec": {
   "display_name": "Python 3 (ipykernel)",
   "language": "python",
   "name": "python3"
  },
  "language_info": {
   "codemirror_mode": {
    "name": "ipython",
    "version": 3
   },
   "file_extension": ".py",
   "mimetype": "text/x-python",
   "name": "python",
   "nbconvert_exporter": "python",
   "pygments_lexer": "ipython3",
   "version": "3.9.7"
  },
  "toc": {
   "base_numbering": 1,
   "nav_menu": {},
   "number_sections": true,
   "sideBar": true,
   "skip_h1_title": false,
   "title_cell": "Table of Contents",
   "title_sidebar": "Contents",
   "toc_cell": false,
   "toc_position": {},
   "toc_section_display": true,
   "toc_window_display": false
  },
  "varInspector": {
   "cols": {
    "lenName": 16,
    "lenType": 16,
    "lenVar": 40
   },
   "kernels_config": {
    "python": {
     "delete_cmd_postfix": "",
     "delete_cmd_prefix": "del ",
     "library": "var_list.py",
     "varRefreshCmd": "print(var_dic_list())"
    },
    "r": {
     "delete_cmd_postfix": ") ",
     "delete_cmd_prefix": "rm(",
     "library": "var_list.r",
     "varRefreshCmd": "cat(var_dic_list()) "
    }
   },
   "types_to_exclude": [
    "module",
    "function",
    "builtin_function_or_method",
    "instance",
    "_Feature"
   ],
   "window_display": false
  }
 },
 "nbformat": 4,
 "nbformat_minor": 2
}
