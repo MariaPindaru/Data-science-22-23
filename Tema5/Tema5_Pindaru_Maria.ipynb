{
 "cells": [
  {
   "cell_type": "markdown",
   "metadata": {
    "pycharm": {
     "name": "#%% md\n"
    }
   },
   "source": [
    "# Tema 5"
   ]
  },
  {
   "cell_type": "markdown",
   "metadata": {
    "pycharm": {
     "name": "#%% md\n"
    }
   },
   "source": [
    "## Modele de clasificare\n",
    "\n",
    "Folositi 5 seturi de date pentru probleme de clasificare, plecand de la repository-urile specificate in Cursul 6. Toate seturile de date trebuie sa aiba valori precizate (adica sa fie fara valori lipsa) si sa aiba macar o trasatura de intrare variabila categoriala nominala.\n",
    "\n",
    "1. Transformati trasaturile categoriale nominale folosind one hot encoding, https://pandas.pydata.org/docs/reference/api/pandas.get_dummies.html. \n",
    "1. (numar de modele * numar de seturi de date \\* 1 punct = 30 de puncte) Pentru fiecare set de date aplicati 6 modele de clasificare din scikit learn. Pentru fiecare raportati: acuratete, precision, recall, scorul F1 - a se vedea [sklearn.metrics](http://scikit-learn.org/stable/modules/classes.html#module-sklearn.metrics), [Precision and recall](https://en.wikipedia.org/wiki/Precision_and_recall) - folosind 10 fold cross validation. Raportati mediile rezultatelor atat pentru fold-urile de antrenare, cat si pentru cele de testare. Rularile se vor face cu valori fixate ale hiperparametrilor. \n",
    "3. (numar de modele * numar de seturi de date * 1 punct = 30 de puncte) Raportati performanta fiecarui model, folosind 10 fold cross validation. Pentru fiecare din cele 10 rulari, cautati hiperparametrii optimi folosind 4-fold cross validation. Performanta modelului va fi raportata ca medie a celor  10 rulari. \n",
    "    *Observatie:* la fiecare din cele 10 rulari, hiperparametrii optimi pot diferi, din cauza datelor utilizate pentru antrenare/validare. \n",
    "3. (numar modele * 4 puncte = 20 puncte) Documentati in jupyter notebook fiecare din modelele folosite, in limba romana. Daca acelasi algoritm e folosit pentru mai multe seturi de date, puteti face o sectiune separata cu documentarea algoritmilor + trimitere la algoritm. \n",
    "\n",
    "Se acorda 20 de puncte din oficiu. "
   ]
  },
  {
   "cell_type": "code",
   "execution_count": 54,
   "metadata": {
    "pycharm": {
     "name": "#%%\n"
    }
   },
   "outputs": [
    {
     "name": "stdout",
     "output_type": "stream",
     "text": [
      "NumPy version: 1.23.5\n",
      "Pandas version: 1.5.2\n",
      "Sklearn version: 1.1.3\n"
     ]
    }
   ],
   "source": [
    "import numpy as np\n",
    "\n",
    "print(f'NumPy version: {np.__version__}')\n",
    "\n",
    "import pandas as pd\n",
    "\n",
    "print(f'Pandas version: {pd.__version__}')\n",
    "\n",
    "import sklearn\n",
    "\n",
    "print(f'Sklearn version: {sklearn.__version__}')\n",
    "\n",
    "from typing import List, Any, Dict"
   ]
  },
  {
   "cell_type": "markdown",
   "metadata": {
    "pycharm": {
     "name": "#%% md\n"
    }
   },
   "source": [
    "# Citirea seturilor de date"
   ]
  },
  {
   "cell_type": "markdown",
   "metadata": {
    "pycharm": {
     "name": "#%% md\n"
    }
   },
   "source": [
    "## Abalone "
   ]
  },
  {
   "cell_type": "code",
   "execution_count": 55,
   "metadata": {
    "pycharm": {
     "name": "#%%\n"
    }
   },
   "outputs": [
    {
     "data": {
      "text/plain": "  Sex  Length   Diam  Height   Whole  Shucked  Viscera  Shell  Rings\n0   M   0.455  0.365   0.095  0.5140   0.2245   0.1010  0.150     15\n1   M   0.350  0.265   0.090  0.2255   0.0995   0.0485  0.070      7\n2   F   0.530  0.420   0.135  0.6770   0.2565   0.1415  0.210      9\n3   M   0.440  0.365   0.125  0.5160   0.2155   0.1140  0.155     10\n4   I   0.330  0.255   0.080  0.2050   0.0895   0.0395  0.055      7",
      "text/html": "<div>\n<style scoped>\n    .dataframe tbody tr th:only-of-type {\n        vertical-align: middle;\n    }\n\n    .dataframe tbody tr th {\n        vertical-align: top;\n    }\n\n    .dataframe thead th {\n        text-align: right;\n    }\n</style>\n<table border=\"1\" class=\"dataframe\">\n  <thead>\n    <tr style=\"text-align: right;\">\n      <th></th>\n      <th>Sex</th>\n      <th>Length</th>\n      <th>Diam</th>\n      <th>Height</th>\n      <th>Whole</th>\n      <th>Shucked</th>\n      <th>Viscera</th>\n      <th>Shell</th>\n      <th>Rings</th>\n    </tr>\n  </thead>\n  <tbody>\n    <tr>\n      <th>0</th>\n      <td>M</td>\n      <td>0.455</td>\n      <td>0.365</td>\n      <td>0.095</td>\n      <td>0.5140</td>\n      <td>0.2245</td>\n      <td>0.1010</td>\n      <td>0.150</td>\n      <td>15</td>\n    </tr>\n    <tr>\n      <th>1</th>\n      <td>M</td>\n      <td>0.350</td>\n      <td>0.265</td>\n      <td>0.090</td>\n      <td>0.2255</td>\n      <td>0.0995</td>\n      <td>0.0485</td>\n      <td>0.070</td>\n      <td>7</td>\n    </tr>\n    <tr>\n      <th>2</th>\n      <td>F</td>\n      <td>0.530</td>\n      <td>0.420</td>\n      <td>0.135</td>\n      <td>0.6770</td>\n      <td>0.2565</td>\n      <td>0.1415</td>\n      <td>0.210</td>\n      <td>9</td>\n    </tr>\n    <tr>\n      <th>3</th>\n      <td>M</td>\n      <td>0.440</td>\n      <td>0.365</td>\n      <td>0.125</td>\n      <td>0.5160</td>\n      <td>0.2155</td>\n      <td>0.1140</td>\n      <td>0.155</td>\n      <td>10</td>\n    </tr>\n    <tr>\n      <th>4</th>\n      <td>I</td>\n      <td>0.330</td>\n      <td>0.255</td>\n      <td>0.080</td>\n      <td>0.2050</td>\n      <td>0.0895</td>\n      <td>0.0395</td>\n      <td>0.055</td>\n      <td>7</td>\n    </tr>\n  </tbody>\n</table>\n</div>"
     },
     "execution_count": 55,
     "metadata": {},
     "output_type": "execute_result"
    }
   ],
   "source": [
    "header_list: List[str] = ['Sex', 'Length', 'Diam', 'Height', 'Whole', 'Shucked', 'Viscera', 'Shell', 'Rings']\n",
    "abalone_df: pd.DataFrame = pd.read_csv('data/abalone.data', header=None, names=header_list)\n",
    "abalone_df.head()"
   ]
  },
  {
   "cell_type": "code",
   "execution_count": 56,
   "metadata": {
    "pycharm": {
     "name": "#%%\n"
    }
   },
   "outputs": [
    {
     "data": {
      "text/plain": "Sex         object\nLength     float64\nDiam       float64\nHeight     float64\nWhole      float64\nShucked    float64\nViscera    float64\nShell      float64\nRings        int64\ndtype: object"
     },
     "execution_count": 56,
     "metadata": {},
     "output_type": "execute_result"
    }
   ],
   "source": [
    "abalone_df.dtypes"
   ]
  },
  {
   "cell_type": "code",
   "execution_count": 57,
   "metadata": {
    "pycharm": {
     "name": "#%%\n"
    }
   },
   "outputs": [
    {
     "name": "stdout",
     "output_type": "stream",
     "text": [
      "Missing values: 0\n"
     ]
    }
   ],
   "source": [
    "print(f'Missing values: {abalone_df.isnull().sum().sum()}')"
   ]
  },
  {
   "cell_type": "markdown",
   "metadata": {
    "pycharm": {
     "name": "#%% md\n"
    }
   },
   "source": [
    "## Iris dataset"
   ]
  },
  {
   "cell_type": "code",
   "execution_count": 58,
   "metadata": {
    "pycharm": {
     "name": "#%%\n"
    }
   },
   "outputs": [
    {
     "data": {
      "text/plain": "     0    1    2    3            4\n0  5.1  3.5  1.4  0.2  Iris-setosa\n1  4.9  3.0  1.4  0.2  Iris-setosa\n2  4.7  3.2  1.3  0.2  Iris-setosa\n3  4.6  3.1  1.5  0.2  Iris-setosa\n4  5.0  3.6  1.4  0.2  Iris-setosa",
      "text/html": "<div>\n<style scoped>\n    .dataframe tbody tr th:only-of-type {\n        vertical-align: middle;\n    }\n\n    .dataframe tbody tr th {\n        vertical-align: top;\n    }\n\n    .dataframe thead th {\n        text-align: right;\n    }\n</style>\n<table border=\"1\" class=\"dataframe\">\n  <thead>\n    <tr style=\"text-align: right;\">\n      <th></th>\n      <th>0</th>\n      <th>1</th>\n      <th>2</th>\n      <th>3</th>\n      <th>4</th>\n    </tr>\n  </thead>\n  <tbody>\n    <tr>\n      <th>0</th>\n      <td>5.1</td>\n      <td>3.5</td>\n      <td>1.4</td>\n      <td>0.2</td>\n      <td>Iris-setosa</td>\n    </tr>\n    <tr>\n      <th>1</th>\n      <td>4.9</td>\n      <td>3.0</td>\n      <td>1.4</td>\n      <td>0.2</td>\n      <td>Iris-setosa</td>\n    </tr>\n    <tr>\n      <th>2</th>\n      <td>4.7</td>\n      <td>3.2</td>\n      <td>1.3</td>\n      <td>0.2</td>\n      <td>Iris-setosa</td>\n    </tr>\n    <tr>\n      <th>3</th>\n      <td>4.6</td>\n      <td>3.1</td>\n      <td>1.5</td>\n      <td>0.2</td>\n      <td>Iris-setosa</td>\n    </tr>\n    <tr>\n      <th>4</th>\n      <td>5.0</td>\n      <td>3.6</td>\n      <td>1.4</td>\n      <td>0.2</td>\n      <td>Iris-setosa</td>\n    </tr>\n  </tbody>\n</table>\n</div>"
     },
     "execution_count": 58,
     "metadata": {},
     "output_type": "execute_result"
    }
   ],
   "source": [
    "iris_df: pd.DataFrame = pd.read_csv(\"data/iris.data\", header=None)\n",
    "iris_df.head()"
   ]
  },
  {
   "cell_type": "code",
   "execution_count": 59,
   "metadata": {
    "pycharm": {
     "name": "#%%\n"
    }
   },
   "outputs": [
    {
     "data": {
      "text/plain": "0    float64\n1    float64\n2    float64\n3    float64\n4     object\ndtype: object"
     },
     "execution_count": 59,
     "metadata": {},
     "output_type": "execute_result"
    }
   ],
   "source": [
    "iris_df.dtypes"
   ]
  },
  {
   "cell_type": "code",
   "execution_count": 60,
   "metadata": {
    "pycharm": {
     "name": "#%%\n"
    }
   },
   "outputs": [
    {
     "name": "stdout",
     "output_type": "stream",
     "text": [
      "Missing values: 0\n"
     ]
    }
   ],
   "source": [
    "print(f'Missing values: {iris_df.isnull().sum().sum()}')"
   ]
  },
  {
   "cell_type": "markdown",
   "metadata": {
    "pycharm": {
     "name": "#%% md\n"
    }
   },
   "source": [
    "## Soybean dataset (small)"
   ]
  },
  {
   "cell_type": "code",
   "execution_count": 61,
   "metadata": {
    "pycharm": {
     "name": "#%%\n"
    }
   },
   "outputs": [
    {
     "data": {
      "text/plain": "   0   1   2   3   4   5   6   7   8   9   ...  26  27  28  29  30  31  32  \\\n0   4   0   2   1   1   1   0   1   0   2  ...   0   0   4   0   0   0   0   \n1   5   0   2   1   0   3   1   1   1   2  ...   0   0   4   0   0   0   0   \n2   3   0   2   1   0   2   0   2   1   1  ...   0   0   4   0   0   0   0   \n3   6   0   2   1   0   1   1   1   0   0  ...   0   0   4   0   0   0   0   \n4   4   0   2   1   0   3   0   2   0   2  ...   0   0   4   0   0   0   0   \n\n   33  34  35  \n0   0   0  D1  \n1   0   0  D1  \n2   0   0  D1  \n3   0   0  D1  \n4   0   0  D1  \n\n[5 rows x 36 columns]",
      "text/html": "<div>\n<style scoped>\n    .dataframe tbody tr th:only-of-type {\n        vertical-align: middle;\n    }\n\n    .dataframe tbody tr th {\n        vertical-align: top;\n    }\n\n    .dataframe thead th {\n        text-align: right;\n    }\n</style>\n<table border=\"1\" class=\"dataframe\">\n  <thead>\n    <tr style=\"text-align: right;\">\n      <th></th>\n      <th>0</th>\n      <th>1</th>\n      <th>2</th>\n      <th>3</th>\n      <th>4</th>\n      <th>5</th>\n      <th>6</th>\n      <th>7</th>\n      <th>8</th>\n      <th>9</th>\n      <th>...</th>\n      <th>26</th>\n      <th>27</th>\n      <th>28</th>\n      <th>29</th>\n      <th>30</th>\n      <th>31</th>\n      <th>32</th>\n      <th>33</th>\n      <th>34</th>\n      <th>35</th>\n    </tr>\n  </thead>\n  <tbody>\n    <tr>\n      <th>0</th>\n      <td>4</td>\n      <td>0</td>\n      <td>2</td>\n      <td>1</td>\n      <td>1</td>\n      <td>1</td>\n      <td>0</td>\n      <td>1</td>\n      <td>0</td>\n      <td>2</td>\n      <td>...</td>\n      <td>0</td>\n      <td>0</td>\n      <td>4</td>\n      <td>0</td>\n      <td>0</td>\n      <td>0</td>\n      <td>0</td>\n      <td>0</td>\n      <td>0</td>\n      <td>D1</td>\n    </tr>\n    <tr>\n      <th>1</th>\n      <td>5</td>\n      <td>0</td>\n      <td>2</td>\n      <td>1</td>\n      <td>0</td>\n      <td>3</td>\n      <td>1</td>\n      <td>1</td>\n      <td>1</td>\n      <td>2</td>\n      <td>...</td>\n      <td>0</td>\n      <td>0</td>\n      <td>4</td>\n      <td>0</td>\n      <td>0</td>\n      <td>0</td>\n      <td>0</td>\n      <td>0</td>\n      <td>0</td>\n      <td>D1</td>\n    </tr>\n    <tr>\n      <th>2</th>\n      <td>3</td>\n      <td>0</td>\n      <td>2</td>\n      <td>1</td>\n      <td>0</td>\n      <td>2</td>\n      <td>0</td>\n      <td>2</td>\n      <td>1</td>\n      <td>1</td>\n      <td>...</td>\n      <td>0</td>\n      <td>0</td>\n      <td>4</td>\n      <td>0</td>\n      <td>0</td>\n      <td>0</td>\n      <td>0</td>\n      <td>0</td>\n      <td>0</td>\n      <td>D1</td>\n    </tr>\n    <tr>\n      <th>3</th>\n      <td>6</td>\n      <td>0</td>\n      <td>2</td>\n      <td>1</td>\n      <td>0</td>\n      <td>1</td>\n      <td>1</td>\n      <td>1</td>\n      <td>0</td>\n      <td>0</td>\n      <td>...</td>\n      <td>0</td>\n      <td>0</td>\n      <td>4</td>\n      <td>0</td>\n      <td>0</td>\n      <td>0</td>\n      <td>0</td>\n      <td>0</td>\n      <td>0</td>\n      <td>D1</td>\n    </tr>\n    <tr>\n      <th>4</th>\n      <td>4</td>\n      <td>0</td>\n      <td>2</td>\n      <td>1</td>\n      <td>0</td>\n      <td>3</td>\n      <td>0</td>\n      <td>2</td>\n      <td>0</td>\n      <td>2</td>\n      <td>...</td>\n      <td>0</td>\n      <td>0</td>\n      <td>4</td>\n      <td>0</td>\n      <td>0</td>\n      <td>0</td>\n      <td>0</td>\n      <td>0</td>\n      <td>0</td>\n      <td>D1</td>\n    </tr>\n  </tbody>\n</table>\n<p>5 rows × 36 columns</p>\n</div>"
     },
     "execution_count": 61,
     "metadata": {},
     "output_type": "execute_result"
    }
   ],
   "source": [
    "soybean_df: pd.DataFrame = pd.read_csv(\"data/soybean-small.data\", header=None)\n",
    "soybean_df.head()"
   ]
  },
  {
   "cell_type": "code",
   "execution_count": 62,
   "metadata": {
    "pycharm": {
     "name": "#%%\n"
    }
   },
   "outputs": [
    {
     "name": "stdout",
     "output_type": "stream",
     "text": [
      "Missing values: 0\n"
     ]
    }
   ],
   "source": [
    "print(f'Missing values: {soybean_df.isnull().sum().sum()}')"
   ]
  },
  {
   "cell_type": "markdown",
   "metadata": {
    "pycharm": {
     "name": "#%% md\n"
    }
   },
   "source": [
    "## Zoo dataset"
   ]
  },
  {
   "cell_type": "code",
   "execution_count": 63,
   "metadata": {
    "pycharm": {
     "name": "#%%\n"
    }
   },
   "outputs": [
    {
     "data": {
      "text/plain": "         0   1   2   3   4   5   6   7   8   9   10  11  12  13  14  15  16  \\\n0  aardvark   1   0   0   1   0   0   1   1   1   1   0   0   4   0   0   1   \n1  antelope   1   0   0   1   0   0   0   1   1   1   0   0   4   1   0   1   \n2      bass   0   0   1   0   0   1   1   1   1   0   0   1   0   1   0   0   \n3      bear   1   0   0   1   0   0   1   1   1   1   0   0   4   0   0   1   \n4      boar   1   0   0   1   0   0   1   1   1   1   0   0   4   1   0   1   \n\n   17  \n0   1  \n1   1  \n2   4  \n3   1  \n4   1  ",
      "text/html": "<div>\n<style scoped>\n    .dataframe tbody tr th:only-of-type {\n        vertical-align: middle;\n    }\n\n    .dataframe tbody tr th {\n        vertical-align: top;\n    }\n\n    .dataframe thead th {\n        text-align: right;\n    }\n</style>\n<table border=\"1\" class=\"dataframe\">\n  <thead>\n    <tr style=\"text-align: right;\">\n      <th></th>\n      <th>0</th>\n      <th>1</th>\n      <th>2</th>\n      <th>3</th>\n      <th>4</th>\n      <th>5</th>\n      <th>6</th>\n      <th>7</th>\n      <th>8</th>\n      <th>9</th>\n      <th>10</th>\n      <th>11</th>\n      <th>12</th>\n      <th>13</th>\n      <th>14</th>\n      <th>15</th>\n      <th>16</th>\n      <th>17</th>\n    </tr>\n  </thead>\n  <tbody>\n    <tr>\n      <th>0</th>\n      <td>aardvark</td>\n      <td>1</td>\n      <td>0</td>\n      <td>0</td>\n      <td>1</td>\n      <td>0</td>\n      <td>0</td>\n      <td>1</td>\n      <td>1</td>\n      <td>1</td>\n      <td>1</td>\n      <td>0</td>\n      <td>0</td>\n      <td>4</td>\n      <td>0</td>\n      <td>0</td>\n      <td>1</td>\n      <td>1</td>\n    </tr>\n    <tr>\n      <th>1</th>\n      <td>antelope</td>\n      <td>1</td>\n      <td>0</td>\n      <td>0</td>\n      <td>1</td>\n      <td>0</td>\n      <td>0</td>\n      <td>0</td>\n      <td>1</td>\n      <td>1</td>\n      <td>1</td>\n      <td>0</td>\n      <td>0</td>\n      <td>4</td>\n      <td>1</td>\n      <td>0</td>\n      <td>1</td>\n      <td>1</td>\n    </tr>\n    <tr>\n      <th>2</th>\n      <td>bass</td>\n      <td>0</td>\n      <td>0</td>\n      <td>1</td>\n      <td>0</td>\n      <td>0</td>\n      <td>1</td>\n      <td>1</td>\n      <td>1</td>\n      <td>1</td>\n      <td>0</td>\n      <td>0</td>\n      <td>1</td>\n      <td>0</td>\n      <td>1</td>\n      <td>0</td>\n      <td>0</td>\n      <td>4</td>\n    </tr>\n    <tr>\n      <th>3</th>\n      <td>bear</td>\n      <td>1</td>\n      <td>0</td>\n      <td>0</td>\n      <td>1</td>\n      <td>0</td>\n      <td>0</td>\n      <td>1</td>\n      <td>1</td>\n      <td>1</td>\n      <td>1</td>\n      <td>0</td>\n      <td>0</td>\n      <td>4</td>\n      <td>0</td>\n      <td>0</td>\n      <td>1</td>\n      <td>1</td>\n    </tr>\n    <tr>\n      <th>4</th>\n      <td>boar</td>\n      <td>1</td>\n      <td>0</td>\n      <td>0</td>\n      <td>1</td>\n      <td>0</td>\n      <td>0</td>\n      <td>1</td>\n      <td>1</td>\n      <td>1</td>\n      <td>1</td>\n      <td>0</td>\n      <td>0</td>\n      <td>4</td>\n      <td>1</td>\n      <td>0</td>\n      <td>1</td>\n      <td>1</td>\n    </tr>\n  </tbody>\n</table>\n</div>"
     },
     "execution_count": 63,
     "metadata": {},
     "output_type": "execute_result"
    }
   ],
   "source": [
    "zoo_df: pd.DataFrame = pd.read_csv(\"data/zoo.data\", header=None)\n",
    "zoo_df.head()"
   ]
  },
  {
   "cell_type": "code",
   "execution_count": 64,
   "metadata": {
    "pycharm": {
     "name": "#%%\n"
    }
   },
   "outputs": [
    {
     "name": "stdout",
     "output_type": "stream",
     "text": [
      "Missing values: 0\n"
     ]
    }
   ],
   "source": [
    "print(f'Missing values: {zoo_df.isnull().sum().sum()}')"
   ]
  },
  {
   "cell_type": "markdown",
   "metadata": {
    "pycharm": {
     "name": "#%% md\n"
    }
   },
   "source": [
    "## Post-operative dataset"
   ]
  },
  {
   "cell_type": "code",
   "execution_count": 65,
   "metadata": {
    "pycharm": {
     "name": "#%%\n"
    }
   },
   "outputs": [
    {
     "data": {
      "text/plain": "      0     1          2     3       4         5           6   7   8\n0   mid   low  excellent   mid  stable    stable      stable  15   A\n1   mid  high  excellent  high  stable    stable      stable  10   S\n2  high   low  excellent  high  stable    stable  mod-stable  10   A\n3   mid   low       good  high  stable  unstable  mod-stable  15  A \n4   mid   mid  excellent  high  stable    stable      stable  10   A",
      "text/html": "<div>\n<style scoped>\n    .dataframe tbody tr th:only-of-type {\n        vertical-align: middle;\n    }\n\n    .dataframe tbody tr th {\n        vertical-align: top;\n    }\n\n    .dataframe thead th {\n        text-align: right;\n    }\n</style>\n<table border=\"1\" class=\"dataframe\">\n  <thead>\n    <tr style=\"text-align: right;\">\n      <th></th>\n      <th>0</th>\n      <th>1</th>\n      <th>2</th>\n      <th>3</th>\n      <th>4</th>\n      <th>5</th>\n      <th>6</th>\n      <th>7</th>\n      <th>8</th>\n    </tr>\n  </thead>\n  <tbody>\n    <tr>\n      <th>0</th>\n      <td>mid</td>\n      <td>low</td>\n      <td>excellent</td>\n      <td>mid</td>\n      <td>stable</td>\n      <td>stable</td>\n      <td>stable</td>\n      <td>15</td>\n      <td>A</td>\n    </tr>\n    <tr>\n      <th>1</th>\n      <td>mid</td>\n      <td>high</td>\n      <td>excellent</td>\n      <td>high</td>\n      <td>stable</td>\n      <td>stable</td>\n      <td>stable</td>\n      <td>10</td>\n      <td>S</td>\n    </tr>\n    <tr>\n      <th>2</th>\n      <td>high</td>\n      <td>low</td>\n      <td>excellent</td>\n      <td>high</td>\n      <td>stable</td>\n      <td>stable</td>\n      <td>mod-stable</td>\n      <td>10</td>\n      <td>A</td>\n    </tr>\n    <tr>\n      <th>3</th>\n      <td>mid</td>\n      <td>low</td>\n      <td>good</td>\n      <td>high</td>\n      <td>stable</td>\n      <td>unstable</td>\n      <td>mod-stable</td>\n      <td>15</td>\n      <td>A</td>\n    </tr>\n    <tr>\n      <th>4</th>\n      <td>mid</td>\n      <td>mid</td>\n      <td>excellent</td>\n      <td>high</td>\n      <td>stable</td>\n      <td>stable</td>\n      <td>stable</td>\n      <td>10</td>\n      <td>A</td>\n    </tr>\n  </tbody>\n</table>\n</div>"
     },
     "execution_count": 65,
     "metadata": {},
     "output_type": "execute_result"
    }
   ],
   "source": [
    "po_df: pd.DataFrame = pd.read_csv(\"data/post-operative.data\", header=None)\n",
    "po_df.head()"
   ]
  },
  {
   "cell_type": "code",
   "execution_count": 66,
   "metadata": {
    "pycharm": {
     "name": "#%%\n"
    }
   },
   "outputs": [
    {
     "name": "stdout",
     "output_type": "stream",
     "text": [
      "Missing values: 0\n"
     ]
    }
   ],
   "source": [
    "print(f'Missing values: {po_df.isnull().sum().sum()}')"
   ]
  },
  {
   "cell_type": "markdown",
   "metadata": {
    "pycharm": {
     "name": "#%% md\n"
    }
   },
   "source": [
    "# Transformarea trasaturile categoriale nominale folosind one hot encoding"
   ]
  },
  {
   "cell_type": "markdown",
   "metadata": {
    "jp-MarkdownHeadingCollapsed": true,
    "pycharm": {
     "name": "#%% md\n"
    },
    "tags": []
   },
   "source": [
    "## Abalone"
   ]
  },
  {
   "cell_type": "code",
   "execution_count": 67,
   "metadata": {
    "pycharm": {
     "name": "#%%\n"
    }
   },
   "outputs": [
    {
     "data": {
      "text/plain": "   Length   Diam  Height   Whole  Shucked  Viscera  Shell  Rings  Sex_F  \\\n0   0.455  0.365   0.095  0.5140   0.2245   0.1010  0.150     15      0   \n1   0.350  0.265   0.090  0.2255   0.0995   0.0485  0.070      7      0   \n2   0.530  0.420   0.135  0.6770   0.2565   0.1415  0.210      9      1   \n3   0.440  0.365   0.125  0.5160   0.2155   0.1140  0.155     10      0   \n4   0.330  0.255   0.080  0.2050   0.0895   0.0395  0.055      7      0   \n\n   Sex_I  Sex_M  \n0      0      1  \n1      0      1  \n2      0      0  \n3      0      1  \n4      1      0  ",
      "text/html": "<div>\n<style scoped>\n    .dataframe tbody tr th:only-of-type {\n        vertical-align: middle;\n    }\n\n    .dataframe tbody tr th {\n        vertical-align: top;\n    }\n\n    .dataframe thead th {\n        text-align: right;\n    }\n</style>\n<table border=\"1\" class=\"dataframe\">\n  <thead>\n    <tr style=\"text-align: right;\">\n      <th></th>\n      <th>Length</th>\n      <th>Diam</th>\n      <th>Height</th>\n      <th>Whole</th>\n      <th>Shucked</th>\n      <th>Viscera</th>\n      <th>Shell</th>\n      <th>Rings</th>\n      <th>Sex_F</th>\n      <th>Sex_I</th>\n      <th>Sex_M</th>\n    </tr>\n  </thead>\n  <tbody>\n    <tr>\n      <th>0</th>\n      <td>0.455</td>\n      <td>0.365</td>\n      <td>0.095</td>\n      <td>0.5140</td>\n      <td>0.2245</td>\n      <td>0.1010</td>\n      <td>0.150</td>\n      <td>15</td>\n      <td>0</td>\n      <td>0</td>\n      <td>1</td>\n    </tr>\n    <tr>\n      <th>1</th>\n      <td>0.350</td>\n      <td>0.265</td>\n      <td>0.090</td>\n      <td>0.2255</td>\n      <td>0.0995</td>\n      <td>0.0485</td>\n      <td>0.070</td>\n      <td>7</td>\n      <td>0</td>\n      <td>0</td>\n      <td>1</td>\n    </tr>\n    <tr>\n      <th>2</th>\n      <td>0.530</td>\n      <td>0.420</td>\n      <td>0.135</td>\n      <td>0.6770</td>\n      <td>0.2565</td>\n      <td>0.1415</td>\n      <td>0.210</td>\n      <td>9</td>\n      <td>1</td>\n      <td>0</td>\n      <td>0</td>\n    </tr>\n    <tr>\n      <th>3</th>\n      <td>0.440</td>\n      <td>0.365</td>\n      <td>0.125</td>\n      <td>0.5160</td>\n      <td>0.2155</td>\n      <td>0.1140</td>\n      <td>0.155</td>\n      <td>10</td>\n      <td>0</td>\n      <td>0</td>\n      <td>1</td>\n    </tr>\n    <tr>\n      <th>4</th>\n      <td>0.330</td>\n      <td>0.255</td>\n      <td>0.080</td>\n      <td>0.2050</td>\n      <td>0.0895</td>\n      <td>0.0395</td>\n      <td>0.055</td>\n      <td>7</td>\n      <td>0</td>\n      <td>1</td>\n      <td>0</td>\n    </tr>\n  </tbody>\n</table>\n</div>"
     },
     "execution_count": 67,
     "metadata": {},
     "output_type": "execute_result"
    }
   ],
   "source": [
    "abalone_df = pd.get_dummies(abalone_df)\n",
    "abalone_df.head()"
   ]
  },
  {
   "cell_type": "code",
   "execution_count": 68,
   "metadata": {
    "pycharm": {
     "name": "#%%\n"
    }
   },
   "outputs": [],
   "source": [
    "x_abalone: np.ndarray = abalone_df.values[:, :-3]\n",
    "y_abalone: np.ndarray = abalone_df.values[:, -3:]\n",
    "y_abalone = np.argmax(y_abalone, axis=1)"
   ]
  },
  {
   "cell_type": "markdown",
   "metadata": {
    "jp-MarkdownHeadingCollapsed": true,
    "pycharm": {
     "name": "#%% md\n"
    },
    "tags": []
   },
   "source": [
    "## Iris"
   ]
  },
  {
   "cell_type": "code",
   "execution_count": 69,
   "metadata": {
    "pycharm": {
     "name": "#%%\n"
    }
   },
   "outputs": [
    {
     "data": {
      "text/plain": "     0    1    2    3  4_Iris-setosa  4_Iris-versicolor  4_Iris-virginica\n0  5.1  3.5  1.4  0.2              1                  0                 0\n1  4.9  3.0  1.4  0.2              1                  0                 0\n2  4.7  3.2  1.3  0.2              1                  0                 0\n3  4.6  3.1  1.5  0.2              1                  0                 0\n4  5.0  3.6  1.4  0.2              1                  0                 0",
      "text/html": "<div>\n<style scoped>\n    .dataframe tbody tr th:only-of-type {\n        vertical-align: middle;\n    }\n\n    .dataframe tbody tr th {\n        vertical-align: top;\n    }\n\n    .dataframe thead th {\n        text-align: right;\n    }\n</style>\n<table border=\"1\" class=\"dataframe\">\n  <thead>\n    <tr style=\"text-align: right;\">\n      <th></th>\n      <th>0</th>\n      <th>1</th>\n      <th>2</th>\n      <th>3</th>\n      <th>4_Iris-setosa</th>\n      <th>4_Iris-versicolor</th>\n      <th>4_Iris-virginica</th>\n    </tr>\n  </thead>\n  <tbody>\n    <tr>\n      <th>0</th>\n      <td>5.1</td>\n      <td>3.5</td>\n      <td>1.4</td>\n      <td>0.2</td>\n      <td>1</td>\n      <td>0</td>\n      <td>0</td>\n    </tr>\n    <tr>\n      <th>1</th>\n      <td>4.9</td>\n      <td>3.0</td>\n      <td>1.4</td>\n      <td>0.2</td>\n      <td>1</td>\n      <td>0</td>\n      <td>0</td>\n    </tr>\n    <tr>\n      <th>2</th>\n      <td>4.7</td>\n      <td>3.2</td>\n      <td>1.3</td>\n      <td>0.2</td>\n      <td>1</td>\n      <td>0</td>\n      <td>0</td>\n    </tr>\n    <tr>\n      <th>3</th>\n      <td>4.6</td>\n      <td>3.1</td>\n      <td>1.5</td>\n      <td>0.2</td>\n      <td>1</td>\n      <td>0</td>\n      <td>0</td>\n    </tr>\n    <tr>\n      <th>4</th>\n      <td>5.0</td>\n      <td>3.6</td>\n      <td>1.4</td>\n      <td>0.2</td>\n      <td>1</td>\n      <td>0</td>\n      <td>0</td>\n    </tr>\n  </tbody>\n</table>\n</div>"
     },
     "execution_count": 69,
     "metadata": {},
     "output_type": "execute_result"
    }
   ],
   "source": [
    "iris_df = pd.get_dummies(iris_df)\n",
    "iris_df.head()"
   ]
  },
  {
   "cell_type": "code",
   "execution_count": 70,
   "metadata": {
    "pycharm": {
     "name": "#%%\n"
    }
   },
   "outputs": [],
   "source": [
    "x_iris: np.ndarray = iris_df.values[:, :-3]\n",
    "y_iris: np.ndarray = iris_df.values[:, -3:]\n",
    "y_iris = np.argmax(y_iris, axis=1)"
   ]
  },
  {
   "cell_type": "markdown",
   "metadata": {
    "jp-MarkdownHeadingCollapsed": true,
    "pycharm": {
     "name": "#%% md\n"
    },
    "tags": []
   },
   "source": [
    "## Soybean dataset (small)"
   ]
  },
  {
   "cell_type": "code",
   "execution_count": 71,
   "metadata": {
    "pycharm": {
     "name": "#%%\n"
    }
   },
   "outputs": [
    {
     "data": {
      "text/plain": "   0  1  2  3  4  5  6  7  8  9  ...  29  30  31  32  33  34  35_D1  35_D2  \\\n0  4  0  2  1  1  1  0  1  0  2  ...   0   0   0   0   0   0      1      0   \n1  5  0  2  1  0  3  1  1  1  2  ...   0   0   0   0   0   0      1      0   \n2  3  0  2  1  0  2  0  2  1  1  ...   0   0   0   0   0   0      1      0   \n3  6  0  2  1  0  1  1  1  0  0  ...   0   0   0   0   0   0      1      0   \n4  4  0  2  1  0  3  0  2  0  2  ...   0   0   0   0   0   0      1      0   \n\n   35_D3  35_D4  \n0      0      0  \n1      0      0  \n2      0      0  \n3      0      0  \n4      0      0  \n\n[5 rows x 39 columns]",
      "text/html": "<div>\n<style scoped>\n    .dataframe tbody tr th:only-of-type {\n        vertical-align: middle;\n    }\n\n    .dataframe tbody tr th {\n        vertical-align: top;\n    }\n\n    .dataframe thead th {\n        text-align: right;\n    }\n</style>\n<table border=\"1\" class=\"dataframe\">\n  <thead>\n    <tr style=\"text-align: right;\">\n      <th></th>\n      <th>0</th>\n      <th>1</th>\n      <th>2</th>\n      <th>3</th>\n      <th>4</th>\n      <th>5</th>\n      <th>6</th>\n      <th>7</th>\n      <th>8</th>\n      <th>9</th>\n      <th>...</th>\n      <th>29</th>\n      <th>30</th>\n      <th>31</th>\n      <th>32</th>\n      <th>33</th>\n      <th>34</th>\n      <th>35_D1</th>\n      <th>35_D2</th>\n      <th>35_D3</th>\n      <th>35_D4</th>\n    </tr>\n  </thead>\n  <tbody>\n    <tr>\n      <th>0</th>\n      <td>4</td>\n      <td>0</td>\n      <td>2</td>\n      <td>1</td>\n      <td>1</td>\n      <td>1</td>\n      <td>0</td>\n      <td>1</td>\n      <td>0</td>\n      <td>2</td>\n      <td>...</td>\n      <td>0</td>\n      <td>0</td>\n      <td>0</td>\n      <td>0</td>\n      <td>0</td>\n      <td>0</td>\n      <td>1</td>\n      <td>0</td>\n      <td>0</td>\n      <td>0</td>\n    </tr>\n    <tr>\n      <th>1</th>\n      <td>5</td>\n      <td>0</td>\n      <td>2</td>\n      <td>1</td>\n      <td>0</td>\n      <td>3</td>\n      <td>1</td>\n      <td>1</td>\n      <td>1</td>\n      <td>2</td>\n      <td>...</td>\n      <td>0</td>\n      <td>0</td>\n      <td>0</td>\n      <td>0</td>\n      <td>0</td>\n      <td>0</td>\n      <td>1</td>\n      <td>0</td>\n      <td>0</td>\n      <td>0</td>\n    </tr>\n    <tr>\n      <th>2</th>\n      <td>3</td>\n      <td>0</td>\n      <td>2</td>\n      <td>1</td>\n      <td>0</td>\n      <td>2</td>\n      <td>0</td>\n      <td>2</td>\n      <td>1</td>\n      <td>1</td>\n      <td>...</td>\n      <td>0</td>\n      <td>0</td>\n      <td>0</td>\n      <td>0</td>\n      <td>0</td>\n      <td>0</td>\n      <td>1</td>\n      <td>0</td>\n      <td>0</td>\n      <td>0</td>\n    </tr>\n    <tr>\n      <th>3</th>\n      <td>6</td>\n      <td>0</td>\n      <td>2</td>\n      <td>1</td>\n      <td>0</td>\n      <td>1</td>\n      <td>1</td>\n      <td>1</td>\n      <td>0</td>\n      <td>0</td>\n      <td>...</td>\n      <td>0</td>\n      <td>0</td>\n      <td>0</td>\n      <td>0</td>\n      <td>0</td>\n      <td>0</td>\n      <td>1</td>\n      <td>0</td>\n      <td>0</td>\n      <td>0</td>\n    </tr>\n    <tr>\n      <th>4</th>\n      <td>4</td>\n      <td>0</td>\n      <td>2</td>\n      <td>1</td>\n      <td>0</td>\n      <td>3</td>\n      <td>0</td>\n      <td>2</td>\n      <td>0</td>\n      <td>2</td>\n      <td>...</td>\n      <td>0</td>\n      <td>0</td>\n      <td>0</td>\n      <td>0</td>\n      <td>0</td>\n      <td>0</td>\n      <td>1</td>\n      <td>0</td>\n      <td>0</td>\n      <td>0</td>\n    </tr>\n  </tbody>\n</table>\n<p>5 rows × 39 columns</p>\n</div>"
     },
     "execution_count": 71,
     "metadata": {},
     "output_type": "execute_result"
    }
   ],
   "source": [
    "soybean_df = pd.get_dummies(soybean_df)\n",
    "soybean_df.head()"
   ]
  },
  {
   "cell_type": "code",
   "execution_count": 72,
   "metadata": {
    "pycharm": {
     "name": "#%%\n"
    }
   },
   "outputs": [],
   "source": [
    "x_soybean: np.ndarray = soybean_df.values[:, :-3]\n",
    "y_soybean: np.ndarray = soybean_df.values[:, -3:]\n",
    "y_soybean = np.argmax(y_soybean, axis=1)"
   ]
  },
  {
   "cell_type": "markdown",
   "metadata": {
    "jp-MarkdownHeadingCollapsed": true,
    "pycharm": {
     "name": "#%% md\n"
    },
    "tags": []
   },
   "source": [
    "## Zoo dataset"
   ]
  },
  {
   "cell_type": "code",
   "execution_count": 73,
   "metadata": {
    "pycharm": {
     "name": "#%%\n"
    }
   },
   "outputs": [],
   "source": [
    "y_zoo: np.ndarray = np.array(zoo_df.values[:, 7]).astype('int64')"
   ]
  },
  {
   "cell_type": "code",
   "execution_count": 74,
   "metadata": {
    "pycharm": {
     "name": "#%%\n"
    }
   },
   "outputs": [
    {
     "data": {
      "text/plain": "         0   1   2   3   4   5   6   7   8   9   10  11  12  13  14  15  16\n0  aardvark   1   0   0   1   0   0   1   1   1   1   0   0   4   0   0   1\n1  antelope   1   0   0   1   0   0   0   1   1   1   0   0   4   1   0   1\n2      bass   0   0   1   0   0   1   1   1   1   0   0   1   0   1   0   0\n3      bear   1   0   0   1   0   0   1   1   1   1   0   0   4   0   0   1\n4      boar   1   0   0   1   0   0   1   1   1   1   0   0   4   1   0   1",
      "text/html": "<div>\n<style scoped>\n    .dataframe tbody tr th:only-of-type {\n        vertical-align: middle;\n    }\n\n    .dataframe tbody tr th {\n        vertical-align: top;\n    }\n\n    .dataframe thead th {\n        text-align: right;\n    }\n</style>\n<table border=\"1\" class=\"dataframe\">\n  <thead>\n    <tr style=\"text-align: right;\">\n      <th></th>\n      <th>0</th>\n      <th>1</th>\n      <th>2</th>\n      <th>3</th>\n      <th>4</th>\n      <th>5</th>\n      <th>6</th>\n      <th>7</th>\n      <th>8</th>\n      <th>9</th>\n      <th>10</th>\n      <th>11</th>\n      <th>12</th>\n      <th>13</th>\n      <th>14</th>\n      <th>15</th>\n      <th>16</th>\n    </tr>\n  </thead>\n  <tbody>\n    <tr>\n      <th>0</th>\n      <td>aardvark</td>\n      <td>1</td>\n      <td>0</td>\n      <td>0</td>\n      <td>1</td>\n      <td>0</td>\n      <td>0</td>\n      <td>1</td>\n      <td>1</td>\n      <td>1</td>\n      <td>1</td>\n      <td>0</td>\n      <td>0</td>\n      <td>4</td>\n      <td>0</td>\n      <td>0</td>\n      <td>1</td>\n    </tr>\n    <tr>\n      <th>1</th>\n      <td>antelope</td>\n      <td>1</td>\n      <td>0</td>\n      <td>0</td>\n      <td>1</td>\n      <td>0</td>\n      <td>0</td>\n      <td>0</td>\n      <td>1</td>\n      <td>1</td>\n      <td>1</td>\n      <td>0</td>\n      <td>0</td>\n      <td>4</td>\n      <td>1</td>\n      <td>0</td>\n      <td>1</td>\n    </tr>\n    <tr>\n      <th>2</th>\n      <td>bass</td>\n      <td>0</td>\n      <td>0</td>\n      <td>1</td>\n      <td>0</td>\n      <td>0</td>\n      <td>1</td>\n      <td>1</td>\n      <td>1</td>\n      <td>1</td>\n      <td>0</td>\n      <td>0</td>\n      <td>1</td>\n      <td>0</td>\n      <td>1</td>\n      <td>0</td>\n      <td>0</td>\n    </tr>\n    <tr>\n      <th>3</th>\n      <td>bear</td>\n      <td>1</td>\n      <td>0</td>\n      <td>0</td>\n      <td>1</td>\n      <td>0</td>\n      <td>0</td>\n      <td>1</td>\n      <td>1</td>\n      <td>1</td>\n      <td>1</td>\n      <td>0</td>\n      <td>0</td>\n      <td>4</td>\n      <td>0</td>\n      <td>0</td>\n      <td>1</td>\n    </tr>\n    <tr>\n      <th>4</th>\n      <td>boar</td>\n      <td>1</td>\n      <td>0</td>\n      <td>0</td>\n      <td>1</td>\n      <td>0</td>\n      <td>0</td>\n      <td>1</td>\n      <td>1</td>\n      <td>1</td>\n      <td>1</td>\n      <td>0</td>\n      <td>0</td>\n      <td>4</td>\n      <td>1</td>\n      <td>0</td>\n      <td>1</td>\n    </tr>\n  </tbody>\n</table>\n</div>"
     },
     "execution_count": 74,
     "metadata": {},
     "output_type": "execute_result"
    }
   ],
   "source": [
    "zoo_df = zoo_df.drop(zoo_df.columns[[17]], axis=1)\n",
    "zoo_df.head()"
   ]
  },
  {
   "cell_type": "code",
   "execution_count": 75,
   "metadata": {
    "pycharm": {
     "name": "#%%\n"
    }
   },
   "outputs": [
    {
     "data": {
      "text/plain": "   1  2  3  4  5  6  7  8  9  10  ...  0_tuatara  0_tuna  0_vampire  0_vole  \\\n0  1  0  0  1  0  0  1  1  1   1  ...          0       0          0       0   \n1  1  0  0  1  0  0  0  1  1   1  ...          0       0          0       0   \n2  0  0  1  0  0  1  1  1  1   0  ...          0       0          0       0   \n3  1  0  0  1  0  0  1  1  1   1  ...          0       0          0       0   \n4  1  0  0  1  0  0  1  1  1   1  ...          0       0          0       0   \n\n   0_vulture  0_wallaby  0_wasp  0_wolf  0_worm  0_wren  \n0          0          0       0       0       0       0  \n1          0          0       0       0       0       0  \n2          0          0       0       0       0       0  \n3          0          0       0       0       0       0  \n4          0          0       0       0       0       0  \n\n[5 rows x 116 columns]",
      "text/html": "<div>\n<style scoped>\n    .dataframe tbody tr th:only-of-type {\n        vertical-align: middle;\n    }\n\n    .dataframe tbody tr th {\n        vertical-align: top;\n    }\n\n    .dataframe thead th {\n        text-align: right;\n    }\n</style>\n<table border=\"1\" class=\"dataframe\">\n  <thead>\n    <tr style=\"text-align: right;\">\n      <th></th>\n      <th>1</th>\n      <th>2</th>\n      <th>3</th>\n      <th>4</th>\n      <th>5</th>\n      <th>6</th>\n      <th>7</th>\n      <th>8</th>\n      <th>9</th>\n      <th>10</th>\n      <th>...</th>\n      <th>0_tuatara</th>\n      <th>0_tuna</th>\n      <th>0_vampire</th>\n      <th>0_vole</th>\n      <th>0_vulture</th>\n      <th>0_wallaby</th>\n      <th>0_wasp</th>\n      <th>0_wolf</th>\n      <th>0_worm</th>\n      <th>0_wren</th>\n    </tr>\n  </thead>\n  <tbody>\n    <tr>\n      <th>0</th>\n      <td>1</td>\n      <td>0</td>\n      <td>0</td>\n      <td>1</td>\n      <td>0</td>\n      <td>0</td>\n      <td>1</td>\n      <td>1</td>\n      <td>1</td>\n      <td>1</td>\n      <td>...</td>\n      <td>0</td>\n      <td>0</td>\n      <td>0</td>\n      <td>0</td>\n      <td>0</td>\n      <td>0</td>\n      <td>0</td>\n      <td>0</td>\n      <td>0</td>\n      <td>0</td>\n    </tr>\n    <tr>\n      <th>1</th>\n      <td>1</td>\n      <td>0</td>\n      <td>0</td>\n      <td>1</td>\n      <td>0</td>\n      <td>0</td>\n      <td>0</td>\n      <td>1</td>\n      <td>1</td>\n      <td>1</td>\n      <td>...</td>\n      <td>0</td>\n      <td>0</td>\n      <td>0</td>\n      <td>0</td>\n      <td>0</td>\n      <td>0</td>\n      <td>0</td>\n      <td>0</td>\n      <td>0</td>\n      <td>0</td>\n    </tr>\n    <tr>\n      <th>2</th>\n      <td>0</td>\n      <td>0</td>\n      <td>1</td>\n      <td>0</td>\n      <td>0</td>\n      <td>1</td>\n      <td>1</td>\n      <td>1</td>\n      <td>1</td>\n      <td>0</td>\n      <td>...</td>\n      <td>0</td>\n      <td>0</td>\n      <td>0</td>\n      <td>0</td>\n      <td>0</td>\n      <td>0</td>\n      <td>0</td>\n      <td>0</td>\n      <td>0</td>\n      <td>0</td>\n    </tr>\n    <tr>\n      <th>3</th>\n      <td>1</td>\n      <td>0</td>\n      <td>0</td>\n      <td>1</td>\n      <td>0</td>\n      <td>0</td>\n      <td>1</td>\n      <td>1</td>\n      <td>1</td>\n      <td>1</td>\n      <td>...</td>\n      <td>0</td>\n      <td>0</td>\n      <td>0</td>\n      <td>0</td>\n      <td>0</td>\n      <td>0</td>\n      <td>0</td>\n      <td>0</td>\n      <td>0</td>\n      <td>0</td>\n    </tr>\n    <tr>\n      <th>4</th>\n      <td>1</td>\n      <td>0</td>\n      <td>0</td>\n      <td>1</td>\n      <td>0</td>\n      <td>0</td>\n      <td>1</td>\n      <td>1</td>\n      <td>1</td>\n      <td>1</td>\n      <td>...</td>\n      <td>0</td>\n      <td>0</td>\n      <td>0</td>\n      <td>0</td>\n      <td>0</td>\n      <td>0</td>\n      <td>0</td>\n      <td>0</td>\n      <td>0</td>\n      <td>0</td>\n    </tr>\n  </tbody>\n</table>\n<p>5 rows × 116 columns</p>\n</div>"
     },
     "execution_count": 75,
     "metadata": {},
     "output_type": "execute_result"
    }
   ],
   "source": [
    "zoo_df = pd.get_dummies(zoo_df)\n",
    "zoo_df.head()"
   ]
  },
  {
   "cell_type": "code",
   "execution_count": 76,
   "metadata": {
    "pycharm": {
     "name": "#%%\n"
    }
   },
   "outputs": [],
   "source": [
    "x_zoo: np.ndarray = zoo_df.values"
   ]
  },
  {
   "cell_type": "markdown",
   "metadata": {
    "pycharm": {
     "name": "#%% md\n"
    }
   },
   "source": [
    "## Post-operative"
   ]
  },
  {
   "cell_type": "code",
   "execution_count": 77,
   "metadata": {
    "pycharm": {
     "name": "#%%\n"
    }
   },
   "outputs": [
    {
     "data": {
      "text/plain": "   0_high  0_low  0_mid  1_high  1_low  1_mid  2_excellent  2_good  3_high  \\\n0       0      0      1       0      1      0            1       0       0   \n1       0      0      1       1      0      0            1       0       1   \n2       1      0      0       0      1      0            1       0       1   \n3       0      0      1       0      1      0            0       1       1   \n4       0      0      1       0      0      1            1       0       1   \n\n   3_low  ...  6_unstable  7_05  7_07  7_10  7_15  7_?  8_A  8_A   8_I  8_S  \n0      0  ...           0     0     0     0     1    0    1     0    0    0  \n1      0  ...           0     0     0     1     0    0    0     0    0    1  \n2      0  ...           0     0     0     1     0    0    1     0    0    0  \n3      0  ...           0     0     0     0     1    0    0     1    0    0  \n4      0  ...           0     0     0     1     0    0    1     0    0    0  \n\n[5 rows x 28 columns]",
      "text/html": "<div>\n<style scoped>\n    .dataframe tbody tr th:only-of-type {\n        vertical-align: middle;\n    }\n\n    .dataframe tbody tr th {\n        vertical-align: top;\n    }\n\n    .dataframe thead th {\n        text-align: right;\n    }\n</style>\n<table border=\"1\" class=\"dataframe\">\n  <thead>\n    <tr style=\"text-align: right;\">\n      <th></th>\n      <th>0_high</th>\n      <th>0_low</th>\n      <th>0_mid</th>\n      <th>1_high</th>\n      <th>1_low</th>\n      <th>1_mid</th>\n      <th>2_excellent</th>\n      <th>2_good</th>\n      <th>3_high</th>\n      <th>3_low</th>\n      <th>...</th>\n      <th>6_unstable</th>\n      <th>7_05</th>\n      <th>7_07</th>\n      <th>7_10</th>\n      <th>7_15</th>\n      <th>7_?</th>\n      <th>8_A</th>\n      <th>8_A</th>\n      <th>8_I</th>\n      <th>8_S</th>\n    </tr>\n  </thead>\n  <tbody>\n    <tr>\n      <th>0</th>\n      <td>0</td>\n      <td>0</td>\n      <td>1</td>\n      <td>0</td>\n      <td>1</td>\n      <td>0</td>\n      <td>1</td>\n      <td>0</td>\n      <td>0</td>\n      <td>0</td>\n      <td>...</td>\n      <td>0</td>\n      <td>0</td>\n      <td>0</td>\n      <td>0</td>\n      <td>1</td>\n      <td>0</td>\n      <td>1</td>\n      <td>0</td>\n      <td>0</td>\n      <td>0</td>\n    </tr>\n    <tr>\n      <th>1</th>\n      <td>0</td>\n      <td>0</td>\n      <td>1</td>\n      <td>1</td>\n      <td>0</td>\n      <td>0</td>\n      <td>1</td>\n      <td>0</td>\n      <td>1</td>\n      <td>0</td>\n      <td>...</td>\n      <td>0</td>\n      <td>0</td>\n      <td>0</td>\n      <td>1</td>\n      <td>0</td>\n      <td>0</td>\n      <td>0</td>\n      <td>0</td>\n      <td>0</td>\n      <td>1</td>\n    </tr>\n    <tr>\n      <th>2</th>\n      <td>1</td>\n      <td>0</td>\n      <td>0</td>\n      <td>0</td>\n      <td>1</td>\n      <td>0</td>\n      <td>1</td>\n      <td>0</td>\n      <td>1</td>\n      <td>0</td>\n      <td>...</td>\n      <td>0</td>\n      <td>0</td>\n      <td>0</td>\n      <td>1</td>\n      <td>0</td>\n      <td>0</td>\n      <td>1</td>\n      <td>0</td>\n      <td>0</td>\n      <td>0</td>\n    </tr>\n    <tr>\n      <th>3</th>\n      <td>0</td>\n      <td>0</td>\n      <td>1</td>\n      <td>0</td>\n      <td>1</td>\n      <td>0</td>\n      <td>0</td>\n      <td>1</td>\n      <td>1</td>\n      <td>0</td>\n      <td>...</td>\n      <td>0</td>\n      <td>0</td>\n      <td>0</td>\n      <td>0</td>\n      <td>1</td>\n      <td>0</td>\n      <td>0</td>\n      <td>1</td>\n      <td>0</td>\n      <td>0</td>\n    </tr>\n    <tr>\n      <th>4</th>\n      <td>0</td>\n      <td>0</td>\n      <td>1</td>\n      <td>0</td>\n      <td>0</td>\n      <td>1</td>\n      <td>1</td>\n      <td>0</td>\n      <td>1</td>\n      <td>0</td>\n      <td>...</td>\n      <td>0</td>\n      <td>0</td>\n      <td>0</td>\n      <td>1</td>\n      <td>0</td>\n      <td>0</td>\n      <td>1</td>\n      <td>0</td>\n      <td>0</td>\n      <td>0</td>\n    </tr>\n  </tbody>\n</table>\n<p>5 rows × 28 columns</p>\n</div>"
     },
     "execution_count": 77,
     "metadata": {},
     "output_type": "execute_result"
    }
   ],
   "source": [
    "po_df = pd.get_dummies(po_df)\n",
    "po_df.head()"
   ]
  },
  {
   "cell_type": "code",
   "execution_count": 78,
   "metadata": {
    "pycharm": {
     "name": "#%%\n"
    }
   },
   "outputs": [],
   "source": [
    "x_po: np.ndarray = po_df.values[:, :-2]\n",
    "y_po: np.ndarray = po_df.values[:, -2:]\n",
    "y_po = np.argmax(y_po, axis=1)"
   ]
  },
  {
   "cell_type": "markdown",
   "metadata": {
    "pycharm": {
     "name": "#%% md\n"
    },
    "tags": []
   },
   "source": [
    "# Modele de clasificare"
   ]
  },
  {
   "cell_type": "code",
   "execution_count": 79,
   "metadata": {
    "pycharm": {
     "name": "#%%\n"
    }
   },
   "outputs": [],
   "source": [
    "from sklearn.model_selection import cross_validate\n",
    "\n",
    "from sklearn.neighbors import KNeighborsClassifier\n",
    "from sklearn.tree import DecisionTreeClassifier\n",
    "from sklearn.linear_model import SGDClassifier\n",
    "from sklearn.neural_network import MLPClassifier\n",
    "from sklearn.ensemble import RandomForestClassifier\n",
    "from sklearn.svm import SVC\n",
    "\n",
    "from sklearn.preprocessing import MinMaxScaler\n",
    "\n",
    "import warnings\n",
    "warnings.filterwarnings('ignore')"
   ]
  },
  {
   "cell_type": "code",
   "execution_count": 80,
   "metadata": {
    "pycharm": {
     "name": "#%%\n"
    }
   },
   "outputs": [],
   "source": [
    "from tabulate import tabulate\n",
    "from IPython.display import display, Markdown"
   ]
  },
  {
   "cell_type": "code",
   "execution_count": 81,
   "metadata": {
    "pycharm": {
     "name": "#%%\n"
    }
   },
   "outputs": [],
   "source": [
    "def print_scores(results: Dict[str, np.ndarray]) -> None:\n",
    "    \"\"\"\n",
    "    Prints in a tabled the results stored as dictionary.\n",
    "\n",
    "    :param results: dict containing the results\n",
    "    :return: None\n",
    "    \"\"\"\n",
    "    table: List[List[Any]] = [['Set type', 'Accuracy average', 'Precision average', 'Recall average score', ' F1 average score'],\n",
    "             ['Train', results['train_accuracy'].mean(), results['train_precision_macro'].mean(),\n",
    "              results['train_recall_macro'].mean(), results['train_f1_macro'].mean()],\n",
    "\n",
    "             ['Test', results['test_accuracy'].mean(), results['test_precision_macro'].mean(),\n",
    "              results['test_recall_macro'].mean(), results['test_f1_macro'].mean()]]\n",
    "\n",
    "    print(tabulate(table, headers='firstrow', tablefmt='fancy_grid'))"
   ]
  },
  {
   "cell_type": "code",
   "execution_count": 82,
   "outputs": [],
   "source": [
    "def apply_model(model: sklearn.base.BaseEstimator, X: np.ndarray, y: np.ndarray) -> None:\n",
    "    \"\"\"\n",
    "    Applies cross_validation (cv=10) on the given model and then prints the average scores of \n",
    "    accuracy, precision, recall, F1 for both train and test sets.\n",
    "\n",
    "    :param model: the given classification model\n",
    "    :param X: data set without labels\n",
    "    :param y: labels \n",
    "    \n",
    "    :return: None\n",
    "    \"\"\"\n",
    "\n",
    "    results: Dict[str, np.ndarray] = cross_validate(model, X, y, cv=10,\n",
    "                                                    scoring=('accuracy', 'precision_macro', 'recall_macro', 'f1_macro'),\n",
    "                                                    return_train_score=True)\n",
    "    print_scores(results)"
   ],
   "metadata": {
    "collapsed": false,
    "pycharm": {
     "name": "#%%\n"
    }
   }
  },
  {
   "cell_type": "markdown",
   "source": [
    "## KNeighborsClassifier"
   ],
   "metadata": {
    "collapsed": false,
    "pycharm": {
     "name": "#%% md\n"
    }
   }
  },
  {
   "cell_type": "markdown",
   "source": [
    "class `sklearn.neighbors.KNeighborsClassifier`<i>(n_neighbors=5, weights='uniform', algorithm='auto', leaf_size=30, p=2, metric='minkowski', metric_params=None, n_jobs=None, **kwargs)</i>\n",
    "\n",
    "Într-o problemă de clasificare, algoritmul kNN (_k_-nearest neighbors) identifică cei mai apropiați _k_ vecini ai fiecărui item neclasificat - fara sa tina cont de etichetele acestora - vecini localizați în setul de antrenare. Determinarea claselor din care fac parte itemii neclasificați se face prin votare, astfel: clasa itemului se consideră clasa în care aparțin majoritatea vecinilor.\n",
    "\n",
    "Pentru determinarea distanței dintre itemi se pot utiliza mai multe metrici. Scikit-learn admite orice funcție Python ca și metrică, insa implicit folosește metrica _Minkowski_. Iată câteva exemple de metrici des utilizate în kNN:\n",
    "\n",
    "- _distanța Minkowski_: $d_{st} = \\sqrt[p]{\\sum_{j=1}^n |x_{sj} - y_{tj}|^p}$  (_Obs._: p este un hiperparametru utilizat de Scikit-learn)\n",
    "- _distanța Manhattan (City block)_: $d_{st} = \\sum_{j=1}^n |x_{sj} - y_{tj}|$\n",
    "- _distanța Euclideană_: $d(\\textbf{x},\\textbf{y}) = \\sqrt{\\sum_{i=1}^n (y_i - x_i)^2}$\n",
    "- _distanța Mahalanobis_: $d(\\textbf{x},\\textbf{y}) = \\sqrt{\\sum_{i=1}^n \\frac{(x_i - y_i)^2}{s_i^2}}$, unde $s_i$ este deviația standard a lui $x_i$ și $y_i$ în sample\n",
    "\n",
    "[Vezi performanta modelului](#knn_performance)"
   ],
   "metadata": {
    "collapsed": false,
    "pycharm": {
     "name": "#%% md\n"
    }
   }
  },
  {
   "cell_type": "code",
   "execution_count": 83,
   "outputs": [],
   "source": [
    "def apply_KNeighborsClassifier(X: np.ndarray, y: np.ndarray) -> None:\n",
    "    \"\"\"\n",
    "    Applies cross_validation (cv=10) for KNeighborsClassifier on the scaled given dataset\n",
    "    and then prints the average scores of accuracy, precision, recall, F1 for both train and test sets.\n",
    "\n",
    "    :param X: dataset without labels\n",
    "    :param y: labels\n",
    "    \n",
    "    :return: None\n",
    "    \"\"\"\n",
    "    display(Markdown('#### KNeighborsClassifier'))\n",
    "    display(Markdown(' Parameters: n_neighbors=3, p=1'))\n",
    "\n",
    "    scaler = MinMaxScaler()\n",
    "    X_scaled: np.ndarray = scaler.fit_transform(X)\n",
    "\n",
    "    model: sklearn.base.BaseEstimator = KNeighborsClassifier(n_neighbors=3, p=1)\n",
    "    apply_model(model, X_scaled, y)"
   ],
   "metadata": {
    "collapsed": false,
    "pycharm": {
     "name": "#%%\n"
    }
   }
  },
  {
   "cell_type": "markdown",
   "source": [
    "## DecisionTreeClassifier"
   ],
   "metadata": {
    "collapsed": false,
    "pycharm": {
     "name": "#%% md\n"
    }
   }
  },
  {
   "cell_type": "markdown",
   "source": [
    "class `sklearn.tree.DecisionTreeClassifier`<i>(criterion='gini', splitter='best', max_depth=None, min_samples_split=2, min_samples_leaf=1, min_weight_fraction_leaf=0.0, max_features=None, random_state=None, max_leaf_nodes=None, min_impurity_decrease=0.0, min_impurity_split=None, class_weight=None, presort='deprecated', ccp_alpha=0.0)</i>\n",
    "\n",
    "DecisionTreeClassifie este o metodă non-parametrică de învățare supravegheată utilizată pentru clasificare și regresie. Scopul este de a crea un model care prezice valoarea unei variabile țintă prin învățarea unor reguli simple de decizie deduse din caracteristicile datelor.\n",
    "\n",
    "Un arbore de decizie (_decision tree_) este o structură arborescentă tip flowchart unde un nod intern reprezintă un feature, ramura este un criteriu de decizie, iar fiecare frunză este un rezultat, o clasificare. Algoritmul Decision tree selectează cel mai bun feature folosind o metrică ASM (_Attribute Selection Measure_), convertește un nod feature la un nod tip criteriu de decizie, și partiționează (splits) datasetul în subseturi. Procesul se execută recursiv până arborele conține numai noduri criterii de decizie și noduri frunză rezultat. Cu cât arborele este mai adânc, cu atât sunt mai complexe criteriile de decizie și modelul are o acuratețe mai mare. \n",
    "\n",
    "<br>Pentru măsurarea calității unui split, Scikit-learn utilizează două metrici ASM:\n",
    "\n",
    "- _impuritatea Gini_ (cât de des este etichetat greșit un element ales aleator dacă a fost etichetat folosind distribuția etichetelor dintr-un subset; poate determina overfitting-ul modelului): <br>$Gini(p) = 1 - \\sum_{j=1}^c p_j^2$ <br>\n",
    "- _entropia_ (similar cu Gini impurity, mai intensă d.p.d.v. computațional din cauza funcției logaritmice): <br>$H(p) = - \\sum_{j=1}^c p_j \\log p_j$\n",
    "\n",
    "(unde c este numărul de clase (etichete), iar $p_j$ este subsetul etichetat cu clasă i, unde $j \\in \\{1, 2, ..., c\\}$).\n",
    "\n",
    "[Vezi performanta modelului](#dt_performance)"
   ],
   "metadata": {
    "collapsed": false,
    "pycharm": {
     "name": "#%% md\n"
    }
   }
  },
  {
   "cell_type": "code",
   "execution_count": 84,
   "outputs": [],
   "source": [
    "def apply_DecisionTreeClassifier(X: np.ndarray, y: np.ndarray) -> None:\n",
    "    \"\"\"\n",
    "    Applies cross_validation (cv=10) for DecisionTreeClassifier on the scaled given dataset\n",
    "    and then prints the average scores of accuracy, precision, recall, F1 for both train and test sets.\n",
    "\n",
    "    :param X: dataset without labels\n",
    "    :param y: labels\n",
    "    \n",
    "    :return: None\n",
    "    \"\"\"\n",
    "    display(Markdown('#### DecisionTreeClassifier'))\n",
    "    display(Markdown('Parameters: random_state=0'))\n",
    "\n",
    "    scaler = MinMaxScaler()\n",
    "    X_scaled = scaler.fit_transform(X)\n",
    "\n",
    "    model = DecisionTreeClassifier(random_state=0)\n",
    "    apply_model(model, X_scaled, y)"
   ],
   "metadata": {
    "collapsed": false,
    "pycharm": {
     "name": "#%%\n"
    }
   }
  },
  {
   "cell_type": "markdown",
   "source": [
    "## StochasticGradientDescentClassifier"
   ],
   "metadata": {
    "collapsed": false,
    "pycharm": {
     "name": "#%% md\n"
    }
   }
  },
  {
   "cell_type": "markdown",
   "source": [
    "class sklearn.linear_model.SGDClassifier <i>(loss='hinge', *, penalty='l2', alpha=0.0001, l1_ratio=0.15, fit_intercept=True, max_iter=1000, tol=0.001, shuffle=True, verbose=0, epsilon=0.1, n_jobs=None, random_state=None, learning_rate='optimal', eta0=0.0, power_t=0.5, early_stopping=False, validation_fraction=0.1, n_iter_no_change=5, class_weight=None, warm_start=False, average=False)</i>\n",
    "\n",
    "Clasa SGDClassifier implementează o rutină simplă de învățare descendentă în gradient stochastic, care acceptă diferite funcții de pierdere și penalități pentru clasificare.\n",
    "\n",
    "SGDClassifier acceptă clasificarea multi-clasă prin combinarea mai multor clasificatoare binare într-o schemă „one versus all” (OVA). Pentru fiecare dintre clase, se învață un clasificator binar care discriminează între aceasta și toate celelalte clase. La momentul testării, calculăm scorul de încredere (adică distanțele semnate până la hiperplan) pentru fiecare clasificator și alegem clasa cu cea mai mare încredere.\n",
    "\n",
    "Avantajele Stochastic Gradient Descent sunt:\n",
    "- Eficienţă.\n",
    "- Ușurința de implementare (o mulțime de oportunități pentru reglarea codului).\n",
    "\n",
    "Insa dezavantajele Stochastic Gradient Descent includ:\n",
    "- SGD necesită un număr de hiperparametri, cum ar fi parametrul de regularizare și numărul de iterații.\n",
    "- SGD este sensibil la scalarea feature-ilor.\n",
    "\n",
    "[Vezi prformanta modelului](#sgd_performance)"
   ],
   "metadata": {
    "collapsed": false,
    "pycharm": {
     "name": "#%% md\n"
    }
   }
  },
  {
   "cell_type": "code",
   "execution_count": 85,
   "outputs": [],
   "source": [
    "def apply_StochasticGradientDescentClassifier(X: np.ndarray, y: np.ndarray) -> None:\n",
    "    \"\"\"\n",
    "    Applies cross_validation (cv=10) for StochasticGradientDescentClassifier on the scaled given dataset\n",
    "    and then prints the average scores of accuracy, precision, recall, F1 for both train and test sets.\n",
    "\n",
    "    :param X: dataset without labels\n",
    "    :param y: labels\n",
    "\n",
    "    :return: None\n",
    "    \"\"\"\n",
    "    display(Markdown('#### StochasticGradientDescentClassifier'))\n",
    "    display(Markdown('Parameters: loss=hinge, penalty=l2, max_iter=80'))\n",
    "\n",
    "    scaler = MinMaxScaler()\n",
    "    X_scaled = scaler.fit_transform(X)\n",
    "\n",
    "    model = SGDClassifier()  #loss=\"hinge\", penalty=\"l2\", max_iter=300)\n",
    "    apply_model(model, X_scaled, y)"
   ],
   "metadata": {
    "collapsed": false,
    "pycharm": {
     "name": "#%%\n"
    }
   }
  },
  {
   "cell_type": "markdown",
   "source": [
    "## RandomForestClassifier"
   ],
   "metadata": {
    "collapsed": false,
    "pycharm": {
     "name": "#%% md\n"
    }
   }
  },
  {
   "cell_type": "markdown",
   "source": [
    "class `sklearn.ensemble.RandomForestClassifier`<i>(n_estimators=100, criterion='gini', max_depth=None, min_samples_split=2, min_samples_leaf=1, min_weight_fraction_leaf=0.0, max_features='auto', max_leaf_nodes=None, min_impurity_decrease=0.0, min_impurity_split=None, bootstrap=True, oob_score=False, n_jobs=None, random_state=None, verbose=0, warm_start=False, class_weight=None, ccp_alpha=0.0, max_samples=None)<i>\n",
    "    \n",
    "Un random forest este un meta-estimator (se obține o predicție în urma mai multor predicții) care se potrivește cu un număr de clasificatori ai arborelui decizional pe diferite sub-eșantioane ale setului de date și utilizează media pentru a îmbunătăți precizia predictivă și pentru a controla supraadaptarea. Dimensiunea sub-eșantionului este controlată cu parametrul max_samples dacă bootstrap = True (implicit), altfel întregul set de date este utilizat pentru a construi fiecare arbore.\n",
    "    \n",
    "Un clasificator _Random forest_ se folosește de ipotezele emise de mai mulți arbori de decizie aleatori (_random trees_), obținuți în urma unui _random split_. Un random forest se obține prin construirea unui random tree pentru fiecare set de antrenare. Acești arbori funcționează ca un ansamblu; pentru fiecare dată de intrare se aplică modelele din ansamblu, și rezultatul final se obține agregând rezultatele prin votare.\n",
    "\n",
    "<br>La fel ca la _Decision Tree classifier_, pentru măsurarea calității unui split, Scikit-learn utilizează două metrici:\n",
    "\n",
    "- _impuritatea Gini_: $Gini(p) = 1 - \\sum_{j=1}^c p_j^2$ <br>\n",
    "- _entropia_: $H(p) = - \\sum_{j=1}^c p_j \\log p_j$\n",
    "\n",
    "(unde c este numărul de clase (etichete), iar $p_j$ este subsetul etichetat cu clasă i, unde $j \\in \\{1, 2, ..., c\\}$).\n",
    "    \n",
    "[Vezi performanta modelului](#rf_performance)"
   ],
   "metadata": {
    "collapsed": false,
    "pycharm": {
     "name": "#%% md\n"
    }
   }
  },
  {
   "cell_type": "code",
   "execution_count": 86,
   "outputs": [],
   "source": [
    "def apply_RandomForestClassifier(X: np.ndarray, y: np.ndarray) -> None:\n",
    "    \"\"\"\n",
    "    Applies cross_validation (cv=10) for RandomForestClassifier on the scaled given dataset\n",
    "    and then prints the average scores of accuracy, precision, recall, F1 for both train and test sets.\n",
    "\n",
    "    :param X: dataset without labels\n",
    "    :param y: labels\n",
    "\n",
    "    :return: None\n",
    "    \"\"\"\n",
    "    display(Markdown('#### RandomForestClassifier'))\n",
    "    display(Markdown('Parameters: max_depth=2, random_state=0'))\n",
    "\n",
    "    scaler = MinMaxScaler()\n",
    "    X_scaled = scaler.fit_transform(X)\n",
    "\n",
    "    model = RandomForestClassifier(max_depth=2, random_state=0)\n",
    "    apply_model(model, X_scaled, y)"
   ],
   "metadata": {
    "collapsed": false,
    "pycharm": {
     "name": "#%%\n"
    }
   }
  },
  {
   "cell_type": "markdown",
   "source": [
    "## MultiLayerPerceptronClassifier"
   ],
   "metadata": {
    "collapsed": false,
    "pycharm": {
     "name": "#%% md\n"
    }
   }
  },
  {
   "cell_type": "markdown",
   "source": [
    "class `sklearn.neural_network.MLPClassifier`<i>(hidden_layer_sizes=(100, ), activation='relu', solver='adam', alpha=0.0001, batch_size='auto', learning_rate='constant', learning_rate_init=0.001, power_t=0.5, max_iter=200, shuffle=True, random_state=None, tol=0.0001, verbose=False, warm_start=False, momentum=0.9, nesterovs_momentum=True, early_stopping=False, validation_fraction=0.1, beta_1=0.9, beta_2=0.999, epsilon=1e-08, n_iter_no_change=10, max_fun=15000)</i>\n",
    "\n",
    "_Perceptronii_ sunt o clasă de clasificatori utilizați în învățarea supervizată, fiind un model matematic al unui neuron biologic. În particular, _perceptronii multistrat (MLP)_ formează rețele neuronale cu mai multe straturi de perceptroni: un strat de intrare, unul sau mai multe straturi intermediare (ascunse), și un strat de ieșire.\n",
    "\n",
    "<br>Într-o rețea neuronală, o _funcție de activare_ definește ieșirea unui perceptron după ce este supus unui set de intrare. În forma lui cea mai simplă, funcția poate returna un rezultat binar (funcție liniară, output 0 sau 1): făcând analogie cu neuronul biologic, dacă trece un impuls electric prin axonul acestuia sau nu. În cazul rețelelor neuronale moderne care utilizează mai multe straturi de perceptroni, funcțiile de activare pot fi și non-binare (non-liniare). \n",
    "\n",
    "Scikit-learn admite funcții de activare de ambele tipuri în implementarea MLP classifier:\n",
    "- _funcția identitate_: $f(x) = x$\n",
    "- _tangenta hiperbolică_: $f(x) = \\tanh(x) = \\frac{\\sinh(x)}{\\cosh(x)} = \\frac{e^x - e^{-x}}{e^x + e^{-x}}$\n",
    "- _sigmoida logistică_: $f(x) = \\frac{1}{1 + \\exp(-x)}$\n",
    "- _Rectified Linear Unit (ReLU)_: $f(x) = \\max(0, x) = \\begin{cases} 0 & \\text{dacă } x \\leq 0 \\\\ x & \\text{dacă } x > 0 \\end{cases}$\n",
    "\n",
    "De asemenea, clasificatorul MLP din Scikit-learn utilizează și algoritmi de optimizare a ponderilor (solvers): _LBFGS_ (algoritm Quasi-Newton), _SGD_ (stochastic gradient descent) și _Adam_ (algoritm derivat din SGD, creat de Diederik P. Kingma și Jimmy Lei Ba).\n",
    "Astfel, acest model optimizează funcția log-loss folosind LBFGS sau stochastic gradient descent.\n",
    "\n",
    "[Vezi performanta modelului](#MLP_performance)"
   ],
   "metadata": {
    "collapsed": false,
    "pycharm": {
     "name": "#%% md\n"
    }
   }
  },
  {
   "cell_type": "code",
   "execution_count": 87,
   "outputs": [],
   "source": [
    "def apply_MultiLayerPerceptronClassifier(X: np.ndarray, y: np.ndarray) -> None:\n",
    "    \"\"\"\n",
    "    Applies cross_validation (cv=10) for MultiLayerPerceptronClassifier on the scaled given dataset\n",
    "    and then prints the average scores of accuracy, precision, recall, F1 for both train and test sets.\n",
    "\n",
    "    :param X: dataset without labels\n",
    "    :param y: labels\n",
    "\n",
    "    :return: None\n",
    "    \"\"\"\n",
    "    display(Markdown('#### MultiLayerPerceptronClassifier'))\n",
    "    display(Markdown('Parameters: max_iter=3000, alpha=1e-5, hidden_layer_sizes=(40, 20), random_state=0'))\n",
    "\n",
    "    scaler = MinMaxScaler()\n",
    "    X_scaled = scaler.fit_transform(X)\n",
    "\n",
    "    model = MLPClassifier(max_iter=3000, alpha=1e-5, hidden_layer_sizes=(40, 20), random_state=0)\n",
    "    apply_model(model, X_scaled, y)"
   ],
   "metadata": {
    "collapsed": false,
    "pycharm": {
     "name": "#%%\n"
    }
   }
  },
  {
   "cell_type": "markdown",
   "source": [
    "## C-Support Vector Classification"
   ],
   "metadata": {
    "collapsed": false,
    "pycharm": {
     "name": "#%% md\n"
    }
   }
  },
  {
   "cell_type": "markdown",
   "source": [
    "class `sklearn.svm.SVC` <i> (C=1.0, kernel=’rbf’, degree=3, gamma=’auto_deprecated’, coef0=0.0, shrinking=True, probability=False, tol=0.001, cache_size=200, class_weight=None, verbose=False, max_iter=-1, decision_function_shape=’ovr’, random_state=None) </i>\n",
    "\n",
    "Implementarea se bazează pe libsvm. Timpul de potrivire se adaptează cel puțin pătratic cu numărul de eșantioane și poate fi nepractic dincolo de zeci de mii de eșantioane. Pentru seturi de date mari, poate fi luat în considerare utilizarea sklearn.linear_model.LinearSVC sau sklearn.linear_model.SGDClassifier, eventual după un transformator sklearn.kernel_approximation.Nystroem.\n",
    "\n",
    "În general, Support Vector Machines este considerată o abordare de clasificare, dar poate fi folosită în ambele tipuri de probleme de clasificare și regresie. Poate gestiona cu ușurință mai multe variabile continue și categorice. SVM construiește un hiperplan în spațiu multidimensional pentru a separa diferite clase. SVM generează hiperplanul optim într-o manieră iterativă, care este utilizat pentru a minimiza o eroare. Ideea de bază a SVM este de a găsi un hiperplan marginal maxim (MMH) care împarte cel mai bine setul de date în clase.\n",
    "\n",
    "Unele probleme nu pot fi rezolvate folosind hiperplanul liniar, așa cum se arată în figura de mai jos (partea stângă).\n",
    "\n",
    "Într-o astfel de situație, SVM folosește un truc al nucleului pentru a transforma spațiul de intrare într-un spațiu dimensional mai înalt, așa cum se arată în dreapta. Punctele de date sunt reprezentate grafic pe axa x și pe axa z (Z este suma pătrată a ambelor x și y: z = x<sup>2</sup> = y<sup>2</sup>). Acum puteți separa cu ușurință aceste puncte folosind separarea liniară.\n",
    "\n",
    "<b> Avantaj </b>\n",
    "Clasificatoarele SVM oferă o precizie bună și efectuează predicții mai rapide în comparație cu algoritmul Naïve Bayes. De asemenea, folosesc mai puțină memorie deoarece folosesc un subset de puncte de antrenament în faza de decizie. SVM funcționează bine cu o marjă clară de separare și cu spațiu dimensional mare.\n",
    "\n",
    "<b> Dezavantaj </b>\n",
    "SVM nu este potrivit pentru seturi mari de date din cauza timpului său mare de antrenament și, de asemenea, necesită mai mult timp în antrenament în comparație cu Naïve Bayes. Funcționează prost cu clasele care se suprapun și este, de asemenea, sensibil la tipul de nucleu utilizat.\n",
    "\n",
    "\n",
    "[Vezi performanta modelului](#CSV_performance)"
   ],
   "metadata": {
    "collapsed": false,
    "pycharm": {
     "name": "#%% md\n"
    }
   }
  },
  {
   "cell_type": "code",
   "execution_count": 88,
   "outputs": [],
   "source": [
    "def apply_SVClassifier(X: np.ndarray, y: np.ndarray) -> None:\n",
    "    \"\"\"\n",
    "    Applies cross_validation (cv=10) for SVClassifier on the scaled given dataset\n",
    "    and then prints the average scores of accuracy, precision, recall, F1 for both train and test sets.\n",
    "\n",
    "    :param X: dataset without labels\n",
    "    :param y: labels\n",
    "\n",
    "    :return: None\n",
    "    \"\"\"\n",
    "    display(Markdown('#### SVClassifier'))\n",
    "    display(Markdown('Parameters: C=1.0, kernel=linear, gamma=auto'))\n",
    "\n",
    "    scaler = MinMaxScaler()\n",
    "    X_scaled = scaler.fit_transform(X)\n",
    "\n",
    "    model = SVC(C=1.0, kernel='linear', gamma='auto')\n",
    "\n",
    "    apply_model(model, X_scaled, y)"
   ],
   "metadata": {
    "collapsed": false,
    "pycharm": {
     "name": "#%%\n"
    }
   }
  },
  {
   "cell_type": "markdown",
   "source": [
    "# Aplicarea modelelor de clasificare"
   ],
   "metadata": {
    "collapsed": false,
    "pycharm": {
     "name": "#%% md\n"
    }
   }
  },
  {
   "cell_type": "code",
   "execution_count": 89,
   "outputs": [],
   "source": [
    "datasets = {'Abalone': [x_abalone, y_abalone], 'Iris': [x_iris, y_iris], 'Soybean': [x_soybean, y_soybean],\n",
    "            'Zoo': [x_zoo, y_zoo], 'Post-operative': [x_po, y_po]}"
   ],
   "metadata": {
    "collapsed": false,
    "pycharm": {
     "name": "#%%\n"
    }
   }
  },
  {
   "cell_type": "code",
   "execution_count": 90,
   "outputs": [
    {
     "data": {
      "text/plain": "<IPython.core.display.Markdown object>",
      "text/markdown": "### Abalone"
     },
     "metadata": {},
     "output_type": "display_data"
    },
    {
     "data": {
      "text/plain": "<IPython.core.display.Markdown object>",
      "text/markdown": "#### KNeighborsClassifier"
     },
     "metadata": {},
     "output_type": "display_data"
    },
    {
     "data": {
      "text/plain": "<IPython.core.display.Markdown object>",
      "text/markdown": " Parameters: n_neighbors=3, p=1"
     },
     "metadata": {},
     "output_type": "display_data"
    },
    {
     "name": "stdout",
     "output_type": "stream",
     "text": [
      "╒════════════╤════════════════════╤═════════════════════╤════════════════════════╤═════════════════════╕\n",
      "│ Set type   │   Accuracy average │   Precision average │   Recall average score │    F1 average score │\n",
      "╞════════════╪════════════════════╪═════════════════════╪════════════════════════╪═════════════════════╡\n",
      "│ Train      │           0.742106 │            0.746583 │               0.744571 │            0.744167 │\n",
      "├────────────┼────────────────────┼─────────────────────┼────────────────────────┼─────────────────────┤\n",
      "│ Test       │           0.513052 │            0.521465 │               0.517401 │            0.51644  │\n",
      "╘════════════╧════════════════════╧═════════════════════╧════════════════════════╧═════════════════════╛\n"
     ]
    },
    {
     "data": {
      "text/plain": "<IPython.core.display.Markdown object>",
      "text/markdown": "#### DecisionTreeClassifier"
     },
     "metadata": {},
     "output_type": "display_data"
    },
    {
     "data": {
      "text/plain": "<IPython.core.display.Markdown object>",
      "text/markdown": "Parameters: random_state=0"
     },
     "metadata": {},
     "output_type": "display_data"
    },
    {
     "name": "stdout",
     "output_type": "stream",
     "text": [
      "╒════════════╤════════════════════╤═════════════════════╤════════════════════════╤═════════════════════╕\n",
      "│ Set type   │   Accuracy average │   Precision average │   Recall average score │    F1 average score │\n",
      "╞════════════╪════════════════════╪═════════════════════╪════════════════════════╪═════════════════════╡\n",
      "│ Train      │           1        │            1        │               1        │            1        │\n",
      "├────────────┼────────────────────┼─────────────────────┼────────────────────────┼─────────────────────┤\n",
      "│ Test       │           0.485525 │            0.489278 │               0.487198 │            0.486483 │\n",
      "╘════════════╧════════════════════╧═════════════════════╧════════════════════════╧═════════════════════╛\n"
     ]
    },
    {
     "data": {
      "text/plain": "<IPython.core.display.Markdown object>",
      "text/markdown": "#### StochasticGradientDescentClassifier"
     },
     "metadata": {},
     "output_type": "display_data"
    },
    {
     "data": {
      "text/plain": "<IPython.core.display.Markdown object>",
      "text/markdown": "Parameters: loss=hinge, penalty=l2, max_iter=80"
     },
     "metadata": {},
     "output_type": "display_data"
    },
    {
     "name": "stdout",
     "output_type": "stream",
     "text": [
      "╒════════════╤════════════════════╤═════════════════════╤════════════════════════╤═════════════════════╕\n",
      "│ Set type   │   Accuracy average │   Precision average │   Recall average score │    F1 average score │\n",
      "╞════════════╪════════════════════╪═════════════════════╪════════════════════════╪═════════════════════╡\n",
      "│ Train      │           0.53893  │            0.551179 │               0.544729 │            0.484335 │\n",
      "├────────────┼────────────────────┼─────────────────────┼────────────────────────┼─────────────────────┤\n",
      "│ Test       │           0.535789 │            0.492077 │               0.540726 │            0.478024 │\n",
      "╘════════════╧════════════════════╧═════════════════════╧════════════════════════╧═════════════════════╛\n"
     ]
    },
    {
     "data": {
      "text/plain": "<IPython.core.display.Markdown object>",
      "text/markdown": "#### RandomForestClassifier"
     },
     "metadata": {},
     "output_type": "display_data"
    },
    {
     "data": {
      "text/plain": "<IPython.core.display.Markdown object>",
      "text/markdown": "Parameters: max_depth=2, random_state=0"
     },
     "metadata": {},
     "output_type": "display_data"
    },
    {
     "name": "stdout",
     "output_type": "stream",
     "text": [
      "╒════════════╤════════════════════╤═════════════════════╤════════════════════════╤═════════════════════╕\n",
      "│ Set type   │   Accuracy average │   Precision average │   Recall average score │    F1 average score │\n",
      "╞════════════╪════════════════════╪═════════════════════╪════════════════════════╪═════════════════════╡\n",
      "│ Train      │           0.537574 │            0.37009  │               0.522242 │            0.431167 │\n",
      "├────────────┼────────────────────┼─────────────────────┼────────────────────────┼─────────────────────┤\n",
      "│ Test       │           0.530767 │            0.373668 │               0.515563 │            0.424916 │\n",
      "╘════════════╧════════════════════╧═════════════════════╧════════════════════════╧═════════════════════╛\n"
     ]
    },
    {
     "data": {
      "text/plain": "<IPython.core.display.Markdown object>",
      "text/markdown": "#### MultiLayerPerceptronClassifier"
     },
     "metadata": {},
     "output_type": "display_data"
    },
    {
     "data": {
      "text/plain": "<IPython.core.display.Markdown object>",
      "text/markdown": "Parameters: max_iter=3000, alpha=1e-5, hidden_layer_sizes=(40, 20), random_state=0"
     },
     "metadata": {},
     "output_type": "display_data"
    },
    {
     "name": "stdout",
     "output_type": "stream",
     "text": [
      "╒════════════╤════════════════════╤═════════════════════╤════════════════════════╤═════════════════════╕\n",
      "│ Set type   │   Accuracy average │   Precision average │   Recall average score │    F1 average score │\n",
      "╞════════════╪════════════════════╪═════════════════════╪════════════════════════╪═════════════════════╡\n",
      "│ Train      │           0.571596 │            0.564635 │               0.572177 │            0.560287 │\n",
      "├────────────┼────────────────────┼─────────────────────┼────────────────────────┼─────────────────────┤\n",
      "│ Test       │           0.548721 │            0.540074 │               0.549294 │            0.536119 │\n",
      "╘════════════╧════════════════════╧═════════════════════╧════════════════════════╧═════════════════════╛\n"
     ]
    },
    {
     "data": {
      "text/plain": "<IPython.core.display.Markdown object>",
      "text/markdown": "#### SVClassifier"
     },
     "metadata": {},
     "output_type": "display_data"
    },
    {
     "data": {
      "text/plain": "<IPython.core.display.Markdown object>",
      "text/markdown": "Parameters: C=1.0, kernel=linear, gamma=auto"
     },
     "metadata": {},
     "output_type": "display_data"
    },
    {
     "name": "stdout",
     "output_type": "stream",
     "text": [
      "╒════════════╤════════════════════╤═════════════════════╤════════════════════════╤═════════════════════╕\n",
      "│ Set type   │   Accuracy average │   Precision average │   Recall average score │    F1 average score │\n",
      "╞════════════╪════════════════════╪═════════════════════╪════════════════════════╪═════════════════════╡\n",
      "│ Train      │           0.546964 │            0.472866 │               0.532442 │            0.443017 │\n",
      "├────────────┼────────────────────┼─────────────────────┼────────────────────────┼─────────────────────┤\n",
      "│ Test       │           0.54202  │            0.439435 │               0.528001 │            0.440714 │\n",
      "╘════════════╧════════════════════╧═════════════════════╧════════════════════════╧═════════════════════╛\n"
     ]
    },
    {
     "data": {
      "text/plain": "<IPython.core.display.Markdown object>",
      "text/markdown": "___"
     },
     "metadata": {},
     "output_type": "display_data"
    },
    {
     "data": {
      "text/plain": "<IPython.core.display.Markdown object>",
      "text/markdown": "### Iris"
     },
     "metadata": {},
     "output_type": "display_data"
    },
    {
     "data": {
      "text/plain": "<IPython.core.display.Markdown object>",
      "text/markdown": "#### KNeighborsClassifier"
     },
     "metadata": {},
     "output_type": "display_data"
    },
    {
     "data": {
      "text/plain": "<IPython.core.display.Markdown object>",
      "text/markdown": " Parameters: n_neighbors=3, p=1"
     },
     "metadata": {},
     "output_type": "display_data"
    },
    {
     "name": "stdout",
     "output_type": "stream",
     "text": [
      "╒════════════╤════════════════════╤═════════════════════╤════════════════════════╤═════════════════════╕\n",
      "│ Set type   │   Accuracy average │   Precision average │   Recall average score │    F1 average score │\n",
      "╞════════════╪════════════════════╪═════════════════════╪════════════════════════╪═════════════════════╡\n",
      "│ Train      │           0.954074 │            0.954218 │               0.954074 │            0.954069 │\n",
      "├────────────┼────────────────────┼─────────────────────┼────────────────────────┼─────────────────────┤\n",
      "│ Test       │           0.953333 │            0.959921 │               0.953333 │            0.952441 │\n",
      "╘════════════╧════════════════════╧═════════════════════╧════════════════════════╧═════════════════════╛\n"
     ]
    },
    {
     "data": {
      "text/plain": "<IPython.core.display.Markdown object>",
      "text/markdown": "#### DecisionTreeClassifier"
     },
     "metadata": {},
     "output_type": "display_data"
    },
    {
     "data": {
      "text/plain": "<IPython.core.display.Markdown object>",
      "text/markdown": "Parameters: random_state=0"
     },
     "metadata": {},
     "output_type": "display_data"
    },
    {
     "name": "stdout",
     "output_type": "stream",
     "text": [
      "╒════════════╤════════════════════╤═════════════════════╤════════════════════════╤═════════════════════╕\n",
      "│ Set type   │   Accuracy average │   Precision average │   Recall average score │    F1 average score │\n",
      "╞════════════╪════════════════════╪═════════════════════╪════════════════════════╪═════════════════════╡\n",
      "│ Train      │               1    │            1        │                   1    │            1        │\n",
      "├────────────┼────────────────────┼─────────────────────┼────────────────────────┼─────────────────────┤\n",
      "│ Test       │               0.96 │            0.964444 │                   0.96 │            0.959731 │\n",
      "╘════════════╧════════════════════╧═════════════════════╧════════════════════════╧═════════════════════╛\n"
     ]
    },
    {
     "data": {
      "text/plain": "<IPython.core.display.Markdown object>",
      "text/markdown": "#### StochasticGradientDescentClassifier"
     },
     "metadata": {},
     "output_type": "display_data"
    },
    {
     "data": {
      "text/plain": "<IPython.core.display.Markdown object>",
      "text/markdown": "Parameters: loss=hinge, penalty=l2, max_iter=80"
     },
     "metadata": {},
     "output_type": "display_data"
    },
    {
     "name": "stdout",
     "output_type": "stream",
     "text": [
      "╒════════════╤════════════════════╤═════════════════════╤════════════════════════╤═════════════════════╕\n",
      "│ Set type   │   Accuracy average │   Precision average │   Recall average score │    F1 average score │\n",
      "╞════════════╪════════════════════╪═════════════════════╪════════════════════════╪═════════════════════╡\n",
      "│ Train      │           0.946667 │            0.948622 │               0.946667 │            0.946731 │\n",
      "├────────────┼────────────────────┼─────────────────────┼────────────────────────┼─────────────────────┤\n",
      "│ Test       │           0.933333 │            0.939444 │               0.933333 │            0.932795 │\n",
      "╘════════════╧════════════════════╧═════════════════════╧════════════════════════╧═════════════════════╛\n"
     ]
    },
    {
     "data": {
      "text/plain": "<IPython.core.display.Markdown object>",
      "text/markdown": "#### RandomForestClassifier"
     },
     "metadata": {},
     "output_type": "display_data"
    },
    {
     "data": {
      "text/plain": "<IPython.core.display.Markdown object>",
      "text/markdown": "Parameters: max_depth=2, random_state=0"
     },
     "metadata": {},
     "output_type": "display_data"
    },
    {
     "name": "stdout",
     "output_type": "stream",
     "text": [
      "╒════════════╤════════════════════╤═════════════════════╤════════════════════════╤═════════════════════╕\n",
      "│ Set type   │   Accuracy average │   Precision average │   Recall average score │    F1 average score │\n",
      "╞════════════╪════════════════════╪═════════════════════╪════════════════════════╪═════════════════════╡\n",
      "│ Train      │           0.960741 │            0.961073 │               0.960741 │            0.960729 │\n",
      "├────────────┼────────────────────┼─────────────────────┼────────────────────────┼─────────────────────┤\n",
      "│ Test       │           0.96     │            0.968254 │               0.96     │            0.959175 │\n",
      "╘════════════╧════════════════════╧═════════════════════╧════════════════════════╧═════════════════════╛\n"
     ]
    },
    {
     "data": {
      "text/plain": "<IPython.core.display.Markdown object>",
      "text/markdown": "#### MultiLayerPerceptronClassifier"
     },
     "metadata": {},
     "output_type": "display_data"
    },
    {
     "data": {
      "text/plain": "<IPython.core.display.Markdown object>",
      "text/markdown": "Parameters: max_iter=3000, alpha=1e-5, hidden_layer_sizes=(40, 20), random_state=0"
     },
     "metadata": {},
     "output_type": "display_data"
    },
    {
     "name": "stdout",
     "output_type": "stream",
     "text": [
      "╒════════════╤════════════════════╤═════════════════════╤════════════════════════╤═════════════════════╕\n",
      "│ Set type   │   Accuracy average │   Precision average │   Recall average score │    F1 average score │\n",
      "╞════════════╪════════════════════╪═════════════════════╪════════════════════════╪═════════════════════╡\n",
      "│ Train      │           0.982222 │            0.982315 │               0.982222 │            0.982221 │\n",
      "├────────────┼────────────────────┼─────────────────────┼────────────────────────┼─────────────────────┤\n",
      "│ Test       │           0.98     │            0.981111 │               0.98     │            0.979933 │\n",
      "╘════════════╧════════════════════╧═════════════════════╧════════════════════════╧═════════════════════╛\n"
     ]
    },
    {
     "data": {
      "text/plain": "<IPython.core.display.Markdown object>",
      "text/markdown": "#### SVClassifier"
     },
     "metadata": {},
     "output_type": "display_data"
    },
    {
     "data": {
      "text/plain": "<IPython.core.display.Markdown object>",
      "text/markdown": "Parameters: C=1.0, kernel=linear, gamma=auto"
     },
     "metadata": {},
     "output_type": "display_data"
    },
    {
     "name": "stdout",
     "output_type": "stream",
     "text": [
      "╒════════════╤════════════════════╤═════════════════════╤════════════════════════╤═════════════════════╕\n",
      "│ Set type   │   Accuracy average │   Precision average │   Recall average score │    F1 average score │\n",
      "╞════════════╪════════════════════╪═════════════════════╪════════════════════════╪═════════════════════╡\n",
      "│ Train      │           0.964444 │            0.965747 │               0.964444 │            0.964406 │\n",
      "├────────────┼────────────────────┼─────────────────────┼────────────────────────┼─────────────────────┤\n",
      "│ Test       │           0.966667 │            0.97381  │               0.966667 │            0.965909 │\n",
      "╘════════════╧════════════════════╧═════════════════════╧════════════════════════╧═════════════════════╛\n"
     ]
    },
    {
     "data": {
      "text/plain": "<IPython.core.display.Markdown object>",
      "text/markdown": "___"
     },
     "metadata": {},
     "output_type": "display_data"
    },
    {
     "data": {
      "text/plain": "<IPython.core.display.Markdown object>",
      "text/markdown": "### Soybean"
     },
     "metadata": {},
     "output_type": "display_data"
    },
    {
     "data": {
      "text/plain": "<IPython.core.display.Markdown object>",
      "text/markdown": "#### KNeighborsClassifier"
     },
     "metadata": {},
     "output_type": "display_data"
    },
    {
     "data": {
      "text/plain": "<IPython.core.display.Markdown object>",
      "text/markdown": " Parameters: n_neighbors=3, p=1"
     },
     "metadata": {},
     "output_type": "display_data"
    },
    {
     "name": "stdout",
     "output_type": "stream",
     "text": [
      "╒════════════╤════════════════════╤═════════════════════╤════════════════════════╤═════════════════════╕\n",
      "│ Set type   │   Accuracy average │   Precision average │   Recall average score │    F1 average score │\n",
      "╞════════════╪════════════════════╪═════════════════════╪════════════════════════╪═════════════════════╡\n",
      "│ Train      │                  1 │                   1 │                      1 │                   1 │\n",
      "├────────────┼────────────────────┼─────────────────────┼────────────────────────┼─────────────────────┤\n",
      "│ Test       │                  1 │                   1 │                      1 │                   1 │\n",
      "╘════════════╧════════════════════╧═════════════════════╧════════════════════════╧═════════════════════╛\n"
     ]
    },
    {
     "data": {
      "text/plain": "<IPython.core.display.Markdown object>",
      "text/markdown": "#### DecisionTreeClassifier"
     },
     "metadata": {},
     "output_type": "display_data"
    },
    {
     "data": {
      "text/plain": "<IPython.core.display.Markdown object>",
      "text/markdown": "Parameters: random_state=0"
     },
     "metadata": {},
     "output_type": "display_data"
    },
    {
     "name": "stdout",
     "output_type": "stream",
     "text": [
      "╒════════════╤════════════════════╤═════════════════════╤════════════════════════╤═════════════════════╕\n",
      "│ Set type   │   Accuracy average │   Precision average │   Recall average score │    F1 average score │\n",
      "╞════════════╪════════════════════╪═════════════════════╪════════════════════════╪═════════════════════╡\n",
      "│ Train      │                  1 │                   1 │                      1 │                   1 │\n",
      "├────────────┼────────────────────┼─────────────────────┼────────────────────────┼─────────────────────┤\n",
      "│ Test       │                  1 │                   1 │                      1 │                   1 │\n",
      "╘════════════╧════════════════════╧═════════════════════╧════════════════════════╧═════════════════════╛\n"
     ]
    },
    {
     "data": {
      "text/plain": "<IPython.core.display.Markdown object>",
      "text/markdown": "#### StochasticGradientDescentClassifier"
     },
     "metadata": {},
     "output_type": "display_data"
    },
    {
     "data": {
      "text/plain": "<IPython.core.display.Markdown object>",
      "text/markdown": "Parameters: loss=hinge, penalty=l2, max_iter=80"
     },
     "metadata": {},
     "output_type": "display_data"
    },
    {
     "name": "stdout",
     "output_type": "stream",
     "text": [
      "╒════════════╤════════════════════╤═════════════════════╤════════════════════════╤═════════════════════╕\n",
      "│ Set type   │   Accuracy average │   Precision average │   Recall average score │    F1 average score │\n",
      "╞════════════╪════════════════════╪═════════════════════╪════════════════════════╪═════════════════════╡\n",
      "│ Train      │                  1 │                   1 │                      1 │                   1 │\n",
      "├────────────┼────────────────────┼─────────────────────┼────────────────────────┼─────────────────────┤\n",
      "│ Test       │                  1 │                   1 │                      1 │                   1 │\n",
      "╘════════════╧════════════════════╧═════════════════════╧════════════════════════╧═════════════════════╛\n"
     ]
    },
    {
     "data": {
      "text/plain": "<IPython.core.display.Markdown object>",
      "text/markdown": "#### RandomForestClassifier"
     },
     "metadata": {},
     "output_type": "display_data"
    },
    {
     "data": {
      "text/plain": "<IPython.core.display.Markdown object>",
      "text/markdown": "Parameters: max_depth=2, random_state=0"
     },
     "metadata": {},
     "output_type": "display_data"
    },
    {
     "name": "stdout",
     "output_type": "stream",
     "text": [
      "╒════════════╤════════════════════╤═════════════════════╤════════════════════════╤═════════════════════╕\n",
      "│ Set type   │   Accuracy average │   Precision average │   Recall average score │    F1 average score │\n",
      "╞════════════╪════════════════════╪═════════════════════╪════════════════════════╪═════════════════════╡\n",
      "│ Train      │           0.992857 │             0.99375 │               0.988889 │            0.990892 │\n",
      "├────────────┼────────────────────┼─────────────────────┼────────────────────────┼─────────────────────┤\n",
      "│ Test       │           0.975    │             0.95    │               0.966667 │            0.955556 │\n",
      "╘════════════╧════════════════════╧═════════════════════╧════════════════════════╧═════════════════════╛\n"
     ]
    },
    {
     "data": {
      "text/plain": "<IPython.core.display.Markdown object>",
      "text/markdown": "#### MultiLayerPerceptronClassifier"
     },
     "metadata": {},
     "output_type": "display_data"
    },
    {
     "data": {
      "text/plain": "<IPython.core.display.Markdown object>",
      "text/markdown": "Parameters: max_iter=3000, alpha=1e-5, hidden_layer_sizes=(40, 20), random_state=0"
     },
     "metadata": {},
     "output_type": "display_data"
    },
    {
     "name": "stdout",
     "output_type": "stream",
     "text": [
      "╒════════════╤════════════════════╤═════════════════════╤════════════════════════╤═════════════════════╕\n",
      "│ Set type   │   Accuracy average │   Precision average │   Recall average score │    F1 average score │\n",
      "╞════════════╪════════════════════╪═════════════════════╪════════════════════════╪═════════════════════╡\n",
      "│ Train      │                  1 │                   1 │                      1 │                   1 │\n",
      "├────────────┼────────────────────┼─────────────────────┼────────────────────────┼─────────────────────┤\n",
      "│ Test       │                  1 │                   1 │                      1 │                   1 │\n",
      "╘════════════╧════════════════════╧═════════════════════╧════════════════════════╧═════════════════════╛\n"
     ]
    },
    {
     "data": {
      "text/plain": "<IPython.core.display.Markdown object>",
      "text/markdown": "#### SVClassifier"
     },
     "metadata": {},
     "output_type": "display_data"
    },
    {
     "data": {
      "text/plain": "<IPython.core.display.Markdown object>",
      "text/markdown": "Parameters: C=1.0, kernel=linear, gamma=auto"
     },
     "metadata": {},
     "output_type": "display_data"
    },
    {
     "name": "stdout",
     "output_type": "stream",
     "text": [
      "╒════════════╤════════════════════╤═════════════════════╤════════════════════════╤═════════════════════╕\n",
      "│ Set type   │   Accuracy average │   Precision average │   Recall average score │    F1 average score │\n",
      "╞════════════╪════════════════════╪═════════════════════╪════════════════════════╪═════════════════════╡\n",
      "│ Train      │                  1 │                   1 │                      1 │                   1 │\n",
      "├────────────┼────────────────────┼─────────────────────┼────────────────────────┼─────────────────────┤\n",
      "│ Test       │                  1 │                   1 │                      1 │                   1 │\n",
      "╘════════════╧════════════════════╧═════════════════════╧════════════════════════╧═════════════════════╛\n"
     ]
    },
    {
     "data": {
      "text/plain": "<IPython.core.display.Markdown object>",
      "text/markdown": "___"
     },
     "metadata": {},
     "output_type": "display_data"
    },
    {
     "data": {
      "text/plain": "<IPython.core.display.Markdown object>",
      "text/markdown": "### Zoo"
     },
     "metadata": {},
     "output_type": "display_data"
    },
    {
     "data": {
      "text/plain": "<IPython.core.display.Markdown object>",
      "text/markdown": "#### KNeighborsClassifier"
     },
     "metadata": {},
     "output_type": "display_data"
    },
    {
     "data": {
      "text/plain": "<IPython.core.display.Markdown object>",
      "text/markdown": " Parameters: n_neighbors=3, p=1"
     },
     "metadata": {},
     "output_type": "display_data"
    },
    {
     "name": "stdout",
     "output_type": "stream",
     "text": [
      "╒════════════╤════════════════════╤═════════════════════╤════════════════════════╤═════════════════════╕\n",
      "│ Set type   │   Accuracy average │   Precision average │   Recall average score │    F1 average score │\n",
      "╞════════════╪════════════════════╪═════════════════════╪════════════════════════╪═════════════════════╡\n",
      "│ Train      │           0.980195 │            0.979981 │               0.979981 │            0.979956 │\n",
      "├────────────┼────────────────────┼─────────────────────┼────────────────────────┼─────────────────────┤\n",
      "│ Test       │           0.98     │            0.981667 │               0.981667 │            0.979798 │\n",
      "╘════════════╧════════════════════╧═════════════════════╧════════════════════════╧═════════════════════╛\n"
     ]
    },
    {
     "data": {
      "text/plain": "<IPython.core.display.Markdown object>",
      "text/markdown": "#### DecisionTreeClassifier"
     },
     "metadata": {},
     "output_type": "display_data"
    },
    {
     "data": {
      "text/plain": "<IPython.core.display.Markdown object>",
      "text/markdown": "Parameters: random_state=0"
     },
     "metadata": {},
     "output_type": "display_data"
    },
    {
     "name": "stdout",
     "output_type": "stream",
     "text": [
      "╒════════════╤════════════════════╤═════════════════════╤════════════════════════╤═════════════════════╕\n",
      "│ Set type   │   Accuracy average │   Precision average │   Recall average score │    F1 average score │\n",
      "╞════════════╪════════════════════╪═════════════════════╪════════════════════════╪═════════════════════╡\n",
      "│ Train      │                  1 │                   1 │                      1 │                   1 │\n",
      "├────────────┼────────────────────┼─────────────────────┼────────────────────────┼─────────────────────┤\n",
      "│ Test       │                  1 │                   1 │                      1 │                   1 │\n",
      "╘════════════╧════════════════════╧═════════════════════╧════════════════════════╧═════════════════════╛\n"
     ]
    },
    {
     "data": {
      "text/plain": "<IPython.core.display.Markdown object>",
      "text/markdown": "#### StochasticGradientDescentClassifier"
     },
     "metadata": {},
     "output_type": "display_data"
    },
    {
     "data": {
      "text/plain": "<IPython.core.display.Markdown object>",
      "text/markdown": "Parameters: loss=hinge, penalty=l2, max_iter=80"
     },
     "metadata": {},
     "output_type": "display_data"
    },
    {
     "name": "stdout",
     "output_type": "stream",
     "text": [
      "╒════════════╤════════════════════╤═════════════════════╤════════════════════════╤═════════════════════╕\n",
      "│ Set type   │   Accuracy average │   Precision average │   Recall average score │    F1 average score │\n",
      "╞════════════╪════════════════════╪═════════════════════╪════════════════════════╪═════════════════════╡\n",
      "│ Train      │                  1 │                   1 │                      1 │                   1 │\n",
      "├────────────┼────────────────────┼─────────────────────┼────────────────────────┼─────────────────────┤\n",
      "│ Test       │                  1 │                   1 │                      1 │                   1 │\n",
      "╘════════════╧════════════════════╧═════════════════════╧════════════════════════╧═════════════════════╛\n"
     ]
    },
    {
     "data": {
      "text/plain": "<IPython.core.display.Markdown object>",
      "text/markdown": "#### RandomForestClassifier"
     },
     "metadata": {},
     "output_type": "display_data"
    },
    {
     "data": {
      "text/plain": "<IPython.core.display.Markdown object>",
      "text/markdown": "Parameters: max_depth=2, random_state=0"
     },
     "metadata": {},
     "output_type": "display_data"
    },
    {
     "name": "stdout",
     "output_type": "stream",
     "text": [
      "╒════════════╤════════════════════╤═════════════════════╤════════════════════════╤═════════════════════╕\n",
      "│ Set type   │   Accuracy average │   Precision average │   Recall average score │    F1 average score │\n",
      "╞════════════╪════════════════════╪═════════════════════╪════════════════════════╪═════════════════════╡\n",
      "│ Train      │           0.965885 │            0.971249 │               0.961616 │            0.965098 │\n",
      "├────────────┼────────────────────┼─────────────────────┼────────────────────────┼─────────────────────┤\n",
      "│ Test       │           0.950909 │            0.963095 │               0.9475   │            0.948675 │\n",
      "╘════════════╧════════════════════╧═════════════════════╧════════════════════════╧═════════════════════╛\n"
     ]
    },
    {
     "data": {
      "text/plain": "<IPython.core.display.Markdown object>",
      "text/markdown": "#### MultiLayerPerceptronClassifier"
     },
     "metadata": {},
     "output_type": "display_data"
    },
    {
     "data": {
      "text/plain": "<IPython.core.display.Markdown object>",
      "text/markdown": "Parameters: max_iter=3000, alpha=1e-5, hidden_layer_sizes=(40, 20), random_state=0"
     },
     "metadata": {},
     "output_type": "display_data"
    },
    {
     "name": "stdout",
     "output_type": "stream",
     "text": [
      "╒════════════╤════════════════════╤═════════════════════╤════════════════════════╤═════════════════════╕\n",
      "│ Set type   │   Accuracy average │   Precision average │   Recall average score │    F1 average score │\n",
      "╞════════════╪════════════════════╪═════════════════════╪════════════════════════╪═════════════════════╡\n",
      "│ Train      │                  1 │                   1 │                      1 │                   1 │\n",
      "├────────────┼────────────────────┼─────────────────────┼────────────────────────┼─────────────────────┤\n",
      "│ Test       │                  1 │                   1 │                      1 │                   1 │\n",
      "╘════════════╧════════════════════╧═════════════════════╧════════════════════════╧═════════════════════╛\n"
     ]
    },
    {
     "data": {
      "text/plain": "<IPython.core.display.Markdown object>",
      "text/markdown": "#### SVClassifier"
     },
     "metadata": {},
     "output_type": "display_data"
    },
    {
     "data": {
      "text/plain": "<IPython.core.display.Markdown object>",
      "text/markdown": "Parameters: C=1.0, kernel=linear, gamma=auto"
     },
     "metadata": {},
     "output_type": "display_data"
    },
    {
     "name": "stdout",
     "output_type": "stream",
     "text": [
      "╒════════════╤════════════════════╤═════════════════════╤════════════════════════╤═════════════════════╕\n",
      "│ Set type   │   Accuracy average │   Precision average │   Recall average score │    F1 average score │\n",
      "╞════════════╪════════════════════╪═════════════════════╪════════════════════════╪═════════════════════╡\n",
      "│ Train      │                  1 │                   1 │                      1 │                   1 │\n",
      "├────────────┼────────────────────┼─────────────────────┼────────────────────────┼─────────────────────┤\n",
      "│ Test       │                  1 │                   1 │                      1 │                   1 │\n",
      "╘════════════╧════════════════════╧═════════════════════╧════════════════════════╧═════════════════════╛\n"
     ]
    },
    {
     "data": {
      "text/plain": "<IPython.core.display.Markdown object>",
      "text/markdown": "___"
     },
     "metadata": {},
     "output_type": "display_data"
    },
    {
     "data": {
      "text/plain": "<IPython.core.display.Markdown object>",
      "text/markdown": "### Post-operative"
     },
     "metadata": {},
     "output_type": "display_data"
    },
    {
     "data": {
      "text/plain": "<IPython.core.display.Markdown object>",
      "text/markdown": "#### KNeighborsClassifier"
     },
     "metadata": {},
     "output_type": "display_data"
    },
    {
     "data": {
      "text/plain": "<IPython.core.display.Markdown object>",
      "text/markdown": " Parameters: n_neighbors=3, p=1"
     },
     "metadata": {},
     "output_type": "display_data"
    },
    {
     "name": "stdout",
     "output_type": "stream",
     "text": [
      "╒════════════╤════════════════════╤═════════════════════╤════════════════════════╤═════════════════════╕\n",
      "│ Set type   │   Accuracy average │   Precision average │   Recall average score │    F1 average score │\n",
      "╞════════════╪════════════════════╪═════════════════════╪════════════════════════╪═════════════════════╡\n",
      "│ Train      │           0.880247 │            0.92646  │               0.776223 │            0.815849 │\n",
      "├────────────┼────────────────────┼─────────────────────┼────────────────────────┼─────────────────────┤\n",
      "│ Test       │           0.755556 │            0.609325 │               0.577381 │            0.561676 │\n",
      "╘════════════╧════════════════════╧═════════════════════╧════════════════════════╧═════════════════════╛\n"
     ]
    },
    {
     "data": {
      "text/plain": "<IPython.core.display.Markdown object>",
      "text/markdown": "#### DecisionTreeClassifier"
     },
     "metadata": {},
     "output_type": "display_data"
    },
    {
     "data": {
      "text/plain": "<IPython.core.display.Markdown object>",
      "text/markdown": "Parameters: random_state=0"
     },
     "metadata": {},
     "output_type": "display_data"
    },
    {
     "name": "stdout",
     "output_type": "stream",
     "text": [
      "╒════════════╤════════════════════╤═════════════════════╤════════════════════════╤═════════════════════╕\n",
      "│ Set type   │   Accuracy average │   Precision average │   Recall average score │    F1 average score │\n",
      "╞════════════╪════════════════════╪═════════════════════╪════════════════════════╪═════════════════════╡\n",
      "│ Train      │           1        │            1        │               1        │             1       │\n",
      "├────────────┼────────────────────┼─────────────────────┼────────────────────────┼─────────────────────┤\n",
      "│ Test       │           0.933333 │            0.916071 │               0.910714 │             0.91018 │\n",
      "╘════════════╧════════════════════╧═════════════════════╧════════════════════════╧═════════════════════╛\n"
     ]
    },
    {
     "data": {
      "text/plain": "<IPython.core.display.Markdown object>",
      "text/markdown": "#### StochasticGradientDescentClassifier"
     },
     "metadata": {},
     "output_type": "display_data"
    },
    {
     "data": {
      "text/plain": "<IPython.core.display.Markdown object>",
      "text/markdown": "Parameters: loss=hinge, penalty=l2, max_iter=80"
     },
     "metadata": {},
     "output_type": "display_data"
    },
    {
     "name": "stdout",
     "output_type": "stream",
     "text": [
      "╒════════════╤════════════════════╤═════════════════════╤════════════════════════╤═════════════════════╕\n",
      "│ Set type   │   Accuracy average │   Precision average │   Recall average score │    F1 average score │\n",
      "╞════════════╪════════════════════╪═════════════════════╪════════════════════════╪═════════════════════╡\n",
      "│ Train      │           0.992593 │            0.991097 │               0.990315 │            0.990319 │\n",
      "├────────────┼────────────────────┼─────────────────────┼────────────────────────┼─────────────────────┤\n",
      "│ Test       │           0.922222 │            0.879663 │               0.885714 │            0.870523 │\n",
      "╘════════════╧════════════════════╧═════════════════════╧════════════════════════╧═════════════════════╛\n"
     ]
    },
    {
     "data": {
      "text/plain": "<IPython.core.display.Markdown object>",
      "text/markdown": "#### RandomForestClassifier"
     },
     "metadata": {},
     "output_type": "display_data"
    },
    {
     "data": {
      "text/plain": "<IPython.core.display.Markdown object>",
      "text/markdown": "Parameters: max_depth=2, random_state=0"
     },
     "metadata": {},
     "output_type": "display_data"
    },
    {
     "name": "stdout",
     "output_type": "stream",
     "text": [
      "╒════════════╤════════════════════╤═════════════════════╤════════════════════════╤═════════════════════╕\n",
      "│ Set type   │   Accuracy average │   Precision average │   Recall average score │    F1 average score │\n",
      "╞════════════╪════════════════════╪═════════════════════╪════════════════════════╪═════════════════════╡\n",
      "│ Train      │           0.892593 │            0.933728 │               0.799708 │            0.836712 │\n",
      "├────────────┼────────────────────┼─────────────────────┼────────────────────────┼─────────────────────┤\n",
      "│ Test       │           0.766667 │            0.55744  │               0.594048 │            0.555276 │\n",
      "╘════════════╧════════════════════╧═════════════════════╧════════════════════════╧═════════════════════╛\n"
     ]
    },
    {
     "data": {
      "text/plain": "<IPython.core.display.Markdown object>",
      "text/markdown": "#### MultiLayerPerceptronClassifier"
     },
     "metadata": {},
     "output_type": "display_data"
    },
    {
     "data": {
      "text/plain": "<IPython.core.display.Markdown object>",
      "text/markdown": "Parameters: max_iter=3000, alpha=1e-5, hidden_layer_sizes=(40, 20), random_state=0"
     },
     "metadata": {},
     "output_type": "display_data"
    },
    {
     "name": "stdout",
     "output_type": "stream",
     "text": [
      "╒════════════╤════════════════════╤═════════════════════╤════════════════════════╤═════════════════════╕\n",
      "│ Set type   │   Accuracy average │   Precision average │   Recall average score │    F1 average score │\n",
      "╞════════════╪════════════════════╪═════════════════════╪════════════════════════╪═════════════════════╡\n",
      "│ Train      │           1        │            1        │               1        │            1        │\n",
      "├────────────┼────────────────────┼─────────────────────┼────────────────────────┼─────────────────────┤\n",
      "│ Test       │           0.911111 │            0.865079 │               0.852381 │            0.846073 │\n",
      "╘════════════╧════════════════════╧═════════════════════╧════════════════════════╧═════════════════════╛\n"
     ]
    },
    {
     "data": {
      "text/plain": "<IPython.core.display.Markdown object>",
      "text/markdown": "#### SVClassifier"
     },
     "metadata": {},
     "output_type": "display_data"
    },
    {
     "data": {
      "text/plain": "<IPython.core.display.Markdown object>",
      "text/markdown": "Parameters: C=1.0, kernel=linear, gamma=auto"
     },
     "metadata": {},
     "output_type": "display_data"
    },
    {
     "name": "stdout",
     "output_type": "stream",
     "text": [
      "╒════════════╤════════════════════╤═════════════════════╤════════════════════════╤═════════════════════╕\n",
      "│ Set type   │   Accuracy average │   Precision average │   Recall average score │    F1 average score │\n",
      "╞════════════╪════════════════════╪═════════════════════╪════════════════════════╪═════════════════════╡\n",
      "│ Train      │           0.988889 │            0.980138 │               0.992415 │            0.98602  │\n",
      "├────────────┼────────────────────┼─────────────────────┼────────────────────────┼─────────────────────┤\n",
      "│ Test       │           0.966667 │            0.954167 │               0.977381 │            0.960619 │\n",
      "╘════════════╧════════════════════╧═════════════════════╧════════════════════════╧═════════════════════╛\n"
     ]
    },
    {
     "data": {
      "text/plain": "<IPython.core.display.Markdown object>",
      "text/markdown": "___"
     },
     "metadata": {},
     "output_type": "display_data"
    }
   ],
   "source": [
    "for dataset in datasets.keys():\n",
    "    display(Markdown(f'### {dataset}'))\n",
    "\n",
    "    apply_KNeighborsClassifier(*datasets[dataset])\n",
    "    apply_DecisionTreeClassifier(*datasets[dataset])\n",
    "    apply_StochasticGradientDescentClassifier(*datasets[dataset])\n",
    "    apply_RandomForestClassifier(*datasets[dataset])\n",
    "    apply_MultiLayerPerceptronClassifier(*datasets[dataset])\n",
    "    apply_SVClassifier(*datasets[dataset])\n",
    "\n",
    "    display(Markdown(f'___'))"
   ],
   "metadata": {
    "collapsed": false,
    "pycharm": {
     "name": "#%%\n"
    }
   }
  },
  {
   "cell_type": "markdown",
   "source": [
    "# Performanta modelelor"
   ],
   "metadata": {
    "collapsed": false,
    "pycharm": {
     "name": "#%% md\n"
    }
   }
  },
  {
   "cell_type": "code",
   "execution_count": 91,
   "outputs": [],
   "source": [
    "from sklearn.model_selection import GridSearchCV\n",
    "from sklearn.model_selection import cross_val_score\n",
    "from sklearn.pipeline import Pipeline"
   ],
   "metadata": {
    "collapsed": false,
    "pycharm": {
     "name": "#%%\n"
    }
   }
  },
  {
   "cell_type": "code",
   "execution_count": 92,
   "outputs": [],
   "source": [
    "def display_performance(pipe: sklearn.pipeline.Pipeline, parameter_grid: Dict[str, List[Any]], X: np.ndarray, y: np.ndarray) -> None:\n",
    "    \"\"\"\n",
    "    Displays the mean accuracy result from applying cross_val_score (cv=10) on the\n",
    "    resulted classification model using GridSearch.\n",
    "    \n",
    "    :param pipe: the pipeline to be used in GridSearchCV\n",
    "    :param parameter_grid: dictionary with values for the parameters used by pipeline\n",
    "    :param X: data set without the labels\n",
    "    :param y: labels\n",
    "\n",
    "    :return: None\n",
    "    \"\"\"\n",
    "    results: np.ndarray = cross_val_score(GridSearchCV(pipe, param_grid=parameter_grid, scoring='accuracy', cv=4, n_jobs=-1), X, y,\n",
    "                              scoring=('accuracy'), cv=10)\n",
    "\n",
    "    print(f'Accuracy: {results.mean()}')"
   ],
   "metadata": {
    "collapsed": false,
    "pycharm": {
     "name": "#%%\n"
    }
   }
  },
  {
   "cell_type": "markdown",
   "source": [
    "<a id='knn_performance'></a>\n",
    "## KNeighborsClassifier"
   ],
   "metadata": {
    "collapsed": false,
    "pycharm": {
     "name": "#%% md\n"
    }
   }
  },
  {
   "cell_type": "code",
   "execution_count": 93,
   "outputs": [],
   "source": [
    "def performance_KNeighborsClassifier(X: np.ndarray, y: np.ndarray) -> None:\n",
    "    \"\"\"\n",
    "    Applies cross_val_score on the KNeighborsClassifier model with 10 fold-cross validation\n",
    "    using the best hyperparameters found with GridSearch with 4 fold-cross validation.\n",
    "\n",
    "    :param X: data set without the labels\n",
    "    :param y: labels\n",
    "\n",
    "    :returns: None\n",
    "    \"\"\"\n",
    "    pipe: sklearn.pipeline.Pipeline = Pipeline([('scaler', MinMaxScaler()), ('knn', KNeighborsClassifier())])\n",
    "    parameter_grid: Dict[str, List[Any]] = {'knn__n_neighbors': list(range(1, 10)), 'knn__p': list(range(1, 5))}\n",
    "\n",
    "    display_performance(pipe, parameter_grid, X, y)"
   ],
   "metadata": {
    "collapsed": false,
    "pycharm": {
     "name": "#%%\n"
    }
   }
  },
  {
   "cell_type": "code",
   "execution_count": 94,
   "outputs": [
    {
     "data": {
      "text/plain": "<IPython.core.display.Markdown object>",
      "text/markdown": "### Abalone"
     },
     "metadata": {},
     "output_type": "display_data"
    },
    {
     "name": "stdout",
     "output_type": "stream",
     "text": [
      "Accuracy: 0.5343528048374697\n"
     ]
    },
    {
     "data": {
      "text/plain": "<IPython.core.display.Markdown object>",
      "text/markdown": "___"
     },
     "metadata": {},
     "output_type": "display_data"
    },
    {
     "data": {
      "text/plain": "<IPython.core.display.Markdown object>",
      "text/markdown": "### Iris"
     },
     "metadata": {},
     "output_type": "display_data"
    },
    {
     "name": "stdout",
     "output_type": "stream",
     "text": [
      "Accuracy: 0.96\n"
     ]
    },
    {
     "data": {
      "text/plain": "<IPython.core.display.Markdown object>",
      "text/markdown": "___"
     },
     "metadata": {},
     "output_type": "display_data"
    },
    {
     "data": {
      "text/plain": "<IPython.core.display.Markdown object>",
      "text/markdown": "### Soybean"
     },
     "metadata": {},
     "output_type": "display_data"
    },
    {
     "name": "stdout",
     "output_type": "stream",
     "text": [
      "Accuracy: 1.0\n"
     ]
    },
    {
     "data": {
      "text/plain": "<IPython.core.display.Markdown object>",
      "text/markdown": "___"
     },
     "metadata": {},
     "output_type": "display_data"
    },
    {
     "data": {
      "text/plain": "<IPython.core.display.Markdown object>",
      "text/markdown": "### Zoo"
     },
     "metadata": {},
     "output_type": "display_data"
    },
    {
     "name": "stdout",
     "output_type": "stream",
     "text": [
      "Accuracy: 0.9609090909090909\n"
     ]
    },
    {
     "data": {
      "text/plain": "<IPython.core.display.Markdown object>",
      "text/markdown": "___"
     },
     "metadata": {},
     "output_type": "display_data"
    },
    {
     "data": {
      "text/plain": "<IPython.core.display.Markdown object>",
      "text/markdown": "### Post-operative"
     },
     "metadata": {},
     "output_type": "display_data"
    },
    {
     "name": "stdout",
     "output_type": "stream",
     "text": [
      "Accuracy: 0.7555555555555554\n"
     ]
    },
    {
     "data": {
      "text/plain": "<IPython.core.display.Markdown object>",
      "text/markdown": "___"
     },
     "metadata": {},
     "output_type": "display_data"
    }
   ],
   "source": [
    "for dataset in datasets.keys():\n",
    "    display(Markdown(f'### {dataset}'))\n",
    "\n",
    "    performance_KNeighborsClassifier(*datasets[dataset])\n",
    "\n",
    "    display(Markdown(f'___'))"
   ],
   "metadata": {
    "collapsed": false,
    "pycharm": {
     "name": "#%%\n"
    }
   }
  },
  {
   "cell_type": "markdown",
   "source": [
    "<a id='dt_performance'></a>\n",
    "## DecisionTreeClassifier"
   ],
   "metadata": {
    "collapsed": false,
    "pycharm": {
     "name": "#%% md\n"
    }
   }
  },
  {
   "cell_type": "code",
   "execution_count": 95,
   "outputs": [],
   "source": [
    "def performance_DecisionTreeClassifier(X: np.ndarray, y: np.ndarray) -> None:\n",
    "    \"\"\"\n",
    "    Applies cross_val_score on the DecisionTreeClassifier model with 10 fold-cross validation\n",
    "    using the best hyperparameters found with GridSearch with 4 fold-cross validation.\n",
    "\n",
    "    :param X: data set without the labels\n",
    "    :param y: labels\n",
    "\n",
    "    :returns: None\n",
    "    \"\"\"\n",
    "    pipe: sklearn.pipeline.Pipeline = Pipeline([('scaler', MinMaxScaler()), ('dt', DecisionTreeClassifier())])\n",
    "\n",
    "    parameter_grid: Dict[str, List[Any]] = {'dt__criterion': ['entropy', 'gini'], 'dt__max_depth': list(range(3, 9)),\n",
    "                                            'dt__min_samples_leaf': list(range(10, 20))}\n",
    "\n",
    "    display_performance(pipe, parameter_grid, X, y)"
   ],
   "metadata": {
    "collapsed": false,
    "pycharm": {
     "name": "#%%\n"
    }
   }
  },
  {
   "cell_type": "code",
   "execution_count": 96,
   "outputs": [
    {
     "data": {
      "text/plain": "<IPython.core.display.Markdown object>",
      "text/markdown": "### Abalone"
     },
     "metadata": {},
     "output_type": "display_data"
    },
    {
     "name": "stdout",
     "output_type": "stream",
     "text": [
      "Accuracy: 0.550405608527532\n"
     ]
    },
    {
     "data": {
      "text/plain": "<IPython.core.display.Markdown object>",
      "text/markdown": "___"
     },
     "metadata": {},
     "output_type": "display_data"
    },
    {
     "data": {
      "text/plain": "<IPython.core.display.Markdown object>",
      "text/markdown": "### Iris"
     },
     "metadata": {},
     "output_type": "display_data"
    },
    {
     "name": "stdout",
     "output_type": "stream",
     "text": [
      "Accuracy: 0.9466666666666667\n"
     ]
    },
    {
     "data": {
      "text/plain": "<IPython.core.display.Markdown object>",
      "text/markdown": "___"
     },
     "metadata": {},
     "output_type": "display_data"
    },
    {
     "data": {
      "text/plain": "<IPython.core.display.Markdown object>",
      "text/markdown": "### Soybean"
     },
     "metadata": {},
     "output_type": "display_data"
    },
    {
     "name": "stdout",
     "output_type": "stream",
     "text": [
      "Accuracy: 0.7550000000000001\n"
     ]
    },
    {
     "data": {
      "text/plain": "<IPython.core.display.Markdown object>",
      "text/markdown": "___"
     },
     "metadata": {},
     "output_type": "display_data"
    },
    {
     "data": {
      "text/plain": "<IPython.core.display.Markdown object>",
      "text/markdown": "### Zoo"
     },
     "metadata": {},
     "output_type": "display_data"
    },
    {
     "name": "stdout",
     "output_type": "stream",
     "text": [
      "Accuracy: 1.0\n"
     ]
    },
    {
     "data": {
      "text/plain": "<IPython.core.display.Markdown object>",
      "text/markdown": "___"
     },
     "metadata": {},
     "output_type": "display_data"
    },
    {
     "data": {
      "text/plain": "<IPython.core.display.Markdown object>",
      "text/markdown": "### Post-operative"
     },
     "metadata": {},
     "output_type": "display_data"
    },
    {
     "name": "stdout",
     "output_type": "stream",
     "text": [
      "Accuracy: 0.9666666666666668\n"
     ]
    },
    {
     "data": {
      "text/plain": "<IPython.core.display.Markdown object>",
      "text/markdown": "___"
     },
     "metadata": {},
     "output_type": "display_data"
    }
   ],
   "source": [
    "for dataset in datasets.keys():\n",
    "    display(Markdown(f'### {dataset}'))\n",
    "\n",
    "    performance_DecisionTreeClassifier(*datasets[dataset])\n",
    "\n",
    "    display(Markdown(f'___'))"
   ],
   "metadata": {
    "collapsed": false,
    "pycharm": {
     "name": "#%%\n"
    }
   }
  },
  {
   "cell_type": "markdown",
   "source": [
    "<a id='sgd_performance'></a>\n",
    "## StochasticGradientDescentClassifier"
   ],
   "metadata": {
    "collapsed": false,
    "pycharm": {
     "name": "#%% md\n"
    }
   }
  },
  {
   "cell_type": "code",
   "execution_count": 97,
   "outputs": [],
   "source": [
    "def performance_SGDClassifier(X: np.ndarray, y: np.ndarray) -> None:\n",
    "    \"\"\"\n",
    "    Applies cross_val_score on the SGDClassifier model with 10 fold-cross validation\n",
    "    using the best hyperparameters found with GridSearch with 4 fold-cross validation.\n",
    "\n",
    "    :param X: data set without the labels\n",
    "    :param y: labels\n",
    "\n",
    "    :returns: None\n",
    "    \"\"\"\n",
    "    pipe: sklearn.pipeline.Pipeline = Pipeline([('scaler', MinMaxScaler()), ('sgd', SGDClassifier())])\n",
    "\n",
    "    parameter_grid: Dict[str, List[Any]] = {'sgd__loss': ['hinge', 'log', 'modified_huber', 'perceptron'],\n",
    "                                            'sgd__penalty': ['l2', 'l1', 'elasticnet'], 'sgd__alpha': [0.0001, 0.0002]}\n",
    "\n",
    "    display_performance(pipe, parameter_grid, X, y)"
   ],
   "metadata": {
    "collapsed": false,
    "pycharm": {
     "name": "#%%\n"
    }
   }
  },
  {
   "cell_type": "code",
   "execution_count": 98,
   "outputs": [
    {
     "data": {
      "text/plain": "<IPython.core.display.Markdown object>",
      "text/markdown": "### Abalone"
     },
     "metadata": {},
     "output_type": "display_data"
    },
    {
     "name": "stdout",
     "output_type": "stream",
     "text": [
      "Accuracy: 0.5369970052666002\n"
     ]
    },
    {
     "data": {
      "text/plain": "<IPython.core.display.Markdown object>",
      "text/markdown": "___"
     },
     "metadata": {},
     "output_type": "display_data"
    },
    {
     "data": {
      "text/plain": "<IPython.core.display.Markdown object>",
      "text/markdown": "### Iris"
     },
     "metadata": {},
     "output_type": "display_data"
    },
    {
     "name": "stdout",
     "output_type": "stream",
     "text": [
      "Accuracy: 0.9133333333333333\n"
     ]
    },
    {
     "data": {
      "text/plain": "<IPython.core.display.Markdown object>",
      "text/markdown": "___"
     },
     "metadata": {},
     "output_type": "display_data"
    },
    {
     "data": {
      "text/plain": "<IPython.core.display.Markdown object>",
      "text/markdown": "### Soybean"
     },
     "metadata": {},
     "output_type": "display_data"
    },
    {
     "name": "stdout",
     "output_type": "stream",
     "text": [
      "Accuracy: 0.975\n"
     ]
    },
    {
     "data": {
      "text/plain": "<IPython.core.display.Markdown object>",
      "text/markdown": "___"
     },
     "metadata": {},
     "output_type": "display_data"
    },
    {
     "data": {
      "text/plain": "<IPython.core.display.Markdown object>",
      "text/markdown": "### Zoo"
     },
     "metadata": {},
     "output_type": "display_data"
    },
    {
     "name": "stdout",
     "output_type": "stream",
     "text": [
      "Accuracy: 0.99\n"
     ]
    },
    {
     "data": {
      "text/plain": "<IPython.core.display.Markdown object>",
      "text/markdown": "___"
     },
     "metadata": {},
     "output_type": "display_data"
    },
    {
     "data": {
      "text/plain": "<IPython.core.display.Markdown object>",
      "text/markdown": "### Post-operative"
     },
     "metadata": {},
     "output_type": "display_data"
    },
    {
     "name": "stdout",
     "output_type": "stream",
     "text": [
      "Accuracy: 0.9333333333333333\n"
     ]
    },
    {
     "data": {
      "text/plain": "<IPython.core.display.Markdown object>",
      "text/markdown": "___"
     },
     "metadata": {},
     "output_type": "display_data"
    }
   ],
   "source": [
    "for dataset in datasets.keys():\n",
    "    display(Markdown(f'### {dataset}'))\n",
    "\n",
    "    performance_SGDClassifier(*datasets[dataset])\n",
    "\n",
    "    display(Markdown(f'___'))"
   ],
   "metadata": {
    "collapsed": false,
    "pycharm": {
     "name": "#%%\n"
    }
   }
  },
  {
   "cell_type": "markdown",
   "source": [
    "<a id='rf_performance'></a>\n",
    "## RandomForestClassifier"
   ],
   "metadata": {
    "collapsed": false,
    "pycharm": {
     "name": "#%% md\n"
    }
   }
  },
  {
   "cell_type": "code",
   "execution_count": 99,
   "outputs": [],
   "source": [
    "def performance_RandomForestClassifier(X: np.ndarray, y: np.ndarray) -> None:\n",
    "    \"\"\"\n",
    "    Applies cross_val_score on the RandomForestClassifier model with 10 fold-cross validation\n",
    "    using the best hyperparameters found with GridSearch with 4 fold-cross validation.\n",
    "\n",
    "    :param X: data set without the labels\n",
    "    :param y: labels\n",
    "\n",
    "    :returns: None\n",
    "    \"\"\"\n",
    "    pipe: sklearn.pipeline.Pipeline = Pipeline([('scaler', MinMaxScaler()), ('rf', RandomForestClassifier())])\n",
    "\n",
    "    parameter_grid: Dict[str, List[Any]] = {'rf__n_estimators': list(range(1, 10)),\n",
    "                                            'rf__criterion': ['entropy', 'gini'], 'rf__max_depth': list(range(3, 9))}\n",
    "\n",
    "    display_performance(pipe, parameter_grid, X, y)"
   ],
   "metadata": {
    "collapsed": false,
    "pycharm": {
     "name": "#%%\n"
    }
   }
  },
  {
   "cell_type": "code",
   "execution_count": 100,
   "outputs": [
    {
     "data": {
      "text/plain": "<IPython.core.display.Markdown object>",
      "text/markdown": "### Abalone"
     },
     "metadata": {},
     "output_type": "display_data"
    },
    {
     "name": "stdout",
     "output_type": "stream",
     "text": [
      "Accuracy: 0.541302077954861\n"
     ]
    },
    {
     "data": {
      "text/plain": "<IPython.core.display.Markdown object>",
      "text/markdown": "___"
     },
     "metadata": {},
     "output_type": "display_data"
    },
    {
     "data": {
      "text/plain": "<IPython.core.display.Markdown object>",
      "text/markdown": "### Iris"
     },
     "metadata": {},
     "output_type": "display_data"
    },
    {
     "name": "stdout",
     "output_type": "stream",
     "text": [
      "Accuracy: 0.9466666666666667\n"
     ]
    },
    {
     "data": {
      "text/plain": "<IPython.core.display.Markdown object>",
      "text/markdown": "___"
     },
     "metadata": {},
     "output_type": "display_data"
    },
    {
     "data": {
      "text/plain": "<IPython.core.display.Markdown object>",
      "text/markdown": "### Soybean"
     },
     "metadata": {},
     "output_type": "display_data"
    },
    {
     "name": "stdout",
     "output_type": "stream",
     "text": [
      "Accuracy: 0.9800000000000001\n"
     ]
    },
    {
     "data": {
      "text/plain": "<IPython.core.display.Markdown object>",
      "text/markdown": "___"
     },
     "metadata": {},
     "output_type": "display_data"
    },
    {
     "data": {
      "text/plain": "<IPython.core.display.Markdown object>",
      "text/markdown": "### Zoo"
     },
     "metadata": {},
     "output_type": "display_data"
    },
    {
     "name": "stdout",
     "output_type": "stream",
     "text": [
      "Accuracy: 0.9099999999999999\n"
     ]
    },
    {
     "data": {
      "text/plain": "<IPython.core.display.Markdown object>",
      "text/markdown": "___"
     },
     "metadata": {},
     "output_type": "display_data"
    },
    {
     "data": {
      "text/plain": "<IPython.core.display.Markdown object>",
      "text/markdown": "### Post-operative"
     },
     "metadata": {},
     "output_type": "display_data"
    },
    {
     "name": "stdout",
     "output_type": "stream",
     "text": [
      "Accuracy: 0.8555555555555555\n"
     ]
    },
    {
     "data": {
      "text/plain": "<IPython.core.display.Markdown object>",
      "text/markdown": "___"
     },
     "metadata": {},
     "output_type": "display_data"
    }
   ],
   "source": [
    "for dataset in datasets.keys():\n",
    "    display(Markdown(f'### {dataset}'))\n",
    "\n",
    "    performance_RandomForestClassifier(*datasets[dataset])\n",
    "\n",
    "    display(Markdown(f'___'))"
   ],
   "metadata": {
    "collapsed": false,
    "pycharm": {
     "name": "#%%\n"
    }
   }
  },
  {
   "cell_type": "markdown",
   "source": [
    "<a id='MLP_performance'></a>\n",
    "## MultiLayerPerceptronClassifier"
   ],
   "metadata": {
    "collapsed": false,
    "pycharm": {
     "name": "#%% md\n"
    }
   }
  },
  {
   "cell_type": "code",
   "execution_count": 101,
   "outputs": [],
   "source": [
    "def performance_MLPClassifier(X: np.ndarray, y: np.ndarray) -> None:\n",
    "    \"\"\"\n",
    "    Applies cross_val_score on the MLPClassifier model with 10 fold-cross validation\n",
    "    using the best hyperparameters found with GridSearch with 4 fold-cross validation.\n",
    "\n",
    "    :param X: data set without the labels\n",
    "    :param y: labels\n",
    "\n",
    "    :returns: None\n",
    "    \"\"\"\n",
    "    pipe: sklearn.pipeline.Pipeline = Pipeline([('scaler', MinMaxScaler()), ('MLP', MLPClassifier())])\n",
    "\n",
    "    parameter_grid: Dict[str, List[Any]] = {'MLP__activation': ['tanh', 'relu'], 'MLP__solver': ['sgd', 'adam']}\n",
    "\n",
    "    display_performance(pipe, parameter_grid, X, y)"
   ],
   "metadata": {
    "collapsed": false,
    "pycharm": {
     "name": "#%%\n"
    }
   }
  },
  {
   "cell_type": "code",
   "execution_count": 102,
   "outputs": [
    {
     "data": {
      "text/plain": "<IPython.core.display.Markdown object>",
      "text/markdown": "### Abalone"
     },
     "metadata": {},
     "output_type": "display_data"
    },
    {
     "name": "stdout",
     "output_type": "stream",
     "text": [
      "Accuracy: 0.5568632175599233\n"
     ]
    },
    {
     "data": {
      "text/plain": "<IPython.core.display.Markdown object>",
      "text/markdown": "___"
     },
     "metadata": {},
     "output_type": "display_data"
    },
    {
     "data": {
      "text/plain": "<IPython.core.display.Markdown object>",
      "text/markdown": "### Iris"
     },
     "metadata": {},
     "output_type": "display_data"
    },
    {
     "name": "stdout",
     "output_type": "stream",
     "text": [
      "Accuracy: 0.9333333333333333\n"
     ]
    },
    {
     "data": {
      "text/plain": "<IPython.core.display.Markdown object>",
      "text/markdown": "___"
     },
     "metadata": {},
     "output_type": "display_data"
    },
    {
     "data": {
      "text/plain": "<IPython.core.display.Markdown object>",
      "text/markdown": "### Soybean"
     },
     "metadata": {},
     "output_type": "display_data"
    },
    {
     "name": "stdout",
     "output_type": "stream",
     "text": [
      "Accuracy: 1.0\n"
     ]
    },
    {
     "data": {
      "text/plain": "<IPython.core.display.Markdown object>",
      "text/markdown": "___"
     },
     "metadata": {},
     "output_type": "display_data"
    },
    {
     "data": {
      "text/plain": "<IPython.core.display.Markdown object>",
      "text/markdown": "### Zoo"
     },
     "metadata": {},
     "output_type": "display_data"
    },
    {
     "name": "stdout",
     "output_type": "stream",
     "text": [
      "Accuracy: 0.96\n"
     ]
    },
    {
     "data": {
      "text/plain": "<IPython.core.display.Markdown object>",
      "text/markdown": "___"
     },
     "metadata": {},
     "output_type": "display_data"
    },
    {
     "data": {
      "text/plain": "<IPython.core.display.Markdown object>",
      "text/markdown": "### Post-operative"
     },
     "metadata": {},
     "output_type": "display_data"
    },
    {
     "name": "stdout",
     "output_type": "stream",
     "text": [
      "Accuracy: 0.9555555555555555\n"
     ]
    },
    {
     "data": {
      "text/plain": "<IPython.core.display.Markdown object>",
      "text/markdown": "___"
     },
     "metadata": {},
     "output_type": "display_data"
    }
   ],
   "source": [
    "for dataset in datasets.keys():\n",
    "    display(Markdown(f'### {dataset}'))\n",
    "\n",
    "    performance_MLPClassifier(*datasets[dataset])\n",
    "\n",
    "    display(Markdown(f'___'))"
   ],
   "metadata": {
    "collapsed": false,
    "pycharm": {
     "name": "#%%\n"
    }
   }
  },
  {
   "cell_type": "markdown",
   "source": [
    "<a id='SVC_performance'></a>\n",
    "## SVClassifier"
   ],
   "metadata": {
    "collapsed": false,
    "pycharm": {
     "name": "#%% md\n"
    }
   }
  },
  {
   "cell_type": "code",
   "execution_count": 103,
   "outputs": [],
   "source": [
    "def performance_SVClassifier(X: np.ndarray, y: np.ndarray) -> None:\n",
    "    \"\"\"\n",
    "    Applies cross_val_score on the SVClassifier model with 10 fold-cross validation\n",
    "    using the best hyperparameters found with GridSearch with 4 fold-cross validation.\n",
    "\n",
    "    :param X: data set without the labels\n",
    "    :param y: labels\n",
    "\n",
    "    :returns: None\n",
    "    \"\"\"\n",
    "    pipe: sklearn.pipeline.Pipeline = Pipeline([('scaler', MinMaxScaler()), ('SVC', SVC())])\n",
    "\n",
    "    parameter_grid: Dict[str, List[Any]] = {'SVC__C': [0.5, 1.0, 1.5], 'SVC__kernel': ['linear', 'poly', 'rbf', 'sigmoid'], 'SVC__gamma' : ['scale', 'auto']}\n",
    "\n",
    "    display_performance(pipe, parameter_grid, X, y)"
   ],
   "metadata": {
    "collapsed": false,
    "pycharm": {
     "name": "#%%\n"
    }
   }
  },
  {
   "cell_type": "code",
   "execution_count": 104,
   "metadata": {
    "pycharm": {
     "name": "#%%\n"
    }
   },
   "outputs": [
    {
     "data": {
      "text/plain": "<IPython.core.display.Markdown object>",
      "text/markdown": "### Abalone"
     },
     "metadata": {},
     "output_type": "display_data"
    },
    {
     "name": "stdout",
     "output_type": "stream",
     "text": [
      "Accuracy: 0.5503981503792181\n"
     ]
    },
    {
     "data": {
      "text/plain": "<IPython.core.display.Markdown object>",
      "text/markdown": "___"
     },
     "metadata": {},
     "output_type": "display_data"
    },
    {
     "data": {
      "text/plain": "<IPython.core.display.Markdown object>",
      "text/markdown": "### Iris"
     },
     "metadata": {},
     "output_type": "display_data"
    },
    {
     "name": "stdout",
     "output_type": "stream",
     "text": [
      "Accuracy: 0.9533333333333334\n"
     ]
    },
    {
     "data": {
      "text/plain": "<IPython.core.display.Markdown object>",
      "text/markdown": "___"
     },
     "metadata": {},
     "output_type": "display_data"
    },
    {
     "data": {
      "text/plain": "<IPython.core.display.Markdown object>",
      "text/markdown": "### Soybean"
     },
     "metadata": {},
     "output_type": "display_data"
    },
    {
     "name": "stdout",
     "output_type": "stream",
     "text": [
      "Accuracy: 1.0\n"
     ]
    },
    {
     "data": {
      "text/plain": "<IPython.core.display.Markdown object>",
      "text/markdown": "___"
     },
     "metadata": {},
     "output_type": "display_data"
    },
    {
     "data": {
      "text/plain": "<IPython.core.display.Markdown object>",
      "text/markdown": "### Zoo"
     },
     "metadata": {},
     "output_type": "display_data"
    },
    {
     "name": "stdout",
     "output_type": "stream",
     "text": [
      "Accuracy: 1.0\n"
     ]
    },
    {
     "data": {
      "text/plain": "<IPython.core.display.Markdown object>",
      "text/markdown": "___"
     },
     "metadata": {},
     "output_type": "display_data"
    },
    {
     "data": {
      "text/plain": "<IPython.core.display.Markdown object>",
      "text/markdown": "### Post-operative"
     },
     "metadata": {},
     "output_type": "display_data"
    },
    {
     "name": "stdout",
     "output_type": "stream",
     "text": [
      "Accuracy: 0.9666666666666668\n"
     ]
    },
    {
     "data": {
      "text/plain": "<IPython.core.display.Markdown object>",
      "text/markdown": "___"
     },
     "metadata": {},
     "output_type": "display_data"
    }
   ],
   "source": [
    "for dataset in datasets.keys():\n",
    "    display(Markdown(f'### {dataset}'))\n",
    "\n",
    "    performance_SVClassifier(*datasets[dataset])\n",
    "\n",
    "    display(Markdown(f'___'))"
   ]
  },
  {
   "cell_type": "code",
   "execution_count": 104,
   "metadata": {
    "pycharm": {
     "name": "#%%\n"
    }
   },
   "outputs": [],
   "source": []
  }
 ],
 "metadata": {
  "kernelspec": {
   "display_name": "Python 3 (ipykernel)",
   "language": "python",
   "name": "python3"
  },
  "language_info": {
   "codemirror_mode": {
    "name": "ipython",
    "version": 3
   },
   "file_extension": ".py",
   "mimetype": "text/x-python",
   "name": "python",
   "nbconvert_exporter": "python",
   "pygments_lexer": "ipython3",
   "version": "3.10.5"
  },
  "notify_time": "5",
  "toc": {
   "base_numbering": 1,
   "nav_menu": {},
   "number_sections": true,
   "sideBar": true,
   "skip_h1_title": false,
   "title_cell": "Table of Contents",
   "title_sidebar": "Contents",
   "toc_cell": false,
   "toc_position": {},
   "toc_section_display": true,
   "toc_window_display": false
  },
  "varInspector": {
   "cols": {
    "lenName": 16,
    "lenType": 16,
    "lenVar": 40
   },
   "kernels_config": {
    "python": {
     "delete_cmd_postfix": "",
     "delete_cmd_prefix": "del ",
     "library": "var_list.py",
     "varRefreshCmd": "print(var_dic_list())"
    },
    "r": {
     "delete_cmd_postfix": ") ",
     "delete_cmd_prefix": "rm(",
     "library": "var_list.r",
     "varRefreshCmd": "cat(var_dic_list()) "
    }
   },
   "types_to_exclude": [
    "module",
    "function",
    "builtin_function_or_method",
    "instance",
    "_Feature"
   ],
   "window_display": false
  }
 },
 "nbformat": 4,
 "nbformat_minor": 4
}